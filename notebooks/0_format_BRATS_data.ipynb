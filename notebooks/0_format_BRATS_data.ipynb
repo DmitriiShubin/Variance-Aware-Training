{
 "cells": [
  {
   "cell_type": "code",
   "execution_count": 1,
   "metadata": {},
   "outputs": [],
   "source": [
    "import os\n",
    "import numpy as np\n",
    "import nibabel as nib\n",
    "import matplotlib.pyplot as plt\n",
    "import torch\n",
    "from tqdm import tqdm\n",
    "import json\n",
    "from sklearn.model_selection import GroupKFold"
   ]
  },
  {
   "cell_type": "markdown",
   "metadata": {},
   "source": [
    "# Format Data"
   ]
  },
  {
   "cell_type": "code",
   "execution_count": 174,
   "metadata": {},
   "outputs": [],
   "source": [
    "def permute(image):\n",
    "    image = torch.Tensor(image)\n",
    "    image = image.permute(3,0,1,2).numpy()\n",
    "    return image"
   ]
  },
  {
   "cell_type": "code",
   "execution_count": 203,
   "metadata": {},
   "outputs": [],
   "source": [
    "DATA_PATH = '../data/brats_dataset/raw_data/'\n",
    "OUT_PATH = '../data/brats_dataset/processed_data/'"
   ]
  },
  {
   "cell_type": "code",
   "execution_count": 206,
   "metadata": {},
   "outputs": [],
   "source": [
    "patient_list = [i for i in os.listdir(DATA_PATH) if i.find('g_')!=-1]\n",
    "n_slices_width = 70"
   ]
  },
  {
   "cell_type": "code",
   "execution_count": 207,
   "metadata": {},
   "outputs": [
    {
     "name": "stderr",
     "output_type": "stream",
     "text": [
      "100%|██████████| 369/369 [08:16<00:00,  1.34s/it]\n"
     ]
    }
   ],
   "source": [
    "for patient in tqdm(patient_list):\n",
    "    img_flair = np.array(nib.load(DATA_PATH+patient+'/'+patient+'_flair.nii.gz').dataobj)\n",
    "    img_t1 = np.array(nib.load(DATA_PATH+patient+'/'+patient+'_t1.nii.gz').dataobj)\n",
    "    img_t1ce = np.array(nib.load(DATA_PATH+patient+'/'+patient+'_t1ce.nii.gz').dataobj)\n",
    "    img_t2 = np.array(nib.load(DATA_PATH+patient+'/'+patient+'_t2.nii.gz').dataobj)\n",
    "    seg = np.array(nib.load(DATA_PATH+patient+'/'+patient+'_seg.nii.gz').dataobj)\n",
    "    \n",
    "    img = np.stack([img_flair,img_t1,img_t1ce,img_t2],axis=0)\n",
    "    \n",
    "    seg = seg.reshape(1,seg.shape[0],seg.shape[1],seg.shape[2])\n",
    "    seg[seg==4] = 3\n",
    "\n",
    "    os.makedirs(OUT_PATH+patient,exist_ok=True)\n",
    "    \n",
    "    for i in range(img.shape[-1]//n_slices_width):\n",
    "        temp = img[:,:,:,i*n_slices_width:(i+1)*n_slices_width]\n",
    "        temp_y = seg[:,:,:,i*n_slices_width:(i+1)*n_slices_width]\n",
    "        \n",
    "        if temp.shape[1]> 256:\n",
    "            dim = temp.shape[1]\n",
    "            dim -= 256\n",
    "            dim /= 2\n",
    "            dim = int(dim)\n",
    "            temp = temp[:,dim:-dim,dim:-dim]\n",
    "            temp_y = temp_y[:,dim:-dim,dim:-dim]\n",
    "        \n",
    "        #save\n",
    "        np.save(OUT_PATH+patient+f'/{i}_voxels.npy',temp)\n",
    "        np.save(OUT_PATH+patient+f'/{i}_labels.npy',temp_y)\n",
    "    \n"
   ]
  },
  {
   "cell_type": "code",
   "execution_count": 69,
   "metadata": {},
   "outputs": [
    {
     "data": {
      "text/plain": [
       "(1, 240, 240, 155)"
      ]
     },
     "execution_count": 69,
     "metadata": {},
     "output_type": "execute_result"
    }
   ],
   "source": [
    "seg.shape"
   ]
  },
  {
   "cell_type": "code",
   "execution_count": 159,
   "metadata": {},
   "outputs": [],
   "source": [
    "temp = seg[:,:,:,100:101].copy()\n",
    "temp_y = one_hot_voxel(temp)\n",
    "\n",
    "temp_y = np.expand_dims(temp_y,axis=0)"
   ]
  },
  {
   "cell_type": "code",
   "execution_count": 160,
   "metadata": {},
   "outputs": [],
   "source": [
    "temp_y = torch.tensor(temp_y[:,:,:,:,0])\n",
    "\n",
    "pred = temp_y.permute(0, 2, 3,1)\n",
    "pred = pred.reshape(-1, pred.shape[-1])"
   ]
  },
  {
   "cell_type": "code",
   "execution_count": 163,
   "metadata": {},
   "outputs": [
    {
     "data": {
      "text/plain": [
       "tensor([0, 0, 1, 0], dtype=torch.int32)"
      ]
     },
     "execution_count": 163,
     "metadata": {},
     "output_type": "execute_result"
    }
   ],
   "source": [
    "temp_y[0,:,150,150]"
   ]
  },
  {
   "cell_type": "code",
   "execution_count": 162,
   "metadata": {},
   "outputs": [
    {
     "data": {
      "text/plain": [
       "tensor([1, 0, 0, 0], dtype=torch.int32)"
      ]
     },
     "execution_count": 162,
     "metadata": {},
     "output_type": "execute_result"
    }
   ],
   "source": [
    "pred[22500,:]"
   ]
  },
  {
   "cell_type": "code",
   "execution_count": 121,
   "metadata": {},
   "outputs": [
    {
     "data": {
      "text/plain": [
       "(array([28492, 28493, 28494, ..., 38554, 38555, 38556]),)"
      ]
     },
     "execution_count": 121,
     "metadata": {},
     "output_type": "execute_result"
    }
   ],
   "source": [
    "np.where(pred[:,2]==1)"
   ]
  },
  {
   "cell_type": "code",
   "execution_count": 202,
   "metadata": {},
   "outputs": [
    {
     "data": {
      "text/plain": [
       "<matplotlib.image.AxesImage at 0x7fbca6c85c50>"
      ]
     },
     "execution_count": 202,
     "metadata": {},
     "output_type": "execute_result"
    },
    {
     "data": {
      "image/png": "[encoded data removed]",
      "text/plain": [
       "<Figure size 432x288 with 1 Axes>"
      ]
     },
     "metadata": {
      "needs_background": "light"
     },
     "output_type": "display_data"
    }
   ],
   "source": [
    "plt.imshow(seg[0,:,:,100])"
   ]
  },
  {
   "cell_type": "code",
   "execution_count": 94,
   "metadata": {},
   "outputs": [
    {
     "data": {
      "text/plain": [
       "<matplotlib.image.AxesImage at 0x7fbcb7bc2590>"
      ]
     },
     "execution_count": 94,
     "metadata": {},
     "output_type": "execute_result"
    },
    {
     "data": {
      "image/png": "[encoded data removed]",
      "text/plain": [
       "<Figure size 432x288 with 1 Axes>"
      ]
     },
     "metadata": {
      "needs_background": "light"
     },
     "output_type": "display_data"
    }
   ],
   "source": [
    "plt.imshow(temp_y[0,:,:,0])"
   ]
  },
  {
   "cell_type": "code",
   "execution_count": 166,
   "metadata": {},
   "outputs": [],
   "source": [
    "def one_hot_voxel(y):\n",
    "    y = np.transpose(y.astype(np.int32), (1, 2, 3, 0))\n",
    "    y = np.eye(4)[y[:, :, :, -1]]\n",
    "    y = np.transpose(y.astype(np.int32), (3,0,1,2))\n",
    "    return y"
   ]
  },
  {
   "cell_type": "markdown",
   "metadata": {},
   "source": [
    "# Prepare split tables"
   ]
  },
  {
   "cell_type": "code",
   "execution_count": 178,
   "metadata": {},
   "outputs": [],
   "source": [
    "TABLE_PATH = '../data/split_tables/brats/'"
   ]
  },
  {
   "cell_type": "code",
   "execution_count": 179,
   "metadata": {},
   "outputs": [
    {
     "name": "stdout",
     "output_type": "stream",
     "text": [
      "Total number of patients: 23\n"
     ]
    }
   ],
   "source": [
    "patient_list = [OUT_PATH[1:]+i for i in os.listdir(OUT_PATH) if i.find('.')==-1]\n",
    "print(f'Total number of patients: {len(patient_list)}')"
   ]
  },
  {
   "cell_type": "code",
   "execution_count": 180,
   "metadata": {},
   "outputs": [],
   "source": [
    "patient_arr = []\n",
    "records = []\n",
    "for patient in patient_list:\n",
    "    records += [patient+'/'+i for i in os.listdir('.'+patient) if i.find('voxels')!=-1]\n",
    "    patient_arr += [patient]*len([patient+'/'+i for i in os.listdir('.'+patient) if i.find('voxels')!=-1])\n",
    "    \n",
    "records = np.array(records)\n",
    "patient_arr = np.array(patient_arr)"
   ]
  },
  {
   "cell_type": "code",
   "execution_count": 181,
   "metadata": {},
   "outputs": [],
   "source": [
    "#create test\n",
    "kf = GroupKFold(n_splits=2)\n",
    "\n",
    "for (train,test) in kf.split(records,records,patient_arr):\n",
    "    \n",
    "    records_test = records[test]\n",
    "    \n",
    "    \n",
    "    #create test\n",
    "    split = {\n",
    "            'test': records_test.tolist(),\n",
    "        }\n",
    "    \n",
    "    with open(f'{TABLE_PATH}test_split_table.json', 'w') as outfile:\n",
    "            json.dump(split, outfile)\n",
    "    break\n",
    "\n",
    "patient_arr = patient_arr[train]\n",
    "records = records[train]"
   ]
  },
  {
   "cell_type": "code",
   "execution_count": 182,
   "metadata": {},
   "outputs": [],
   "source": [
    "#create train and validation\n",
    "kf = GroupKFold(n_splits=2)\n",
    "\n",
    "for (train,test) in kf.split(records,records,patient_arr):\n",
    "    \n",
    "    records_test = records[test]\n",
    "    \n",
    "    \n",
    "    #create test\n",
    "    split = {\n",
    "            'test': records_test.tolist(),\n",
    "        }\n",
    "    \n",
    "    with open(f'{TABLE_PATH}test_split_table.json', 'w') as outfile:\n",
    "            json.dump(split, outfile)\n",
    "    break\n",
    "\n",
    "patient_arr = patient_arr[train]\n",
    "records = records[train]"
   ]
  },
  {
   "cell_type": "code",
   "execution_count": 183,
   "metadata": {},
   "outputs": [],
   "source": [
    "#create train and validation\n",
    "n_patients = [1,2,4,8]\n",
    "\n",
    "patients_unique = np.unique(patient_arr)\n",
    "\n",
    "for i in n_patients:\n",
    "    \n",
    "    train_patients = patients_unique[:i]\n",
    "    train_records = np.empty(0)\n",
    "    for patient in train_patients.tolist():\n",
    "        train_records = np.append(train_records,records[patient_arr==patient],axis=0)\n",
    "    \n",
    "    val_patients = patients_unique[-2:]\n",
    "    val_records = np.empty(0)\n",
    "    for patient in val_patients.tolist():\n",
    "        val_records = np.append(val_records,records[patient_arr==patient],axis=0)\n",
    "    \n",
    "    \n",
    "    \n",
    "    split = {\n",
    "            'train': train_records.tolist(),\n",
    "            'val': val_records.tolist(),\n",
    "            'pretrain': records.tolist(),\n",
    "        }\n",
    "    with open(f'{TABLE_PATH}{i}_split_table.json', 'w') as outfile:\n",
    "            json.dump(split, outfile)\n"
   ]
  },
  {
   "cell_type": "code",
   "execution_count": 184,
   "metadata": {},
   "outputs": [],
   "source": [
    "#create UB\n",
    "\n",
    "train_patients = patients_unique[:patients_unique.shape[0]//2]\n",
    "train_records = np.empty(0)\n",
    "for patient in train_patients.tolist():\n",
    "    train_records = np.append(train_records,records[patient_arr==patient],axis=0)\n",
    "\n",
    "val_patients = patients_unique[patients_unique.shape[0]//2:]\n",
    "val_records = np.empty(0)\n",
    "for patient in val_patients.tolist():\n",
    "    val_records = np.append(val_records,records[patient_arr==patient],axis=0)\n",
    "\n",
    "split = {\n",
    "        'train': train_records.tolist(),\n",
    "        'val': val_records.tolist(),\n",
    "        }\n",
    "with open(f'{TABLE_PATH}UB_split_table.json', 'w') as outfile:\n",
    "            json.dump(split, outfile)\n"
   ]
  },
  {
   "cell_type": "code",
   "execution_count": null,
   "metadata": {},
   "outputs": [],
   "source": []
  }
 ],
 "metadata": {
  "kernelspec": {
   "display_name": "Python 3",
   "language": "python",
   "name": "python3"
  },
  "language_info": {
   "codemirror_mode": {
    "name": "ipython",
    "version": 3
   },
   "file_extension": ".py",
   "mimetype": "text/x-python",
   "name": "python",
   "nbconvert_exporter": "python",
   "pygments_lexer": "ipython3",
   "version": "3.7.9"
  }
 },
 "nbformat": 4,
 "nbformat_minor": 4
}
