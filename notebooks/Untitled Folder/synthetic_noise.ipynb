{
 "cells": [
  {
   "cell_type": "markdown",
   "metadata": {},
   "source": [
    "# PhysioNet/Computing in Cardiology Challenge 2020\n",
    "## Classification of 12-lead ECGs\n",
    "### Synthetic Noise Generation"
   ]
  },
  {
   "cell_type": "markdown",
   "metadata": {},
   "source": [
    "# Setup Notebook"
   ]
  },
  {
   "cell_type": "code",
   "execution_count": 1,
   "metadata": {},
   "outputs": [
    {
     "ename": "ImportError",
     "evalue": "cannot import name 'FS' from 'kardioml' (C:\\Users\\sebig\\Documents\\Code\\physionet-challenge-2020\\kardioml\\__init__.py)",
     "output_type": "error",
     "traceback": [
      "\u001b[1;31m---------------------------------------------------------------------------\u001b[0m",
      "\u001b[1;31mImportError\u001b[0m                               Traceback (most recent call last)",
      "\u001b[1;32m<ipython-input-1-a3a12e000e89>\u001b[0m in \u001b[0;36m<module>\u001b[1;34m\u001b[0m\n\u001b[0;32m     10\u001b[0m \u001b[1;31m# Import local Libraries\u001b[0m\u001b[1;33m\u001b[0m\u001b[1;33m\u001b[0m\u001b[1;33m\u001b[0m\u001b[0m\n\u001b[0;32m     11\u001b[0m \u001b[0msys\u001b[0m\u001b[1;33m.\u001b[0m\u001b[0mpath\u001b[0m\u001b[1;33m.\u001b[0m\u001b[0minsert\u001b[0m\u001b[1;33m(\u001b[0m\u001b[1;36m0\u001b[0m\u001b[1;33m,\u001b[0m \u001b[0mos\u001b[0m\u001b[1;33m.\u001b[0m\u001b[0mpath\u001b[0m\u001b[1;33m.\u001b[0m\u001b[0mdirname\u001b[0m\u001b[1;33m(\u001b[0m\u001b[0mos\u001b[0m\u001b[1;33m.\u001b[0m\u001b[0mpath\u001b[0m\u001b[1;33m.\u001b[0m\u001b[0mabspath\u001b[0m\u001b[1;33m(\u001b[0m\u001b[0mos\u001b[0m\u001b[1;33m.\u001b[0m\u001b[0mgetcwd\u001b[0m\u001b[1;33m(\u001b[0m\u001b[1;33m)\u001b[0m\u001b[1;33m)\u001b[0m\u001b[1;33m)\u001b[0m\u001b[1;33m)\u001b[0m\u001b[1;33m\u001b[0m\u001b[1;33m\u001b[0m\u001b[0m\n\u001b[1;32m---> 12\u001b[1;33m \u001b[1;32mfrom\u001b[0m \u001b[0mkardioml\u001b[0m \u001b[1;32mimport\u001b[0m \u001b[0mDATA_PATH\u001b[0m\u001b[1;33m,\u001b[0m \u001b[0mFS\u001b[0m\u001b[1;33m,\u001b[0m \u001b[0mLABELS_LOOKUP\u001b[0m\u001b[1;33m,\u001b[0m \u001b[0mECG_LEADS\u001b[0m\u001b[1;33m\u001b[0m\u001b[1;33m\u001b[0m\u001b[0m\n\u001b[0m\u001b[0;32m     13\u001b[0m \u001b[1;33m\u001b[0m\u001b[0m\n\u001b[0;32m     14\u001b[0m \u001b[1;31m# Configure Notebook\u001b[0m\u001b[1;33m\u001b[0m\u001b[1;33m\u001b[0m\u001b[1;33m\u001b[0m\u001b[0m\n",
      "\u001b[1;31mImportError\u001b[0m: cannot import name 'FS' from 'kardioml' (C:\\Users\\sebig\\Documents\\Code\\physionet-challenge-2020\\kardioml\\__init__.py)"
     ]
    }
   ],
   "source": [
    "# Import 3rd party libraries\n",
    "import os\n",
    "import sys\n",
    "import json\n",
    "import numpy as np\n",
    "import pandas as pd\n",
    "import matplotlib.pylab as plt\n",
    "from ipywidgets import interact, fixed\n",
    "\n",
    "# Import local Libraries\n",
    "sys.path.insert(0, os.path.dirname(os.path.abspath(os.getcwd())))\n",
    "from kardioml import DATA_PATH, FS, LABELS_LOOKUP, ECG_LEADS\n",
    "\n",
    "# Configure Notebook\n",
    "import warnings\n",
    "warnings.filterwarnings('ignore')\n",
    "%matplotlib inline\n",
    "%load_ext autoreload\n",
    "%autoreload 2"
   ]
  },
  {
   "cell_type": "markdown",
   "metadata": {},
   "source": [
    "# Synthetic Noise Generation"
   ]
  },
  {
   "cell_type": "code",
   "execution_count": 2,
   "metadata": {},
   "outputs": [],
   "source": [
    "def gen_bw_noise(sig_t, sig_v, fs, amplitude=0.1):\n",
    "    \"\"\"\n",
    "    Adds baseline wandering to the input signal.\n",
    "\n",
    "    Parameters:\n",
    "      fs: Wandering frequency in Hz\n",
    "      amplitude: Wandering amplitude\n",
    "    \"\"\"\n",
    "    w = 2*np.pi*fs\n",
    "    mod_v = sig_v + amplitude * np.sin(w*sig_t + 20)\n",
    "    return [sig_t, mod_v]\n",
    "\n",
    "def gen_am_noise(sig_t, sig_v, fs, amplitude=0.1):\n",
    "    \"\"\"\n",
    "    Adds amplitude modulation noise to the input signal.\n",
    "\n",
    "    Parameters:\n",
    "      fs: Modulation frequency in Hz\n",
    "      amplitude: Modulation amplitude\n",
    "    \"\"\"\n",
    "    w = 2*np.pi*fs\n",
    "    mod_v = detrend(sig_v)*((1/amplitude)+np.cos(w*sig_t));\n",
    "    return [sig_t, mod_v]\n",
    "\n",
    "def gen_fm_noise(sig_t, sig_v, fs, amplitude=0.05):\n",
    "    \"\"\"\n",
    "    Adds frequency modulation noise to the input signal.\n",
    "\n",
    "    Parameters:\n",
    "      fs: Modulation frequency in Hz\n",
    "      amplitude: Modulation amplitude\n",
    "    \"\"\"\n",
    "    w = 2*np.pi*fs\n",
    "    mod_t = sig_t + amplitude*np.sin(w*sig_t)\n",
    "    mod_v = np.interp(mod_t, sig_t, sig_v)\n",
    "    return [sig_t, mod_v]\n",
    "    "
   ]
  },
  {
   "cell_type": "code",
   "execution_count": 366,
   "metadata": {},
   "outputs": [],
   "source": [
    "import random\n",
    "from scipy.stats import truncnorm\n",
    "\n",
    "\n",
    "def generate_baseline_wandering_noise(waveform, fs, probability=0.5):\n",
    "    \"\"\"Adds baseline wandering to the input signal.\"\"\"\n",
    "    waveform = waveform.squeeze()\n",
    "    if coin_flip(probability):\n",
    "        \n",
    "        # Generate time array\n",
    "        time = np.arange(len(waveform)) * 1 / fs\n",
    "        \n",
    "        # Get number of baseline signals\n",
    "        baseline_signals = random.randint(1, 5)\n",
    "        \n",
    "        # Loop through baseline signals\n",
    "        for baseline_signal in range(baseline_signals):\n",
    "            \n",
    "            # Add noise\n",
    "            waveform += random.uniform(0.01, 0.75) * np.sin(2 * np.pi * random.uniform(0.001, 0.5) * time + random.uniform(0, 60))\n",
    "\n",
    "    return waveform\n",
    "\n",
    "\n",
    "def generate_high_frequency_noise(waveform, fs, probability=0.5):\n",
    "    \"\"\"Adds high frequency sinusoidal noise to the input signal.\"\"\"\n",
    "    waveform = waveform.squeeze()\n",
    "    if coin_flip(probability):\n",
    "        \n",
    "        # Generate time array\n",
    "        time = np.arange(len(waveform)) * 1 / fs\n",
    "\n",
    "        # Add noise\n",
    "        waveform += random.uniform(0.001, 0.3) * np.sin(2 * np.pi * random.uniform(50, 200) * time + random.uniform(0, 60))\n",
    "\n",
    "    return waveform\n",
    "\n",
    "\n",
    "def generate_gaussian_noise(waveform, probability=0.5):\n",
    "    \"\"\"Adds white noise noise to the input signal.\"\"\"\n",
    "    waveform = waveform.squeeze()\n",
    "    if coin_flip(probability):\n",
    "        \n",
    "        waveform += np.random.normal(loc=0.0, scale=random.uniform(0.01, 0.25), size=len(waveform))\n",
    "\n",
    "    return waveform\n",
    "\n",
    "\n",
    "def generate_pulse_noise(waveform, fs, probability=0.5):\n",
    "    \"\"\"Adds gaussian pulse to the input signal.\"\"\"\n",
    "    waveform = waveform.squeeze()\n",
    "    if coin_flip(probability):\n",
    "\n",
    "        # Get pulse\n",
    "        pulse = signal.gaussian(int(len(waveform) * random.uniform(0.05, 0.010)), std=random.randint(50, 200))\n",
    "        pulse = np.diff(pulse)\n",
    "        \n",
    "        # Get remainder\n",
    "        remainder = len(waveform) - len(pulse)\n",
    "        if remainder >= 0:\n",
    "            left_pad = int(remainder * random.uniform(0., 1.))\n",
    "            right_pad = remainder - left_pad\n",
    "            pulse = np.pad(pulse, (left_pad, right_pad), 'constant', constant_values=0)\n",
    "            pulse = pulse / pulse.max()\n",
    "\n",
    "        waveform += pulse * random.uniform(waveform.max()*1.5, waveform.max()*2)\n",
    "        \n",
    "    return waveform\n",
    "\n",
    "\n",
    "def coin_flip(probability):\n",
    "    if random.random() < probability:\n",
    "        return True\n",
    "    return False"
   ]
  },
  {
   "cell_type": "markdown",
   "metadata": {},
   "source": [
    "# Plot Synthetic Noise"
   ]
  },
  {
   "cell_type": "code",
   "execution_count": 367,
   "metadata": {},
   "outputs": [],
   "source": [
    "def waveform_plot(filename_id, filenames, path):\n",
    "    \"\"\"Plot measure vs time.\"\"\"\n",
    "    # Get filename\n",
    "    filename = filenames[filename_id]\n",
    "\n",
    "    # Import waveforms\n",
    "    waveforms = np.load(os.path.join(path, '{}.npy'.format(filename)))\n",
    "    waveforms = (waveforms - waveforms.mean()) / waveforms.std()\n",
    "\n",
    "    # Time array\n",
    "    time = np.arange(waveforms.shape[1]) * 1 / FS\n",
    "\n",
    "    # Setup figure\n",
    "    fig = plt.figure(figsize=(15, 15), facecolor='w')\n",
    "    fig.subplots_adjust(wspace=0, hspace=0.05)\n",
    "    ax1 = plt.subplot2grid((1, 1), (0, 0))\n",
    "\n",
    "    # ECG\n",
    "    ax1.set_title('File Name: {}'.format(filename), fontsize=20, loc='left', x=0)\n",
    "    shift = 0\n",
    "    for channel_id in range(waveforms.shape[0]):\n",
    "        waveform_plot = generate_baseline_wandering_noise(waveform=waveforms[channel_id, :], fs=FS, probability=1.)\n",
    "        waveform_plot = generate_high_frequency_noise(waveform=waveforms[channel_id, :], fs=FS, probability=1.)\n",
    "        # waveform_plot = generate_gaussian_noise(waveform=waveforms[channel_id, :], probability=1.)\n",
    "        waveform_plot = generate_pulse_noise(waveform=waveforms[channel_id, :], fs=FS, probability=1.)\n",
    "        ax1.plot(time, waveform_plot + shift, '-k', lw=2)\n",
    "        ax1.text(0.1, 0.25 + shift, ECG_LEADS[channel_id], color='red', fontsize=16, ha='left')\n",
    "        shift += 3\n",
    "\n",
    "    # Axes labels\n",
    "    ax1.set_xlabel('Time, seconds', fontsize=24)\n",
    "    ax1.set_ylabel('ECG Amplitude, mV', fontsize=24)\n",
    "    ax1.set_xlim([time.min(), time.max()])\n",
    "    plt.xticks(fontsize=14)\n",
    "    plt.yticks(fontsize=14)\n",
    "\n",
    "    plt.show()\n",
    "\n",
    "\n",
    "def waveform_plot_interact():\n",
    "    \"\"\"Launch interactive plotting widget.\"\"\"\n",
    "    # Set data path\n",
    "    path = os.path.join(DATA_PATH, 'physionet_2020', 'formatted')\n",
    "\n",
    "    # Get filenames\n",
    "    filenames = [filename.split('.')[0] for filename in os.listdir(path) if 'npy' in filename]\n",
    "\n",
    "    interact(waveform_plot,\n",
    "             filename_id=(0, len(filenames) - 1, 1),\n",
    "             filenames=fixed(filenames),\n",
    "             path=fixed(path))"
   ]
  },
  {
   "cell_type": "code",
   "execution_count": 368,
   "metadata": {
    "scrolled": false
   },
   "outputs": [
    {
     "data": {
      "application/vnd.jupyter.widget-view+json": {
       "model_id": "9e8f900f027f4aa3b3928f15a3d81fe4",
       "version_major": 2,
       "version_minor": 0
      },
      "text/plain": [
       "interactive(children=(IntSlider(value=3438, description='filename_id', max=6876), Output()), _dom_classes=('wi…"
      ]
     },
     "metadata": {},
     "output_type": "display_data"
    }
   ],
   "source": [
    "# Plot waveforms\n",
    "waveform_plot_interact()"
   ]
  },
  {
   "cell_type": "code",
   "execution_count": null,
   "metadata": {},
   "outputs": [],
   "source": []
  },
  {
   "cell_type": "code",
   "execution_count": null,
   "metadata": {},
   "outputs": [],
   "source": []
  }
 ],
 "metadata": {
  "kernelspec": {
   "display_name": "Python 3",
   "language": "python",
   "name": "python3"
  },
  "language_info": {
   "codemirror_mode": {
    "name": "ipython",
    "version": 3
   },
   "file_extension": ".py",
   "mimetype": "text/x-python",
   "name": "python",
   "nbconvert_exporter": "python",
   "pygments_lexer": "ipython3",
   "version": "3.7.7"
  }
 },
 "nbformat": 4,
 "nbformat_minor": 4
}
