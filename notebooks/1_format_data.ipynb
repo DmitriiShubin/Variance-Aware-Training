{
 "cells": [
  {
   "cell_type": "code",
   "execution_count": 1,
   "metadata": {},
   "outputs": [],
   "source": [
    "import wfdb as wb\n",
    "import pandas as pd\n",
    "import numpy as np\n",
    "import os\n",
    "import matplotlib.pyplot as plt\n",
    "from tqdm import tqdm\n",
    "import json"
   ]
  },
  {
   "cell_type": "code",
   "execution_count": 2,
   "metadata": {},
   "outputs": [],
   "source": [
    "%matplotlib qt"
   ]
  },
  {
   "cell_type": "markdown",
   "metadata": {},
   "source": [
    "# Get list of records"
   ]
  },
  {
   "cell_type": "code",
   "execution_count": 3,
   "metadata": {},
   "outputs": [],
   "source": [
    "files = list(set([i[:-4] for i in os.listdir('../data/raw') if i.find('hea')!=-1]))"
   ]
  },
  {
   "cell_type": "markdown",
   "metadata": {},
   "source": [
    "# Upload a file"
   ]
  },
  {
   "cell_type": "code",
   "execution_count": 11,
   "metadata": {
    "scrolled": true
   },
   "outputs": [
    {
     "name": "stderr",
     "output_type": "stream",
     "text": [
      "100%|██████████| 48/48 [00:05<00:00,  8.35it/s]\n"
     ]
    }
   ],
   "source": [
    "sig_length = 3600\n",
    "\n",
    "labels_list = [\n",
    " 'A', \n",
    " 'E', \n",
    " 'F', \n",
    " 'J', \n",
    " 'L', \n",
    " 'N', \n",
    "  'R', \n",
    " 'S',\n",
    "  'V', \n",
    " 'a', \n",
    " 'e', \n",
    " 'f', \n",
    " 'j', \n",
    " 'x', \n",
    " '|', \n",
    "              ]\n",
    "\n",
    "classes = []\n",
    "\n",
    "for file in tqdm(files):\n",
    "\n",
    "    signal = wb.rdsamp('../data/raw/'+file)\n",
    "    fs = signal[1]['fs']\n",
    "\n",
    "    sig_name = np.array(signal[1]['sig_name'])\n",
    "    \n",
    "    try:\n",
    "        signal = signal[0][:,np.where(sig_name == 'MLII')[0][0]]\n",
    "    except:\n",
    "        continue\n",
    "\n",
    "\n",
    "    annotation = wb.rdann('../data/raw/'+file,'atr').__dict__\n",
    "    annotation_samples = annotation['sample']\n",
    "    annotation = annotation['symbol']\n",
    "    annotation = np.array(annotation)\n",
    "    \n",
    "    \n",
    "\n",
    "    \n",
    "    for i in range(signal.shape[0]//sig_length):\n",
    "        label_arr = 1\n",
    "        temp_signal = signal[i*sig_length:(i+1)*sig_length]\n",
    "        \n",
    "        temp_annotation = annotation[np.where((annotation_samples > i*sig_length) & (annotation_samples < (i+1)*sig_length))]\n",
    "        \n",
    "        if temp_annotation[np.where(temp_annotation == 'N')].shape[0]>0:\n",
    "            label_arr = 0\n",
    "        \n",
    "        \n",
    "        label = {'label':[label_arr]}\n",
    "        label['letters'] = temp_annotation.tolist()\n",
    "        #save files\n",
    "        os.makedirs('../data/formatted/'+file, exist_ok=True)\n",
    "        np.save('../data/formatted/'+file+f'/{i}.npy',temp_signal)\n",
    "        with open('../data/formatted/'+file+f'/{i}.json', 'w') as outfile:\n",
    "            json.dump(label, outfile)\n",
    "    \n",
    "    \n",
    "    "
   ]
  },
  {
   "cell_type": "code",
   "execution_count": null,
   "metadata": {},
   "outputs": [],
   "source": []
  }
 ],
 "metadata": {
  "kernelspec": {
   "display_name": "Python 3",
   "language": "python",
   "name": "python3"
  },
  "language_info": {
   "codemirror_mode": {
    "name": "ipython",
    "version": 3
   },
   "file_extension": ".py",
   "mimetype": "text/x-python",
   "name": "python",
   "nbconvert_exporter": "python",
   "pygments_lexer": "ipython3",
   "version": "3.7.9"
  }
 },
 "nbformat": 4,
 "nbformat_minor": 4
}
