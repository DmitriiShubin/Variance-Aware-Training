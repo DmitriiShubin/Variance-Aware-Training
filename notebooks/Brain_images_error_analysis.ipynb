{
 "cells": [
  {
   "cell_type": "code",
   "execution_count": 1,
   "metadata": {},
   "outputs": [],
   "source": [
    "import pandas as pd\n",
    "import numpy as np\n",
    "import matplotlib.pyplot as plt\n",
    "import os\n",
    "import json\n",
    "import cv2"
   ]
  },
  {
   "cell_type": "code",
   "execution_count": 2,
   "metadata": {},
   "outputs": [],
   "source": [
    "%matplotlib qt"
   ]
  },
  {
   "cell_type": "markdown",
   "metadata": {},
   "source": [
    "# Load some samples"
   ]
  },
  {
   "cell_type": "code",
   "execution_count": 10,
   "metadata": {},
   "outputs": [],
   "source": [
    "DEBUG_PATH = '../data/CV_debug/'\n",
    "DATA_PATH = '../data/brain_images/'\n",
    "\n",
    "subjects = [i for i in os.listdir(DEBUG_PATH) if i.find('.')==-1]\n",
    "\n"
   ]
  },
  {
   "cell_type": "code",
   "execution_count": 8,
   "metadata": {},
   "outputs": [
    {
     "data": {
      "text/plain": [
       "['TCGA_HT_7690_19960312', 'TCGA_DU_6407_19860514']"
      ]
     },
     "execution_count": 8,
     "metadata": {},
     "output_type": "execute_result"
    }
   ],
   "source": [
    "subjects"
   ]
  },
  {
   "cell_type": "code",
   "execution_count": 14,
   "metadata": {},
   "outputs": [
    {
     "data": {
      "image/png": "[encoded data removed]",
      "text/plain": [
       "<Figure size 432x288 with 3 Axes>"
      ]
     },
     "metadata": {
      "needs_background": "light"
     },
     "output_type": "display_data"
    }
   ],
   "source": [
    "subject = subjects[0]\n",
    "\n",
    "images = [i[:-5] for i in os.listdir(DEBUG_PATH+subject) if i.find('.json')!=-1]\n",
    "for image in images:\n",
    "    \n",
    "    mask=cv2.imread(DATA_PATH+subject+'/'+image+'_mask.tif',cv2.IMREAD_COLOR)\n",
    "    img=cv2.imread(DATA_PATH+subject+'/'+image+'.tif',cv2.IMREAD_COLOR)\n",
    "\n",
    "    \n",
    "    predictions = json.load(open(DEBUG_PATH+subject+'/'+image+'.json'))\n",
    "    \n",
    "    img = cv2.cvtColor(img, cv2.COLOR_BGR2GRAY)\n",
    "    mask = cv2.cvtColor(mask, cv2.COLOR_BGR2GRAY)\n",
    "\n",
    "    #image= (image/255)**(0.5)\n",
    "    \n",
    "    f, axarr = plt.subplots(1,3) \n",
    "    axarr[0].imshow(img, cmap='gray')\n",
    "    axarr[1].imshow(mask, cmap='gray')\n",
    "    break\n"
   ]
  },
  {
   "cell_type": "code",
   "execution_count": 17,
   "metadata": {
    "scrolled": true
   },
   "outputs": [],
   "source": []
  },
  {
   "cell_type": "code",
   "execution_count": null,
   "metadata": {},
   "outputs": [],
   "source": []
  }
 ],
 "metadata": {
  "kernelspec": {
   "display_name": "Python 3",
   "language": "python",
   "name": "python3"
  },
  "language_info": {
   "codemirror_mode": {
    "name": "ipython",
    "version": 3
   },
   "file_extension": ".py",
   "mimetype": "text/x-python",
   "name": "python",
   "nbconvert_exporter": "python",
   "pygments_lexer": "ipython3",
   "version": "3.7.9"
  }
 },
 "nbformat": 4,
 "nbformat_minor": 4
}
