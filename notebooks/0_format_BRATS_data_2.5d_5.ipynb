{
 "cells": [
  {
   "cell_type": "code",
   "execution_count": 1,
   "metadata": {},
   "outputs": [],
   "source": [
    "import os\n",
    "import numpy as np\n",
    "import nibabel as nib\n",
    "import matplotlib.pyplot as plt\n",
    "import torch\n",
    "from tqdm import tqdm\n",
    "import json\n",
    "from sklearn.model_selection import GroupKFold"
   ]
  },
  {
   "cell_type": "markdown",
   "metadata": {},
   "source": [
    "# Format Data"
   ]
  },
  {
   "cell_type": "code",
   "execution_count": 174,
   "metadata": {},
   "outputs": [],
   "source": [
    "def permute(image):\n",
    "    image = torch.Tensor(image)\n",
    "    image = image.permute(3,0,1,2).numpy()\n",
    "    return image"
   ]
  },
  {
   "cell_type": "code",
   "execution_count": 276,
   "metadata": {},
   "outputs": [],
   "source": [
    "DATA_PATH = '../data/brats_dataset/raw_data/'\n",
    "OUT_PATH = '../data/brats_dataset/processed_data_3d/'"
   ]
  },
  {
   "cell_type": "code",
   "execution_count": 277,
   "metadata": {},
   "outputs": [],
   "source": [
    "patient_list = [i for i in os.listdir(DATA_PATH) if i.find('g_')!=-1]\n",
    "n_slices_width = 128"
   ]
  },
  {
   "cell_type": "code",
   "execution_count": 278,
   "metadata": {},
   "outputs": [
    {
     "name": "stderr",
     "output_type": "stream",
     "text": [
      " 17%|█▋        | 64/369 [01:21<06:29,  1.28s/it]\n"
     ]
    },
    {
     "ename": "KeyboardInterrupt",
     "evalue": "",
     "output_type": "error",
     "traceback": [
      "\u001b[0;31m---------------------------------------------------------------------------\u001b[0m",
      "\u001b[0;31mKeyboardInterrupt\u001b[0m                         Traceback (most recent call last)",
      "\u001b[0;32m<ipython-input-278-e22a41465474>\u001b[0m in \u001b[0;36m<module>\u001b[0;34m\u001b[0m\n\u001b[1;32m      6\u001b[0m     \u001b[0mseg\u001b[0m \u001b[0;34m=\u001b[0m \u001b[0mnp\u001b[0m\u001b[0;34m.\u001b[0m\u001b[0marray\u001b[0m\u001b[0;34m(\u001b[0m\u001b[0mnib\u001b[0m\u001b[0;34m.\u001b[0m\u001b[0mload\u001b[0m\u001b[0;34m(\u001b[0m\u001b[0mDATA_PATH\u001b[0m\u001b[0;34m+\u001b[0m\u001b[0mpatient\u001b[0m\u001b[0;34m+\u001b[0m\u001b[0;34m'/'\u001b[0m\u001b[0;34m+\u001b[0m\u001b[0mpatient\u001b[0m\u001b[0;34m+\u001b[0m\u001b[0;34m'_seg.nii.gz'\u001b[0m\u001b[0;34m)\u001b[0m\u001b[0;34m.\u001b[0m\u001b[0mdataobj\u001b[0m\u001b[0;34m)\u001b[0m\u001b[0;34m\u001b[0m\u001b[0;34m\u001b[0m\u001b[0m\n\u001b[1;32m      7\u001b[0m \u001b[0;34m\u001b[0m\u001b[0m\n\u001b[0;32m----> 8\u001b[0;31m     \u001b[0mimg\u001b[0m \u001b[0;34m=\u001b[0m \u001b[0mnp\u001b[0m\u001b[0;34m.\u001b[0m\u001b[0mstack\u001b[0m\u001b[0;34m(\u001b[0m\u001b[0;34m[\u001b[0m\u001b[0mimg_flair\u001b[0m\u001b[0;34m,\u001b[0m\u001b[0mimg_t1\u001b[0m\u001b[0;34m,\u001b[0m\u001b[0mimg_t1ce\u001b[0m\u001b[0;34m,\u001b[0m\u001b[0mimg_t2\u001b[0m\u001b[0;34m]\u001b[0m\u001b[0;34m,\u001b[0m\u001b[0maxis\u001b[0m\u001b[0;34m=\u001b[0m\u001b[0;36m0\u001b[0m\u001b[0;34m)\u001b[0m\u001b[0;34m\u001b[0m\u001b[0;34m\u001b[0m\u001b[0m\n\u001b[0m\u001b[1;32m      9\u001b[0m     \u001b[0;31m#img = np.concatenate([img,np.zeros((4,240,240,5))],axis=3)\u001b[0m\u001b[0;34m\u001b[0m\u001b[0;34m\u001b[0m\u001b[0;34m\u001b[0m\u001b[0m\n\u001b[1;32m     10\u001b[0m \u001b[0;34m\u001b[0m\u001b[0m\n",
      "\u001b[0;32m<__array_function__ internals>\u001b[0m in \u001b[0;36mstack\u001b[0;34m(*args, **kwargs)\u001b[0m\n",
      "\u001b[0;32m~/anaconda3/envs/dmitrii_thesis/lib/python3.7/site-packages/numpy/core/shape_base.py\u001b[0m in \u001b[0;36mstack\u001b[0;34m(arrays, axis, out)\u001b[0m\n\u001b[1;32m    432\u001b[0m     \u001b[0msl\u001b[0m \u001b[0;34m=\u001b[0m \u001b[0;34m(\u001b[0m\u001b[0mslice\u001b[0m\u001b[0;34m(\u001b[0m\u001b[0;32mNone\u001b[0m\u001b[0;34m)\u001b[0m\u001b[0;34m,\u001b[0m\u001b[0;34m)\u001b[0m \u001b[0;34m*\u001b[0m \u001b[0maxis\u001b[0m \u001b[0;34m+\u001b[0m \u001b[0;34m(\u001b[0m\u001b[0m_nx\u001b[0m\u001b[0;34m.\u001b[0m\u001b[0mnewaxis\u001b[0m\u001b[0;34m,\u001b[0m\u001b[0;34m)\u001b[0m\u001b[0;34m\u001b[0m\u001b[0;34m\u001b[0m\u001b[0m\n\u001b[1;32m    433\u001b[0m     \u001b[0mexpanded_arrays\u001b[0m \u001b[0;34m=\u001b[0m \u001b[0;34m[\u001b[0m\u001b[0marr\u001b[0m\u001b[0;34m[\u001b[0m\u001b[0msl\u001b[0m\u001b[0;34m]\u001b[0m \u001b[0;32mfor\u001b[0m \u001b[0marr\u001b[0m \u001b[0;32min\u001b[0m \u001b[0marrays\u001b[0m\u001b[0;34m]\u001b[0m\u001b[0;34m\u001b[0m\u001b[0;34m\u001b[0m\u001b[0m\n\u001b[0;32m--> 434\u001b[0;31m     \u001b[0;32mreturn\u001b[0m \u001b[0m_nx\u001b[0m\u001b[0;34m.\u001b[0m\u001b[0mconcatenate\u001b[0m\u001b[0;34m(\u001b[0m\u001b[0mexpanded_arrays\u001b[0m\u001b[0;34m,\u001b[0m \u001b[0maxis\u001b[0m\u001b[0;34m=\u001b[0m\u001b[0maxis\u001b[0m\u001b[0;34m,\u001b[0m \u001b[0mout\u001b[0m\u001b[0;34m=\u001b[0m\u001b[0mout\u001b[0m\u001b[0;34m)\u001b[0m\u001b[0;34m\u001b[0m\u001b[0;34m\u001b[0m\u001b[0m\n\u001b[0m\u001b[1;32m    435\u001b[0m \u001b[0;34m\u001b[0m\u001b[0m\n\u001b[1;32m    436\u001b[0m \u001b[0;34m\u001b[0m\u001b[0m\n",
      "\u001b[0;32m<__array_function__ internals>\u001b[0m in \u001b[0;36mconcatenate\u001b[0;34m(*args, **kwargs)\u001b[0m\n",
      "\u001b[0;31mKeyboardInterrupt\u001b[0m: "
     ]
    }
   ],
   "source": [
    "for patient in tqdm(patient_list):\n",
    "    img_flair = np.array(nib.load(DATA_PATH+patient+'/'+patient+'_flair.nii.gz').dataobj)\n",
    "    img_t1 = np.array(nib.load(DATA_PATH+patient+'/'+patient+'_t1.nii.gz').dataobj)\n",
    "    img_t1ce = np.array(nib.load(DATA_PATH+patient+'/'+patient+'_t1ce.nii.gz').dataobj)\n",
    "    img_t2 = np.array(nib.load(DATA_PATH+patient+'/'+patient+'_t2.nii.gz').dataobj)\n",
    "    seg = np.array(nib.load(DATA_PATH+patient+'/'+patient+'_seg.nii.gz').dataobj)\n",
    "    \n",
    "    img = np.stack([img_flair,img_t1,img_t1ce,img_t2],axis=0)\n",
    "    #img = np.concatenate([img,np.zeros((4,240,240,5))],axis=3)\n",
    "    \n",
    "    seg = seg.reshape(1,seg.shape[0],seg.shape[1],seg.shape[2])\n",
    "    seg[seg==4] = 3\n",
    "\n",
    "    os.makedirs(OUT_PATH+patient,exist_ok=True)\n",
    "    \n",
    " \n",
    "    \n",
    "    for i in range(img.shape[-1]//n_slices_width):\n",
    "        temp = img[:,:,:,i*n_slices_width:(i+1)*n_slices_width]\n",
    "        temp_y = seg[:,:,:,i*n_slices_width:(i+1)*n_slices_width]\n",
    "        \n",
    "        if temp.shape[1]> 256:\n",
    "            dim = temp.shape[1]\n",
    "            dim -= 256\n",
    "            dim /= 2\n",
    "            dim = int(dim)\n",
    "            temp = temp[:,dim:-dim,dim:-dim]\n",
    "            temp_y = temp_y[:,dim:-dim,dim:-dim]\n",
    "        \n",
    "        #save\n",
    "        np.save(OUT_PATH+patient+f'/{i}_voxels.npy',temp)\n",
    "        np.save(OUT_PATH+patient+f'/{i}_labels.npy',temp_y)\n",
    "    \n"
   ]
  },
  {
   "cell_type": "code",
   "execution_count": 166,
   "metadata": {},
   "outputs": [],
   "source": [
    "def one_hot_voxel(y):\n",
    "    y = np.transpose(y.astype(np.int32), (1, 2, 3, 0))\n",
    "    y = np.eye(4)[y[:, :, :, -1]]\n",
    "    y = np.transpose(y.astype(np.int32), (3,0,1,2))\n",
    "    return y"
   ]
  },
  {
   "cell_type": "markdown",
   "metadata": {},
   "source": [
    "# Prepare split tables"
   ]
  },
  {
   "cell_type": "code",
   "execution_count": 279,
   "metadata": {},
   "outputs": [],
   "source": [
    "TABLE_PATH = '../data/split_tables/brats/'"
   ]
  },
  {
   "cell_type": "code",
   "execution_count": 280,
   "metadata": {},
   "outputs": [
    {
     "name": "stdout",
     "output_type": "stream",
     "text": [
      "Total number of patients: 64\n"
     ]
    }
   ],
   "source": [
    "patient_list = [OUT_PATH[1:]+i for i in os.listdir(OUT_PATH) if i.find('.')==-1]\n",
    "print(f'Total number of patients: {len(patient_list)}')"
   ]
  },
  {
   "cell_type": "code",
   "execution_count": 281,
   "metadata": {},
   "outputs": [],
   "source": [
    "patient_arr = []\n",
    "records = []\n",
    "for patient in patient_list:\n",
    "    records += [patient+'/'+i for i in os.listdir('.'+patient) if i.find('voxels')!=-1]\n",
    "    patient_arr += [patient]*len([patient+'/'+i for i in os.listdir('.'+patient) if i.find('voxels')!=-1])\n",
    "    \n",
    "records = np.array(records)\n",
    "patient_arr = np.array(patient_arr)"
   ]
  },
  {
   "cell_type": "code",
   "execution_count": 282,
   "metadata": {},
   "outputs": [],
   "source": [
    "#create test\n",
    "kf = GroupKFold(n_splits=2)\n",
    "\n",
    "for (train,test) in kf.split(records,records,patient_arr):\n",
    "    \n",
    "    records_test = records[test]\n",
    "    \n",
    "    \n",
    "    #create test\n",
    "    split = {\n",
    "            'test': records_test.tolist(),\n",
    "        }\n",
    "    \n",
    "    with open(f'{TABLE_PATH}test_split_table.json', 'w') as outfile:\n",
    "            json.dump(split, outfile)\n",
    "    break\n",
    "\n",
    "patient_arr = patient_arr[train]\n",
    "records = records[train]"
   ]
  },
  {
   "cell_type": "code",
   "execution_count": 283,
   "metadata": {},
   "outputs": [],
   "source": [
    "#create train and validation\n",
    "kf = GroupKFold(n_splits=2)\n",
    "\n",
    "for (train,test) in kf.split(records,records,patient_arr):\n",
    "    \n",
    "    records_test = records[test]\n",
    "    \n",
    "    \n",
    "    #create test\n",
    "    split = {\n",
    "            'test': records_test.tolist(),\n",
    "        }\n",
    "    \n",
    "    with open(f'{TABLE_PATH}test_split_table.json', 'w') as outfile:\n",
    "            json.dump(split, outfile)\n",
    "    break\n",
    "\n",
    "patient_arr = patient_arr[train]\n",
    "records = records[train]"
   ]
  },
  {
   "cell_type": "code",
   "execution_count": 284,
   "metadata": {},
   "outputs": [],
   "source": [
    "#create train and validation\n",
    "n_patients = [1,2,4,8]\n",
    "\n",
    "patients_unique = np.unique(patient_arr)\n",
    "\n",
    "for i in n_patients:\n",
    "    \n",
    "    train_patients = patients_unique[:i]\n",
    "    train_records = np.empty(0)\n",
    "    for patient in train_patients.tolist():\n",
    "        train_records = np.append(train_records,records[patient_arr==patient],axis=0)\n",
    "    \n",
    "    val_patients = patients_unique[-2:]\n",
    "    val_records = np.empty(0)\n",
    "    for patient in val_patients.tolist():\n",
    "        val_records = np.append(val_records,records[patient_arr==patient],axis=0)\n",
    "    \n",
    "    \n",
    "    \n",
    "    split = {\n",
    "            'train': train_records.tolist(),\n",
    "            'val': val_records.tolist(),\n",
    "            'pretrain': records.tolist(),\n",
    "        }\n",
    "    with open(f'{TABLE_PATH}{i}_split_table.json', 'w') as outfile:\n",
    "            json.dump(split, outfile)\n"
   ]
  },
  {
   "cell_type": "code",
   "execution_count": 285,
   "metadata": {},
   "outputs": [],
   "source": [
    "#create UB\n",
    "\n",
    "train_patients = patients_unique[:patients_unique.shape[0]//2]\n",
    "train_records = np.empty(0)\n",
    "for patient in train_patients.tolist():\n",
    "    train_records = np.append(train_records,records[patient_arr==patient],axis=0)\n",
    "\n",
    "val_patients = patients_unique[patients_unique.shape[0]//2:]\n",
    "val_records = np.empty(0)\n",
    "for patient in val_patients.tolist():\n",
    "    val_records = np.append(val_records,records[patient_arr==patient],axis=0)\n",
    "\n",
    "split = {\n",
    "        'train': train_records.tolist(),\n",
    "        'val': val_records.tolist(),\n",
    "        }\n",
    "with open(f'{TABLE_PATH}UB_split_table.json', 'w') as outfile:\n",
    "            json.dump(split, outfile)\n"
   ]
  },
  {
   "cell_type": "code",
   "execution_count": null,
   "metadata": {},
   "outputs": [],
   "source": []
  }
 ],
 "metadata": {
  "kernelspec": {
   "display_name": "Python 3",
   "language": "python",
   "name": "python3"
  },
  "language_info": {
   "codemirror_mode": {
    "name": "ipython",
    "version": 3
   },
   "file_extension": ".py",
   "mimetype": "text/x-python",
   "name": "python",
   "nbconvert_exporter": "python",
   "pygments_lexer": "ipython3",
   "version": "3.7.9"
  }
 },
 "nbformat": 4,
 "nbformat_minor": 4
}
