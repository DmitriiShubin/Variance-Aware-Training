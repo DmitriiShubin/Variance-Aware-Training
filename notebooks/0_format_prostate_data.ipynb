{
 "cells": [
  {
   "cell_type": "code",
   "execution_count": 3,
   "metadata": {},
   "outputs": [
    {
     "name": "stderr",
     "output_type": "stream",
     "text": [
      "/home/dmitriishubin/anaconda3/envs/thesis/lib/python3.7/site-packages/dicom/__init__.py:53: UserWarning: \n",
      "This code is using an older version of pydicom, which is no longer \n",
      "maintained as of Jan 2017.  You can access the new pydicom features and API \n",
      "by installing `pydicom` from PyPI.\n",
      "See 'Transitioning to pydicom 1.x' section at pydicom.readthedocs.org \n",
      "for more information.\n",
      "\n",
      "  warnings.warn(msg)\n"
     ]
    }
   ],
   "source": [
    "import os\n",
    "import numpy as np\n",
    "import nibabel as nib\n",
    "import matplotlib.pyplot as plt\n",
    "import torch\n",
    "from tqdm import tqdm\n",
    "import json\n",
    "from sklearn.model_selection import GroupKFold"
   ]
  },
  {
   "cell_type": "markdown",
   "metadata": {},
   "source": [
    "# Format Data"
   ]
  },
  {
   "cell_type": "code",
   "execution_count": 4,
   "metadata": {},
   "outputs": [],
   "source": [
    "def permute(image):\n",
    "    image = torch.Tensor(image)\n",
    "    image = image.permute(3,0,1,2).numpy()\n",
    "    return image"
   ]
  },
  {
   "cell_type": "code",
   "execution_count": 5,
   "metadata": {},
   "outputs": [],
   "source": [
    "DATA_PATH = '../data/prostate_dataset/raw_data/'\n",
    "OUT_PATH = '../data/prostate_dataset/processed_data/'"
   ]
  },
  {
   "cell_type": "code",
   "execution_count": 6,
   "metadata": {},
   "outputs": [],
   "source": [
    "patient_list = [i for i in os.listdir(DATA_PATH+'labelsTr') if i.find('._')==-1]\n",
    "n_slices_width = 5"
   ]
  },
  {
   "cell_type": "code",
   "execution_count": 5,
   "metadata": {},
   "outputs": [
    {
     "name": "stderr",
     "output_type": "stream",
     "text": [
      "100%|██████████| 32/32 [00:09<00:00,  3.48it/s]\n"
     ]
    }
   ],
   "source": [
    "for patient in tqdm(patient_list):\n",
    "    img = np.array(nib.load(DATA_PATH+'imagesTr/'+patient).dataobj)\n",
    "    seg = np.array(nib.load(DATA_PATH+'labelsTr/'+patient).dataobj)\n",
    "    seg = seg.reshape(seg.shape[0],seg.shape[1],seg.shape[2],1)\n",
    "    \n",
    "    #permute to feed into 3D CNN\n",
    "    img = permute(img)\n",
    "    seg = permute(seg)\n",
    "\n",
    "    os.makedirs(OUT_PATH+patient[:-7],exist_ok=True)\n",
    "    \n",
    "    for i in range(img.shape[-1]//n_slices_width):\n",
    "        temp = img[:,:,:,i*n_slices_width:(i+1)*n_slices_width]\n",
    "        temp_y = seg[:,:,:,i*n_slices_width:(i+1)*n_slices_width]\n",
    "        \n",
    "        if temp.shape[1]> 256:\n",
    "            dim = temp.shape[1]\n",
    "            dim -= 256\n",
    "            dim /= 2\n",
    "            dim = int(dim)\n",
    "            temp = temp[:,dim:-dim,dim:-dim]\n",
    "            temp_y = temp_y[:,dim:-dim,dim:-dim]\n",
    "\n",
    "        \n",
    "        \n",
    "        #save\n",
    "        np.save(OUT_PATH+patient[:-7]+f'/{i}_voxels.npy',temp)\n",
    "        np.save(OUT_PATH+patient[:-7]+f'/{i}_labels.npy',temp_y)\n",
    "    \n"
   ]
  },
  {
   "cell_type": "code",
   "execution_count": 14,
   "metadata": {},
   "outputs": [
    {
     "data": {
      "text/plain": [
       "(2, 256, 256, 5)"
      ]
     },
     "execution_count": 14,
     "metadata": {},
     "output_type": "execute_result"
    }
   ],
   "source": [
    "temp.shape"
   ]
  },
  {
   "cell_type": "markdown",
   "metadata": {},
   "source": [
    "# Prepare split tables"
   ]
  },
  {
   "cell_type": "code",
   "execution_count": 7,
   "metadata": {},
   "outputs": [],
   "source": [
    "TABLE_PATH = '../data/split_tables/prostate/'"
   ]
  },
  {
   "cell_type": "code",
   "execution_count": 8,
   "metadata": {},
   "outputs": [
    {
     "name": "stdout",
     "output_type": "stream",
     "text": [
      "Total number of patients: 32\n"
     ]
    }
   ],
   "source": [
    "patient_list = [OUT_PATH[1:]+i for i in os.listdir(OUT_PATH) if i.find('.')==-1]\n",
    "print(f'Total number of patients: {len(patient_list)}')"
   ]
  },
  {
   "cell_type": "code",
   "execution_count": 8,
   "metadata": {},
   "outputs": [],
   "source": [
    "patient_arr = []\n",
    "records = []\n",
    "for patient in patient_list:\n",
    "    records += [patient+'/'+i for i in os.listdir('.'+patient) if i.find('voxels')!=-1]\n",
    "    patient_arr += [patient]*len([patient+'/'+i for i in os.listdir('.'+patient) if i.find('voxels')!=-1])\n",
    "    \n",
    "records = np.array(records)\n",
    "patient_arr = np.array(patient_arr)"
   ]
  },
  {
   "cell_type": "code",
   "execution_count": 9,
   "metadata": {},
   "outputs": [],
   "source": [
    "#create test\n",
    "kf = GroupKFold(n_splits=2)\n",
    "\n",
    "for (train,test) in kf.split(records,records,patient_arr):\n",
    "    \n",
    "    records_test = records[test]\n",
    "    \n",
    "    \n",
    "    #create test\n",
    "    split = {\n",
    "            'test': records_test.tolist(),\n",
    "        }\n",
    "    \n",
    "    with open(f'{TABLE_PATH}test_split_table.json', 'w') as outfile:\n",
    "            json.dump(split, outfile)\n",
    "    break\n",
    "\n",
    "patient_arr = patient_arr[train]\n",
    "records = records[train]"
   ]
  },
  {
   "cell_type": "code",
   "execution_count": 10,
   "metadata": {},
   "outputs": [],
   "source": [
    "#create train and validation\n",
    "kf = GroupKFold(n_splits=2)\n",
    "\n",
    "for (train,test) in kf.split(records,records,patient_arr):\n",
    "    \n",
    "    records_test = records[test]\n",
    "    \n",
    "    \n",
    "    #create test\n",
    "    split = {\n",
    "            'test': records_test.tolist(),\n",
    "        }\n",
    "    \n",
    "    with open(f'{TABLE_PATH}test_split_table.json', 'w') as outfile:\n",
    "            json.dump(split, outfile)\n",
    "    break\n",
    "\n",
    "patient_arr = patient_arr[train]\n",
    "records = records[train]"
   ]
  },
  {
   "cell_type": "code",
   "execution_count": 11,
   "metadata": {},
   "outputs": [],
   "source": [
    "#create train and validation\n",
    "n_patients = [2,4,8]\n",
    "\n",
    "patients_unique = np.unique(patient_arr)\n",
    "\n",
    "for i in n_patients:\n",
    "    \n",
    "    train_patients = patients_unique[:i]\n",
    "    train_records = np.empty(0)\n",
    "    for patient in train_patients.tolist():\n",
    "        train_records = np.append(train_records,records[patient_arr==patient],axis=0)\n",
    "    \n",
    "    val_patients = patients_unique[-2:]\n",
    "    val_records = np.empty(0)\n",
    "    for patient in val_patients.tolist():\n",
    "        val_records = np.append(val_records,records[patient_arr==patient],axis=0)\n",
    "    \n",
    "    \n",
    "    \n",
    "    split = {\n",
    "            'train': train_records.tolist(),\n",
    "            'val': val_records.tolist(),\n",
    "            'pretrain': records.tolist(),\n",
    "        }\n",
    "    with open(f'{TABLE_PATH}{i}_split_table.json', 'w') as outfile:\n",
    "            json.dump(split, outfile)\n"
   ]
  },
  {
   "cell_type": "code",
   "execution_count": 12,
   "metadata": {},
   "outputs": [],
   "source": [
    "#create UB\n",
    "\n",
    "train_patients = patients_unique[:patients_unique.shape[0]//2]\n",
    "train_records = np.empty(0)\n",
    "for patient in train_patients.tolist():\n",
    "    train_records = np.append(train_records,records[patient_arr==patient],axis=0)\n",
    "\n",
    "val_patients = patients_unique[patients_unique.shape[0]//2:]\n",
    "val_records = np.empty(0)\n",
    "for patient in val_patients.tolist():\n",
    "    val_records = np.append(val_records,records[patient_arr==patient],axis=0)\n",
    "\n",
    "split = {\n",
    "        'train': train_records.tolist(),\n",
    "        'val': val_records.tolist(),\n",
    "        }\n",
    "with open(f'{TABLE_PATH}UB_split_table.json', 'w') as outfile:\n",
    "            json.dump(split, outfile)\n"
   ]
  },
  {
   "cell_type": "code",
   "execution_count": null,
   "metadata": {},
   "outputs": [],
   "source": []
  }
 ],
 "metadata": {
  "kernelspec": {
   "display_name": "Python 3",
   "language": "python",
   "name": "python3"
  },
  "language_info": {
   "codemirror_mode": {
    "name": "ipython",
    "version": 3
   },
   "file_extension": ".py",
   "mimetype": "text/x-python",
   "name": "python",
   "nbconvert_exporter": "python",
   "pygments_lexer": "ipython3",
   "version": "3.7.9"
  }
 },
 "nbformat": 4,
 "nbformat_minor": 4
}
