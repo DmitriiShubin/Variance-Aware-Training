{
 "cells": [
  {
   "cell_type": "markdown",
   "metadata": {},
   "source": [
    "# PhysioNet/Computing in Cardiology Challenge 2020\n",
    "## Classification of 12-lead ECGs\n",
    "### 1. Download and format dataset"
   ]
  },
  {
   "cell_type": "markdown",
   "metadata": {},
   "source": [
    "# Setup Notebook"
   ]
  },
  {
   "cell_type": "code",
   "execution_count": null,
   "metadata": {},
   "outputs": [],
   "source": [
    "# Import 3rd party libraries\n",
    "import os\n",
    "import sys\n",
    "\n",
    "# Import local Libraries\n",
    "sys.path.insert(0, os.path.dirname(os.path.abspath(os.getcwd())))\n",
    "from kardioml.data.format_data_physionet_2020 import FormatDataPhysionet2020\n",
    "\n",
    "# Configure Notebook\n",
    "import warnings\n",
    "warnings.filterwarnings('ignore')\n",
    "%matplotlib inline\n",
    "%load_ext autoreload\n",
    "%autoreload 2"
   ]
  },
  {
   "cell_type": "markdown",
   "metadata": {},
   "source": [
    "# Download and Format Dataset\n",
    "## Physionet 2020\n",
    "### Dataset A\n",
    "- A. 6,877 recordings from China Physiological Signal Challenge in 2018 (CPSC2018)\n",
    "- https://storage.cloud.google.com/physionet-challenge-2020-12-lead-ecg-public/PhysioNetChallenge2020_Training_CPSC.tar.gz "
   ]
  },
  {
   "cell_type": "code",
   "execution_count": null,
   "metadata": {
    "scrolled": false
   },
   "outputs": [],
   "source": [
    "# Initialize data formater\n",
    "data = FormatDataPhysionet2020(dataset='A')\n",
    "\n",
    "# Run format process\n",
    "data.format(fs_resampled=1000, extract=False, debug=False, p_and_t_waves=False, parallel=True)"
   ]
  },
  {
   "cell_type": "markdown",
   "metadata": {},
   "source": [
    "### Dataset B\n",
    "- B. 3,453 recordings from China 12-Lead ECG Challenge Database\n",
    "- https://storage.cloud.google.com/physionet-challenge-2020-12-lead-ecg-public/PhysioNetChallenge2020_Training_2.tar.gz"
   ]
  },
  {
   "cell_type": "code",
   "execution_count": null,
   "metadata": {
    "scrolled": false
   },
   "outputs": [],
   "source": [
    "# Initialize data formater\n",
    "data = FormatDataPhysionet2020(dataset='B')\n",
    "\n",
    "# Run format process\n",
    "data.format(fs_resampled=1000, extract=False, debug=False, p_and_t_waves=False, parallel=True)"
   ]
  },
  {
   "cell_type": "markdown",
   "metadata": {},
   "source": [
    "### Dataset C\n",
    "- C. 74 recordings from the St Petersburg INCART 12-lead Arrhythmia Database\n",
    "- https://storage.cloud.google.com/physionet-challenge-2020-12-lead-ecg-public/PhysioNetChallenge2020_Training_StPetersburg.tar.gz "
   ]
  },
  {
   "cell_type": "code",
   "execution_count": null,
   "metadata": {},
   "outputs": [],
   "source": [
    "# Initialize data formater\n",
    "data = FormatDataPhysionet2020(dataset='C')\n",
    "\n",
    "# Run format process\n",
    "data.format(fs_resampled=1000, extract=False, debug=False, p_and_t_waves=False, parallel=True)"
   ]
  },
  {
   "cell_type": "markdown",
   "metadata": {},
   "source": [
    "### Dataset D\n",
    "- D. 516 recordings from the PTB Diagnostic ECG Database\n",
    "- https://storage.cloud.google.com/physionet-challenge-2020-12-lead-ecg-public/PhysioNetChallenge2020_Training_PTB.tar.gz"
   ]
  },
  {
   "cell_type": "code",
   "execution_count": null,
   "metadata": {},
   "outputs": [],
   "source": [
    "# Initialize data formater\n",
    "data = FormatDataPhysionet2020(dataset='D')\n",
    "\n",
    "# Run format process\n",
    "data.format(fs_resampled=1000, extract=False, debug=False, p_and_t_waves=False, parallel=True)"
   ]
  },
  {
   "cell_type": "markdown",
   "metadata": {},
   "source": [
    "### Dataset E\n",
    "- E. 21,837 recordings from the PTB-XL electrocardiography Database\n",
    "- https://storage.cloud.google.com/physionet-challenge-2020-12-lead-ecg-public/PhysioNetChallenge2020_PTB-XL.tar.gz"
   ]
  },
  {
   "cell_type": "code",
   "execution_count": null,
   "metadata": {},
   "outputs": [],
   "source": [
    "# Initialize data formater\n",
    "data = FormatDataPhysionet2020(dataset='E')\n",
    "\n",
    "# Run format process\n",
    "data.format(fs_resampled=1000, extract=False, debug=False, p_and_t_waves=False, parallel=True)"
   ]
  },
  {
   "cell_type": "markdown",
   "metadata": {},
   "source": [
    "### Dataset F\n",
    "- F. 10,344 recordings from a Georgia 12-Lead ECG Challenge Database\n",
    "- https://storage.cloud.google.com/physionet-challenge-2020-12-lead-ecg-public/PhysioNetChallenge2020_Training_E.tar.gz"
   ]
  },
  {
   "cell_type": "code",
   "execution_count": null,
   "metadata": {
    "scrolled": false
   },
   "outputs": [],
   "source": [
    "# Initialize data formater\n",
    "data = FormatDataPhysionet2020(dataset='F')\n",
    "\n",
    "# Run format process\n",
    "data.format(fs_resampled=1000, extract=False, debug=False, p_and_t_waves=False, parallel=True)"
   ]
  }
 ],
 "metadata": {
  "kernelspec": {
   "display_name": "Python 3",
   "language": "python",
   "name": "python3"
  },
  "language_info": {
   "codemirror_mode": {
    "name": "ipython",
    "version": 3
   },
   "file_extension": ".py",
   "mimetype": "text/x-python",
   "name": "python",
   "nbconvert_exporter": "python",
   "pygments_lexer": "ipython3",
   "version": "3.7.7"
  }
 },
 "nbformat": 4,
 "nbformat_minor": 4
}
