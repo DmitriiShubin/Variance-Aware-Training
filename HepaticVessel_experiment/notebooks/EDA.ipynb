{
 "cells": [
  {
   "cell_type": "code",
   "execution_count": 2,
   "metadata": {},
   "outputs": [],
   "source": [
    "import pandas as pd\n",
    "import numpy as np\n",
    "import matplotlib.pyplot as plt\n",
    "import os\n",
    "import json"
   ]
  },
  {
   "cell_type": "code",
   "execution_count": 3,
   "metadata": {},
   "outputs": [],
   "source": [
    "%matplotlib qt"
   ]
  },
  {
   "cell_type": "code",
   "execution_count": 5,
   "metadata": {},
   "outputs": [],
   "source": [
    "def medfilt( x, k):\n",
    "    \"\"\"Apply a length-k median filter to a 1D array x.\n",
    "    Boundaries are extended by repeating endpoints.\n",
    "    \"\"\"\n",
    "    assert k % 2 == 1, \"Median filter length must be odd.\"\n",
    "    assert x.ndim == 1, \"Input must be one-dimensional.\"\n",
    "    k2 = (k - 1) // 2\n",
    "    y = np.zeros((len(x), k), dtype=x.dtype)\n",
    "    y[:, k2] = x\n",
    "    for i in range(k2):\n",
    "        j = k2 - i\n",
    "        y[j:, i] = x[:-j]\n",
    "        y[:j, i] = x[0]\n",
    "        y[:-j, -(i + 1)] = x[j:]\n",
    "        y[-j:, -(i + 1)] = x[-1]\n",
    "    return np.median(y, axis=1)"
   ]
  },
  {
   "cell_type": "markdown",
   "metadata": {},
   "source": [
    "# Load some samples"
   ]
  },
  {
   "cell_type": "code",
   "execution_count": 10,
   "metadata": {},
   "outputs": [
    {
     "name": "stderr",
     "output_type": "stream",
     "text": [
      "/home/dmitriishubin/anaconda3/envs/thesis/lib/python3.7/site-packages/ipykernel_launcher.py:28: RuntimeWarning: More than 20 figures have been opened. Figures created through the pyplot interface (`matplotlib.pyplot.figure`) are retained until explicitly closed and may consume too much memory. (To control this warning, see the rcParam `figure.max_open_warning`).\n"
     ]
    }
   ],
   "source": [
    "DATA_PATH = '../data/formatted/'\n",
    "\n",
    "subjects = os.listdir(DATA_PATH)\n",
    "\n",
    "count = 0\n",
    "count_n = 0\n",
    "\n",
    "for subject in subjects:\n",
    "    records = [i[:-4] for i in os.listdir(DATA_PATH+subject) if i.find('.npy')!=-1]\n",
    "    for record in records:\n",
    "        \n",
    "        signal = np.load(DATA_PATH+subject+'/'+record+'.npy')\n",
    "        signal = (signal - np.median(signal))/np.std(signal)\n",
    "        signal = signal- medfilt(signal,721)\n",
    "        \n",
    "        label = json.load(open(DATA_PATH+subject+'/'+record+'.json'))\n",
    "        letter_ann = label['letters']\n",
    "        label = label['label'][0]\n",
    "        if label == 1:\n",
    "            label = 'Abnornal'\n",
    "        else:\n",
    "            label = 'Normal'\n",
    "        \n",
    "        if count >= 50:\n",
    "            break\n",
    "        \n",
    "        if label == 'Normal':\n",
    "            fig = plt.figure()\n",
    "            plt.plot(signal)\n",
    "            plt.title(label)\n",
    "            count +=1\n",
    "#         if label == 'Normal':\n",
    "#             fig = plt.figure()\n",
    "#             plt.plot(signal)\n",
    "#             plt.title(label)\n",
    "#             count_n +=1"
   ]
  },
  {
   "cell_type": "code",
   "execution_count": 9,
   "metadata": {},
   "outputs": [
    {
     "data": {
      "text/plain": [
       "1814"
      ]
     },
     "execution_count": 9,
     "metadata": {},
     "output_type": "execute_result"
    }
   ],
   "source": [
    "count"
   ]
  },
  {
   "cell_type": "code",
   "execution_count": 10,
   "metadata": {},
   "outputs": [
    {
     "data": {
      "text/plain": [
       "6466"
      ]
     },
     "execution_count": 10,
     "metadata": {},
     "output_type": "execute_result"
    }
   ],
   "source": [
    "count_n"
   ]
  },
  {
   "cell_type": "code",
   "execution_count": null,
   "metadata": {},
   "outputs": [],
   "source": [
    "letter_ann"
   ]
  },
  {
   "cell_type": "code",
   "execution_count": null,
   "metadata": {},
   "outputs": [],
   "source": [
    "label"
   ]
  },
  {
   "cell_type": "code",
   "execution_count": null,
   "metadata": {},
   "outputs": [],
   "source": [
    "plt.plot(signal)"
   ]
  },
  {
   "cell_type": "code",
   "execution_count": null,
   "metadata": {},
   "outputs": [],
   "source": [
    "subjects"
   ]
  },
  {
   "cell_type": "code",
   "execution_count": null,
   "metadata": {},
   "outputs": [],
   "source": []
  }
 ],
 "metadata": {
  "kernelspec": {
   "display_name": "Python 3",
   "language": "python",
   "name": "python3"
  },
  "language_info": {
   "codemirror_mode": {
    "name": "ipython",
    "version": 3
   },
   "file_extension": ".py",
   "mimetype": "text/x-python",
   "name": "python",
   "nbconvert_exporter": "python",
   "pygments_lexer": "ipython3",
   "version": "3.7.9"
  }
 },
 "nbformat": 4,
 "nbformat_minor": 4
}
