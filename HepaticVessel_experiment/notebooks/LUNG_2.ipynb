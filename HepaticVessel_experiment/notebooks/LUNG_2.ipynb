{
 "cells": [
  {
   "cell_type": "code",
   "execution_count": 1,
   "metadata": {},
   "outputs": [
    {
     "name": "stdout",
     "output_type": "stream",
     "text": [
      "/home/dmitriishubin/Desktop/Thesis/HepaticVessel_experiment\n"
     ]
    }
   ],
   "source": [
    "cd .."
   ]
  },
  {
   "cell_type": "code",
   "execution_count": 2,
   "metadata": {},
   "outputs": [
    {
     "name": "stderr",
     "output_type": "stream",
     "text": [
      "/home/dmitriishubin/anaconda3/envs/thesis/lib/python3.7/site-packages/dicom/__init__.py:53: UserWarning: \n",
      "This code is using an older version of pydicom, which is no longer \n",
      "maintained as of Jan 2017.  You can access the new pydicom features and API \n",
      "by installing `pydicom` from PyPI.\n",
      "See 'Transitioning to pydicom 1.x' section at pydicom.readthedocs.org \n",
      "for more information.\n",
      "\n",
      "  warnings.warn(msg)\n"
     ]
    }
   ],
   "source": [
    "import pandas as pd\n",
    "import numpy as np\n",
    "import pydicom as dicom\n",
    "import nibabel as nib\n",
    "import os\n",
    "from sklearn.model_selection import KFold,train_test_split\n",
    "import json"
   ]
  },
  {
   "cell_type": "code",
   "execution_count": 3,
   "metadata": {},
   "outputs": [],
   "source": [
    "img = nib.load('../data/Task06_Lung/imagesTr/lung_001.nii.gz')\n",
    "img = np.array(img.dataobj)"
   ]
  },
  {
   "cell_type": "code",
   "execution_count": 4,
   "metadata": {},
   "outputs": [
    {
     "data": {
      "text/plain": [
       "(512, 512, 304)"
      ]
     },
     "execution_count": 4,
     "metadata": {},
     "output_type": "execute_result"
    }
   ],
   "source": [
    "img.shape"
   ]
  },
  {
   "cell_type": "code",
   "execution_count": 13,
   "metadata": {},
   "outputs": [],
   "source": [
    "patients = [i for i in os.listdir('../data/Task06_Lung/imagesTr/') if i.find('._lu')==-1]"
   ]
  },
  {
   "cell_type": "code",
   "execution_count": 14,
   "metadata": {},
   "outputs": [
    {
     "data": {
      "text/plain": [
       "['lung_054.nii.gz',\n",
       " 'lung_047.nii.gz',\n",
       " 'lung_014.nii.gz',\n",
       " 'lung_093.nii.gz',\n",
       " 'lung_042.nii.gz',\n",
       " 'lung_095.nii.gz',\n",
       " 'lung_006.nii.gz',\n",
       " 'lung_037.nii.gz',\n",
       " 'lung_023.nii.gz',\n",
       " 'lung_058.nii.gz',\n",
       " 'lung_055.nii.gz',\n",
       " 'lung_065.nii.gz',\n",
       " 'lung_022.nii.gz',\n",
       " 'lung_066.nii.gz',\n",
       " 'lung_073.nii.gz',\n",
       " 'lung_071.nii.gz',\n",
       " 'lung_031.nii.gz',\n",
       " 'lung_086.nii.gz',\n",
       " 'lung_053.nii.gz',\n",
       " 'lung_025.nii.gz',\n",
       " 'lung_048.nii.gz',\n",
       " 'lung_096.nii.gz',\n",
       " 'lung_003.nii.gz',\n",
       " 'lung_043.nii.gz',\n",
       " 'lung_079.nii.gz',\n",
       " 'lung_045.nii.gz',\n",
       " 'lung_036.nii.gz',\n",
       " 'lung_028.nii.gz',\n",
       " 'lung_016.nii.gz',\n",
       " 'lung_041.nii.gz',\n",
       " 'lung_062.nii.gz',\n",
       " 'lung_070.nii.gz',\n",
       " 'lung_075.nii.gz',\n",
       " 'lung_018.nii.gz',\n",
       " 'lung_059.nii.gz',\n",
       " 'lung_004.nii.gz',\n",
       " 'lung_069.nii.gz',\n",
       " 'lung_057.nii.gz',\n",
       " 'lung_064.nii.gz',\n",
       " 'lung_001.nii.gz',\n",
       " 'lung_015.nii.gz',\n",
       " 'lung_027.nii.gz',\n",
       " 'lung_081.nii.gz',\n",
       " 'lung_005.nii.gz',\n",
       " 'lung_049.nii.gz',\n",
       " 'lung_051.nii.gz',\n",
       " 'lung_061.nii.gz',\n",
       " 'lung_092.nii.gz',\n",
       " 'lung_078.nii.gz',\n",
       " 'lung_083.nii.gz',\n",
       " 'lung_038.nii.gz',\n",
       " 'lung_026.nii.gz',\n",
       " 'lung_020.nii.gz',\n",
       " 'lung_009.nii.gz',\n",
       " 'lung_029.nii.gz',\n",
       " 'lung_010.nii.gz',\n",
       " 'lung_034.nii.gz',\n",
       " 'lung_080.nii.gz',\n",
       " 'lung_033.nii.gz',\n",
       " 'lung_074.nii.gz',\n",
       " 'lung_046.nii.gz',\n",
       " 'lung_044.nii.gz',\n",
       " 'lung_084.nii.gz']"
      ]
     },
     "execution_count": 14,
     "metadata": {},
     "output_type": "execute_result"
    }
   ],
   "source": [
    "patients"
   ]
  },
  {
   "cell_type": "code",
   "execution_count": 9,
   "metadata": {},
   "outputs": [
    {
     "data": {
      "text/plain": [
       "'lung_054'"
      ]
     },
     "execution_count": 9,
     "metadata": {},
     "output_type": "execute_result"
    }
   ],
   "source": [
    "patients[0][:-7]"
   ]
  },
  {
   "cell_type": "code",
   "execution_count": 28,
   "metadata": {},
   "outputs": [],
   "source": [
    "names = []\n",
    "\n",
    "os.makedirs('../data/Task06_Lung/processed_data',exist_ok=True)\n",
    "\n",
    "count = 0\n",
    "\n",
    "for patient in patients:\n",
    "    img = nib.load(f'../data/Task06_Lung/imagesTr/{patient}')\n",
    "    img = np.array(img.dataobj)\n",
    "    seg = nib.load(f'../data/Task06_Lung/labelsTr/{patient}')\n",
    "    seg = np.array(seg.dataobj)\n",
    "    \n",
    "    patient = patient[:-7]\n",
    "    \n",
    "    os.makedirs(f'../data/Task06_Lung/processed_data/{patient}',exist_ok=True)\n",
    "    \n",
    "    for i in range(img.shape[-1]):\n",
    "        temp_img = img[:,:,i].reshape(320, 320,1)\n",
    "        temp_seg = seg[:,:,i].reshape(320, 320,1)\n",
    "        \n",
    "        \n",
    "        np.save(f'../data/Task06_Lung/processed_data/{patient}/{i}.npy',temp_img)\n",
    "        np.save(f'../data/Task06_Lung/processed_data/{patient}/{i}_seg.npy',temp_seg)\n",
    "        count+=1\n",
    "            "
   ]
  },
  {
   "cell_type": "code",
   "execution_count": 15,
   "metadata": {},
   "outputs": [],
   "source": [
    "for index,patient in enumerate(patients):\n",
    "    patients[index]=patient[:-7]"
   ]
  },
  {
   "cell_type": "code",
   "execution_count": 13,
   "metadata": {},
   "outputs": [],
   "source": [
    "patients = np.array(patients)\n",
    "\n",
    "kf = KFold(5,shuffle=True,random_state=42)\n",
    "for fold,(train_index, test_index) in enumerate(kf.split(patients)):\n",
    "    patients_train, patients_test = patients[train_index], patients[test_index]\n",
    "    \n",
    "    images_train = []\n",
    "    for patient in patients_train:\n",
    "        images_train+=[\n",
    "                f'../data/Task06_Lung/processed_data/{patient}/'+i[:-4]\n",
    "                for i in sorted(os.listdir(f'../data/Task09_Spleen/processed_data/{patient}/'))\n",
    "                if i.find('.npy') != -1 and i.find('seg') == -1\n",
    "            ]\n",
    "    \n",
    "    \n",
    "    images_val = []\n",
    "    for patient in patients_test:\n",
    "        images_val+=[\n",
    "                f'../data/Task06_Lung/processed_data/{patient}/'+i[:-4]\n",
    "                for i in sorted(os.listdir(f'../data/Task09_Spleen/processed_data/{patient}/'))\n",
    "                if i.find('.npy') != -1 and i.find('seg') == -1\n",
    "            ]\n",
    "        \n",
    "    \n",
    "    split = {\n",
    "        'train': images_train,\n",
    "        'val': images_val,\n",
    "    }\n",
    "    \n",
    "    \n",
    "    with open(f'../data/split_table/{fold}_split_table.json', 'w') as outfile:\n",
    "            json.dump(split, outfile)"
   ]
  },
  {
   "cell_type": "code",
   "execution_count": 16,
   "metadata": {},
   "outputs": [
    {
     "data": {
      "text/plain": [
       "['lung_054',\n",
       " 'lung_047',\n",
       " 'lung_014',\n",
       " 'lung_093',\n",
       " 'lung_042',\n",
       " 'lung_095',\n",
       " 'lung_006',\n",
       " 'lung_037',\n",
       " 'lung_023',\n",
       " 'lung_058',\n",
       " 'lung_055',\n",
       " 'lung_065',\n",
       " 'lung_022',\n",
       " 'lung_066',\n",
       " 'lung_073',\n",
       " 'lung_071',\n",
       " 'lung_031',\n",
       " 'lung_086',\n",
       " 'lung_053',\n",
       " 'lung_025',\n",
       " 'lung_048',\n",
       " 'lung_096',\n",
       " 'lung_003',\n",
       " 'lung_043',\n",
       " 'lung_079',\n",
       " 'lung_045',\n",
       " 'lung_036',\n",
       " 'lung_028',\n",
       " 'lung_016',\n",
       " 'lung_041',\n",
       " 'lung_062',\n",
       " 'lung_070',\n",
       " 'lung_075',\n",
       " 'lung_018',\n",
       " 'lung_059',\n",
       " 'lung_004',\n",
       " 'lung_069',\n",
       " 'lung_057',\n",
       " 'lung_064',\n",
       " 'lung_001',\n",
       " 'lung_015',\n",
       " 'lung_027',\n",
       " 'lung_081',\n",
       " 'lung_005',\n",
       " 'lung_049',\n",
       " 'lung_051',\n",
       " 'lung_061',\n",
       " 'lung_092',\n",
       " 'lung_078',\n",
       " 'lung_083',\n",
       " 'lung_038',\n",
       " 'lung_026',\n",
       " 'lung_020',\n",
       " 'lung_009',\n",
       " 'lung_029',\n",
       " 'lung_010',\n",
       " 'lung_034',\n",
       " 'lung_080',\n",
       " 'lung_033',\n",
       " 'lung_074',\n",
       " 'lung_046',\n",
       " 'lung_044',\n",
       " 'lung_084']"
      ]
     },
     "execution_count": 16,
     "metadata": {},
     "output_type": "execute_result"
    }
   ],
   "source": [
    "patients"
   ]
  },
  {
   "cell_type": "code",
   "execution_count": 21,
   "metadata": {},
   "outputs": [],
   "source": [
    "patients = np.array(patients)\n",
    "\n",
    "for fold in range(5):\n",
    "\n",
    "    patients_train, patients_test = train_test_split(patients, test_size=0.2, random_state=fold)\n",
    "\n",
    "    patients_train, patients_val = train_test_split(patients_train, test_size=0.25, random_state=fold)\n",
    "\n",
    "    images_train = []\n",
    "    for patient in patients_train:\n",
    "        images_train+=[\n",
    "                f'../data/Task06_Lung/processed_data/{patient}/'+i[:-4]\n",
    "                for i in sorted(os.listdir(f'../data/Task06_Lung/processed_data/{patient}/'))\n",
    "                if i.find('.npy') != -1 and i.find('seg') == -1\n",
    "            ]\n",
    "\n",
    "\n",
    "    images_val = []\n",
    "    for patient in patients_val:\n",
    "        images_val+=[\n",
    "                f'../data/Task06_Lung/processed_data/{patient}/'+i[:-4]\n",
    "                for i in sorted(os.listdir(f'../data/Task06_Lung/processed_data/{patient}/'))\n",
    "                if i.find('.npy') != -1 and i.find('seg') == -1\n",
    "            ]\n",
    "\n",
    "    images_test = []\n",
    "    for patient in patients_test:\n",
    "        images_test+=[\n",
    "                f'../data/Task06_Lung/processed_data/{patient}/'+i[:-4]\n",
    "                for i in sorted(os.listdir(f'../data/Task06_Lung/processed_data/{patient}/'))\n",
    "                if i.find('.npy') != -1 and i.find('seg') == -1\n",
    "            ]\n",
    "\n",
    "\n",
    "    split = {\n",
    "        'train': images_train,\n",
    "        'val': images_val,\n",
    "        'test': images_test,\n",
    "    }\n",
    "\n",
    "\n",
    "    with open(f'../data/split_table/{fold}_split_table.json', 'w') as outfile:\n",
    "            json.dump(split, outfile)"
   ]
  },
  {
   "cell_type": "code",
   "execution_count": 13,
   "metadata": {},
   "outputs": [
    {
     "data": {
      "text/plain": [
       "41"
      ]
     },
     "execution_count": 13,
     "metadata": {},
     "output_type": "execute_result"
    }
   ],
   "source": [
    "len(patients_train)"
   ]
  },
  {
   "cell_type": "code",
   "execution_count": 12,
   "metadata": {},
   "outputs": [
    {
     "data": {
      "text/plain": [
       "8"
      ]
     },
     "execution_count": 12,
     "metadata": {},
     "output_type": "execute_result"
    }
   ],
   "source": [
    "len(patients_val)"
   ]
  },
  {
   "cell_type": "code",
   "execution_count": 19,
   "metadata": {},
   "outputs": [
    {
     "data": {
      "text/plain": [
       "\"../data/Task02_Heart/processed_data/['la_007' 'la_019' 'la_009' 'la_016' 'la_004' 'la_022' 'la_018' 'la_014'\\n 'la_011' 'la_010' 'la_024' 'la_020' 'la_023' 'la_030' 'la_021' 'la_017']/\""
      ]
     },
     "execution_count": 19,
     "metadata": {},
     "output_type": "execute_result"
    }
   ],
   "source": [
    "f'../data/Task02_Heart/processed_data/{patients_train}/'"
   ]
  },
  {
   "cell_type": "code",
   "execution_count": null,
   "metadata": {},
   "outputs": [],
   "source": []
  }
 ],
 "metadata": {
  "kernelspec": {
   "display_name": "Python 3",
   "language": "python",
   "name": "python3"
  },
  "language_info": {
   "codemirror_mode": {
    "name": "ipython",
    "version": 3
   },
   "file_extension": ".py",
   "mimetype": "text/x-python",
   "name": "python",
   "nbconvert_exporter": "python",
   "pygments_lexer": "ipython3",
   "version": "3.7.9"
  }
 },
 "nbformat": 4,
 "nbformat_minor": 4
}
