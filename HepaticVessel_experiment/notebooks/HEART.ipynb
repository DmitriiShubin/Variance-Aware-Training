{
 "cells": [
  {
   "cell_type": "code",
   "execution_count": 2,
   "metadata": {},
   "outputs": [
    {
     "name": "stdout",
     "output_type": "stream",
     "text": [
      "/home/dmitriishubin/Desktop/Thesis/HepaticVessel_experiment\n"
     ]
    }
   ],
   "source": [
    "cd .."
   ]
  },
  {
   "cell_type": "code",
   "execution_count": 26,
   "metadata": {},
   "outputs": [],
   "source": [
    "import pandas as pd\n",
    "import numpy as np\n",
    "import pydicom as dicom\n",
    "import nibabel as nib\n",
    "import os\n",
    "from sklearn.model_selection import KFold\n",
    "import json"
   ]
  },
  {
   "cell_type": "code",
   "execution_count": 7,
   "metadata": {},
   "outputs": [],
   "source": [
    "img = nib.load('../data/Task02_Heart/imagesTr/la_003.nii.gz')\n",
    "img = np.array(img.dataobj)"
   ]
  },
  {
   "cell_type": "code",
   "execution_count": 18,
   "metadata": {},
   "outputs": [
    {
     "data": {
      "text/plain": [
       "(320, 320, 130)"
      ]
     },
     "execution_count": 18,
     "metadata": {},
     "output_type": "execute_result"
    }
   ],
   "source": [
    "img.shape"
   ]
  },
  {
   "cell_type": "code",
   "execution_count": 31,
   "metadata": {},
   "outputs": [],
   "source": [
    "patients = [i for i in os.listdir('../data/Task02_Heart/imagesTr/') if i.find('._la')==-1]"
   ]
  },
  {
   "cell_type": "code",
   "execution_count": 30,
   "metadata": {},
   "outputs": [
    {
     "data": {
      "text/plain": [
       "array(['la_026.nii.gz', 'la_005.nii.gz', 'la_007.nii.gz', 'la_019.nii.gz',\n",
       "       'la_009.nii.gz', 'la_016.nii.gz', 'la_004.nii.gz', 'la_022.nii.gz',\n",
       "       'la_018.nii.gz', 'la_014.nii.gz', 'la_011.nii.gz', 'la_010.nii.gz',\n",
       "       'la_024.nii.gz', 'la_020.nii.gz', 'la_023.nii.gz', 'la_029.nii.gz',\n",
       "       'la_030.nii.gz', 'la_003.nii.gz', 'la_021.nii.gz', 'la_017.nii.gz'],\n",
       "      dtype='<U13')"
      ]
     },
     "execution_count": 30,
     "metadata": {},
     "output_type": "execute_result"
    }
   ],
   "source": [
    "patients"
   ]
  },
  {
   "cell_type": "code",
   "execution_count": 17,
   "metadata": {},
   "outputs": [
    {
     "data": {
      "text/plain": [
       "'la_026'"
      ]
     },
     "execution_count": 17,
     "metadata": {},
     "output_type": "execute_result"
    }
   ],
   "source": [
    "patients[0][:-7]"
   ]
  },
  {
   "cell_type": "code",
   "execution_count": 28,
   "metadata": {},
   "outputs": [],
   "source": [
    "names = []\n",
    "\n",
    "os.makedirs('../data/Task02_Heart/processed_data',exist_ok=True)\n",
    "\n",
    "count = 0\n",
    "\n",
    "for patient in patients:\n",
    "    img = nib.load(f'../data/Task02_Heart/imagesTr/{patient}')\n",
    "    img = np.array(img.dataobj)\n",
    "    seg = nib.load(f'../data/Task02_Heart/labelsTr/{patient}')\n",
    "    seg = np.array(seg.dataobj)\n",
    "    \n",
    "    patient = patient[:-7]\n",
    "    \n",
    "    os.makedirs(f'../data/Task02_Heart/processed_data/{patient}',exist_ok=True)\n",
    "    \n",
    "    for i in range(img.shape[-1]):\n",
    "        temp_img = img[:,:,i].reshape(320, 320,1)\n",
    "        temp_seg = seg[:,:,i].reshape(320, 320,1)\n",
    "        \n",
    "        \n",
    "        np.save(f'../data/Task02_Heart/processed_data/{patient}/{i}.npy',temp_img)\n",
    "        np.save(f'../data/Task02_Heart/processed_data/{patient}/{i}_seg.npy',temp_seg)\n",
    "        count+=1\n",
    "            "
   ]
  },
  {
   "cell_type": "code",
   "execution_count": 32,
   "metadata": {},
   "outputs": [],
   "source": [
    "for index,patient in enumerate(patients):\n",
    "    patients[index]=patient[:-7]"
   ]
  },
  {
   "cell_type": "code",
   "execution_count": 35,
   "metadata": {},
   "outputs": [],
   "source": [
    "patients = np.array(patients)\n",
    "\n",
    "kf = KFold(5,shuffle=True,random_state=42)\n",
    "for fold,(train_index, test_index) in enumerate(kf.split(patients)):\n",
    "    patients_train, patients_test = patients[train_index], patients[test_index]\n",
    "    \n",
    "    split = {\n",
    "        'train': patients_train.tolist(),\n",
    "        'val': patients_test.tolist(),\n",
    "    }\n",
    "    \n",
    "    with open(f'../data/split_table/{fold}_split_table.json', 'w') as outfile:\n",
    "            json.dump(split, outfile)"
   ]
  },
  {
   "cell_type": "code",
   "execution_count": null,
   "metadata": {},
   "outputs": [],
   "source": []
  }
 ],
 "metadata": {
  "kernelspec": {
   "display_name": "Python 3",
   "language": "python",
   "name": "python3"
  },
  "language_info": {
   "codemirror_mode": {
    "name": "ipython",
    "version": 3
   },
   "file_extension": ".py",
   "mimetype": "text/x-python",
   "name": "python",
   "nbconvert_exporter": "python",
   "pygments_lexer": "ipython3",
   "version": "3.7.9"
  }
 },
 "nbformat": 4,
 "nbformat_minor": 4
}
