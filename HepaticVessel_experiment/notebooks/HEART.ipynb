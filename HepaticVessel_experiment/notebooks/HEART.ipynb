{
 "cells": [
  {
   "cell_type": "code",
   "execution_count": 1,
   "metadata": {},
   "outputs": [
    {
     "name": "stdout",
     "output_type": "stream",
     "text": [
      "/home/dmitriishubin/Desktop/Thesis/HepaticVessel_experiment\n"
     ]
    }
   ],
   "source": [
    "cd .."
   ]
  },
  {
   "cell_type": "code",
   "execution_count": 2,
   "metadata": {},
   "outputs": [
    {
     "name": "stderr",
     "output_type": "stream",
     "text": [
      "/home/dmitriishubin/anaconda3/envs/thesis/lib/python3.7/site-packages/dicom/__init__.py:53: UserWarning: \n",
      "This code is using an older version of pydicom, which is no longer \n",
      "maintained as of Jan 2017.  You can access the new pydicom features and API \n",
      "by installing `pydicom` from PyPI.\n",
      "See 'Transitioning to pydicom 1.x' section at pydicom.readthedocs.org \n",
      "for more information.\n",
      "\n",
      "  warnings.warn(msg)\n"
     ]
    }
   ],
   "source": [
    "import pandas as pd\n",
    "import numpy as np\n",
    "import pydicom as dicom\n",
    "import nibabel as nib\n",
    "import os\n",
    "from sklearn.model_selection import KFold\n",
    "import json"
   ]
  },
  {
   "cell_type": "code",
   "execution_count": 3,
   "metadata": {},
   "outputs": [],
   "source": [
    "img = nib.load('../data/Task02_Heart/imagesTr/la_003.nii.gz')\n",
    "img = np.array(img.dataobj)"
   ]
  },
  {
   "cell_type": "code",
   "execution_count": 4,
   "metadata": {},
   "outputs": [
    {
     "data": {
      "text/plain": [
       "(320, 320, 130)"
      ]
     },
     "execution_count": 4,
     "metadata": {},
     "output_type": "execute_result"
    }
   ],
   "source": [
    "img.shape"
   ]
  },
  {
   "cell_type": "code",
   "execution_count": 13,
   "metadata": {},
   "outputs": [],
   "source": [
    "patients = [i for i in os.listdir('../data/Task02_Heart/imagesTr/') if i.find('._la')==-1]"
   ]
  },
  {
   "cell_type": "code",
   "execution_count": 14,
   "metadata": {},
   "outputs": [
    {
     "data": {
      "text/plain": [
       "['la_026.nii.gz',\n",
       " 'la_005.nii.gz',\n",
       " 'la_007.nii.gz',\n",
       " 'la_019.nii.gz',\n",
       " 'la_009.nii.gz',\n",
       " 'la_016.nii.gz',\n",
       " 'la_004.nii.gz',\n",
       " 'la_022.nii.gz',\n",
       " 'la_018.nii.gz',\n",
       " 'la_014.nii.gz',\n",
       " 'la_011.nii.gz',\n",
       " 'la_010.nii.gz',\n",
       " 'la_024.nii.gz',\n",
       " 'la_020.nii.gz',\n",
       " 'la_023.nii.gz',\n",
       " 'la_029.nii.gz',\n",
       " 'la_030.nii.gz',\n",
       " 'la_003.nii.gz',\n",
       " 'la_021.nii.gz',\n",
       " 'la_017.nii.gz']"
      ]
     },
     "execution_count": 14,
     "metadata": {},
     "output_type": "execute_result"
    }
   ],
   "source": [
    "patients"
   ]
  },
  {
   "cell_type": "code",
   "execution_count": 7,
   "metadata": {},
   "outputs": [
    {
     "data": {
      "text/plain": [
       "'la_026'"
      ]
     },
     "execution_count": 7,
     "metadata": {},
     "output_type": "execute_result"
    }
   ],
   "source": [
    "patients[0][:-7]"
   ]
  },
  {
   "cell_type": "code",
   "execution_count": 28,
   "metadata": {},
   "outputs": [],
   "source": [
    "names = []\n",
    "\n",
    "os.makedirs('../data/Task02_Heart/processed_data',exist_ok=True)\n",
    "\n",
    "count = 0\n",
    "\n",
    "for patient in patients:\n",
    "    img = nib.load(f'../data/Task02_Heart/imagesTr/{patient}')\n",
    "    img = np.array(img.dataobj)\n",
    "    seg = nib.load(f'../data/Task02_Heart/labelsTr/{patient}')\n",
    "    seg = np.array(seg.dataobj)\n",
    "    \n",
    "    patient = patient[:-7]\n",
    "    \n",
    "    os.makedirs(f'../data/Task02_Heart/processed_data/{patient}',exist_ok=True)\n",
    "    \n",
    "    for i in range(img.shape[-1]):\n",
    "        temp_img = img[:,:,i].reshape(320, 320,1)\n",
    "        temp_seg = seg[:,:,i].reshape(320, 320,1)\n",
    "        \n",
    "        \n",
    "        np.save(f'../data/Task02_Heart/processed_data/{patient}/{i}.npy',temp_img)\n",
    "        np.save(f'../data/Task02_Heart/processed_data/{patient}/{i}_seg.npy',temp_seg)\n",
    "        count+=1\n",
    "            "
   ]
  },
  {
   "cell_type": "code",
   "execution_count": 15,
   "metadata": {},
   "outputs": [],
   "source": [
    "for index,patient in enumerate(patients):\n",
    "    patients[index]=patient[:-7]"
   ]
  },
  {
   "cell_type": "code",
   "execution_count": 36,
   "metadata": {},
   "outputs": [],
   "source": [
    "patients = np.array(patients)\n",
    "\n",
    "kf = KFold(5,shuffle=True,random_state=42)\n",
    "for fold,(train_index, test_index) in enumerate(kf.split(patients)):\n",
    "    patients_train, patients_test = patients[train_index], patients[test_index]\n",
    "    \n",
    "    images_train = []\n",
    "    for patient in patients_train:\n",
    "        images_train+=[\n",
    "                f'../data/Task02_Heart/processed_data/{patient}/'+i[:-4]\n",
    "                for i in sorted(os.listdir(f'../data/Task02_Heart/processed_data/{patient}/'))\n",
    "                if i.find('.npy') != -1 and i.find('seg') == -1\n",
    "            ]\n",
    "    \n",
    "    \n",
    "    images_val = []\n",
    "    for patient in patients_test:\n",
    "        images_val+=[\n",
    "                f'../data/Task02_Heart/processed_data/{patient}/'+i[:-4]\n",
    "                for i in sorted(os.listdir(f'../data/Task02_Heart/processed_data/{patient}/'))\n",
    "                if i.find('.npy') != -1 and i.find('seg') == -1\n",
    "            ]\n",
    "        \n",
    "    \n",
    "    split = {\n",
    "        'train': images_train,\n",
    "        'val': images_val,\n",
    "    }\n",
    "    \n",
    "    \n",
    "    with open(f'../data/split_table/{fold}_split_table.json', 'w') as outfile:\n",
    "            json.dump(split, outfile)"
   ]
  },
  {
   "cell_type": "code",
   "execution_count": 19,
   "metadata": {},
   "outputs": [
    {
     "data": {
      "text/plain": [
       "\"../data/Task02_Heart/processed_data/['la_007' 'la_019' 'la_009' 'la_016' 'la_004' 'la_022' 'la_018' 'la_014'\\n 'la_011' 'la_010' 'la_024' 'la_020' 'la_023' 'la_030' 'la_021' 'la_017']/\""
      ]
     },
     "execution_count": 19,
     "metadata": {},
     "output_type": "execute_result"
    }
   ],
   "source": [
    "f'../data/Task02_Heart/processed_data/{patients_train}/'"
   ]
  },
  {
   "cell_type": "code",
   "execution_count": null,
   "metadata": {},
   "outputs": [],
   "source": []
  }
 ],
 "metadata": {
  "kernelspec": {
   "display_name": "Python 3",
   "language": "python",
   "name": "python3"
  },
  "language_info": {
   "codemirror_mode": {
    "name": "ipython",
    "version": 3
   },
   "file_extension": ".py",
   "mimetype": "text/x-python",
   "name": "python",
   "nbconvert_exporter": "python",
   "pygments_lexer": "ipython3",
   "version": "3.7.9"
  }
 },
 "nbformat": 4,
 "nbformat_minor": 4
}
