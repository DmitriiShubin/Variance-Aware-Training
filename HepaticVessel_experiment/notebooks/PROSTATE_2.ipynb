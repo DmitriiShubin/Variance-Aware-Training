{
 "cells": [
  {
   "cell_type": "code",
   "execution_count": 1,
   "metadata": {},
   "outputs": [
    {
     "name": "stdout",
     "output_type": "stream",
     "text": [
      "/home/dmitriishubin/Desktop/Thesis/HepaticVessel_experiment\n"
     ]
    }
   ],
   "source": [
    "cd .."
   ]
  },
  {
   "cell_type": "code",
   "execution_count": 2,
   "metadata": {},
   "outputs": [
    {
     "name": "stderr",
     "output_type": "stream",
     "text": [
      "/home/dmitriishubin/anaconda3/envs/thesis/lib/python3.7/site-packages/dicom/__init__.py:53: UserWarning: \n",
      "This code is using an older version of pydicom, which is no longer \n",
      "maintained as of Jan 2017.  You can access the new pydicom features and API \n",
      "by installing `pydicom` from PyPI.\n",
      "See 'Transitioning to pydicom 1.x' section at pydicom.readthedocs.org \n",
      "for more information.\n",
      "\n",
      "  warnings.warn(msg)\n"
     ]
    }
   ],
   "source": [
    "import pandas as pd\n",
    "import numpy as np\n",
    "import pydicom as dicom\n",
    "import nibabel as nib\n",
    "import os\n",
    "from sklearn.model_selection import KFold,train_test_split\n",
    "import json"
   ]
  },
  {
   "cell_type": "code",
   "execution_count": 4,
   "metadata": {},
   "outputs": [],
   "source": [
    "img = nib.load('../data/Task05_Prostate/imagesTr/prostate_00.nii.gz')\n",
    "img = np.array(img.dataobj)"
   ]
  },
  {
   "cell_type": "code",
   "execution_count": 5,
   "metadata": {},
   "outputs": [
    {
     "data": {
      "text/plain": [
       "(320, 320, 15, 2)"
      ]
     },
     "execution_count": 5,
     "metadata": {},
     "output_type": "execute_result"
    }
   ],
   "source": [
    "img.shape"
   ]
  },
  {
   "cell_type": "code",
   "execution_count": 6,
   "metadata": {},
   "outputs": [],
   "source": [
    "patients = [i for i in os.listdir('../data/Task05_Prostate/imagesTr/') if i.find('._pr')==-1]"
   ]
  },
  {
   "cell_type": "code",
   "execution_count": 7,
   "metadata": {},
   "outputs": [
    {
     "data": {
      "text/plain": [
       "['prostate_46.nii.gz',\n",
       " 'prostate_01.nii.gz',\n",
       " 'prostate_13.nii.gz',\n",
       " 'prostate_42.nii.gz',\n",
       " 'prostate_39.nii.gz',\n",
       " 'prostate_16.nii.gz',\n",
       " 'prostate_32.nii.gz',\n",
       " 'prostate_40.nii.gz',\n",
       " 'prostate_25.nii.gz',\n",
       " 'prostate_44.nii.gz',\n",
       " 'prostate_02.nii.gz',\n",
       " 'prostate_17.nii.gz',\n",
       " 'prostate_28.nii.gz',\n",
       " 'prostate_34.nii.gz',\n",
       " 'prostate_04.nii.gz',\n",
       " 'prostate_31.nii.gz',\n",
       " 'prostate_21.nii.gz',\n",
       " 'prostate_43.nii.gz',\n",
       " 'prostate_29.nii.gz',\n",
       " 'prostate_38.nii.gz',\n",
       " 'prostate_37.nii.gz',\n",
       " 'prostate_00.nii.gz',\n",
       " 'prostate_07.nii.gz',\n",
       " 'prostate_35.nii.gz',\n",
       " 'prostate_41.nii.gz',\n",
       " 'prostate_24.nii.gz',\n",
       " 'prostate_10.nii.gz',\n",
       " 'prostate_20.nii.gz',\n",
       " 'prostate_47.nii.gz',\n",
       " 'prostate_06.nii.gz',\n",
       " 'prostate_14.nii.gz',\n",
       " 'prostate_18.nii.gz']"
      ]
     },
     "execution_count": 7,
     "metadata": {},
     "output_type": "execute_result"
    }
   ],
   "source": [
    "patients"
   ]
  },
  {
   "cell_type": "code",
   "execution_count": null,
   "metadata": {},
   "outputs": [],
   "source": [
    "patients[0][:-7]"
   ]
  },
  {
   "cell_type": "code",
   "execution_count": null,
   "metadata": {},
   "outputs": [],
   "source": [
    "names = []\n",
    "\n",
    "os.makedirs('../data/Task06_Lung/processed_data',exist_ok=True)\n",
    "\n",
    "count = 0\n",
    "\n",
    "for patient in patients:\n",
    "    img = nib.load(f'../data/Task06_Lung/imagesTr/{patient}')\n",
    "    img = np.array(img.dataobj)\n",
    "    seg = nib.load(f'../data/Task06_Lung/labelsTr/{patient}')\n",
    "    seg = np.array(seg.dataobj)\n",
    "    \n",
    "    patient = patient[:-7]\n",
    "    \n",
    "    os.makedirs(f'../data/Task06_Lung/processed_data/{patient}',exist_ok=True)\n",
    "    \n",
    "    for i in range(img.shape[-1]):\n",
    "        temp_img = img[:,:,i].reshape(320, 320,1)\n",
    "        temp_seg = seg[:,:,i].reshape(320, 320,1)\n",
    "        \n",
    "        \n",
    "        np.save(f'../data/Task06_Lung/processed_data/{patient}/{i}.npy',temp_img)\n",
    "        np.save(f'../data/Task06_Lung/processed_data/{patient}/{i}_seg.npy',temp_seg)\n",
    "        count+=1\n",
    "            "
   ]
  },
  {
   "cell_type": "code",
   "execution_count": 8,
   "metadata": {},
   "outputs": [],
   "source": [
    "for index,patient in enumerate(patients):\n",
    "    patients[index]=patient[:-7]"
   ]
  },
  {
   "cell_type": "code",
   "execution_count": null,
   "metadata": {},
   "outputs": [],
   "source": [
    "patients = np.array(patients)\n",
    "\n",
    "kf = KFold(5,shuffle=True,random_state=42)\n",
    "for fold,(train_index, test_index) in enumerate(kf.split(patients)):\n",
    "    patients_train, patients_test = patients[train_index], patients[test_index]\n",
    "    \n",
    "    images_train = []\n",
    "    for patient in patients_train:\n",
    "        images_train+=[\n",
    "                f'../data/Task06_Lung/processed_data/{patient}/'+i[:-4]\n",
    "                for i in sorted(os.listdir(f'../data/Task09_Spleen/processed_data/{patient}/'))\n",
    "                if i.find('.npy') != -1 and i.find('seg') == -1\n",
    "            ]\n",
    "    \n",
    "    \n",
    "    images_val = []\n",
    "    for patient in patients_test:\n",
    "        images_val+=[\n",
    "                f'../data/Task06_Lung/processed_data/{patient}/'+i[:-4]\n",
    "                for i in sorted(os.listdir(f'../data/Task09_Spleen/processed_data/{patient}/'))\n",
    "                if i.find('.npy') != -1 and i.find('seg') == -1\n",
    "            ]\n",
    "        \n",
    "    \n",
    "    split = {\n",
    "        'train': images_train,\n",
    "        'val': images_val,\n",
    "    }\n",
    "    \n",
    "    \n",
    "    with open(f'../data/split_table/{fold}_split_table.json', 'w') as outfile:\n",
    "            json.dump(split, outfile)"
   ]
  },
  {
   "cell_type": "code",
   "execution_count": 9,
   "metadata": {},
   "outputs": [
    {
     "data": {
      "text/plain": [
       "['prostate_46',\n",
       " 'prostate_01',\n",
       " 'prostate_13',\n",
       " 'prostate_42',\n",
       " 'prostate_39',\n",
       " 'prostate_16',\n",
       " 'prostate_32',\n",
       " 'prostate_40',\n",
       " 'prostate_25',\n",
       " 'prostate_44',\n",
       " 'prostate_02',\n",
       " 'prostate_17',\n",
       " 'prostate_28',\n",
       " 'prostate_34',\n",
       " 'prostate_04',\n",
       " 'prostate_31',\n",
       " 'prostate_21',\n",
       " 'prostate_43',\n",
       " 'prostate_29',\n",
       " 'prostate_38',\n",
       " 'prostate_37',\n",
       " 'prostate_00',\n",
       " 'prostate_07',\n",
       " 'prostate_35',\n",
       " 'prostate_41',\n",
       " 'prostate_24',\n",
       " 'prostate_10',\n",
       " 'prostate_20',\n",
       " 'prostate_47',\n",
       " 'prostate_06',\n",
       " 'prostate_14',\n",
       " 'prostate_18']"
      ]
     },
     "execution_count": 9,
     "metadata": {},
     "output_type": "execute_result"
    }
   ],
   "source": [
    "patients"
   ]
  },
  {
   "cell_type": "code",
   "execution_count": 18,
   "metadata": {},
   "outputs": [],
   "source": [
    "patients = np.array(patients)\n",
    "\n",
    "for fold in range(5):\n",
    "\n",
    "    patients_train, patients_test = train_test_split(patients, test_size=0.3, random_state=fold)\n",
    "\n",
    "    patients_train, patients_val = train_test_split(patients_train, test_size=0.2, random_state=fold)\n",
    "\n",
    "    images_train = []\n",
    "    for patient in patients_train:\n",
    "        images_train+=[\n",
    "                f'../data/Task05_Prostate/processed_data/{patient}/'+i[:-4]\n",
    "                for i in sorted(os.listdir(f'../data/Task05_Prostate/processed_data/{patient}/'))\n",
    "                if i.find('.npy') != -1 and i.find('seg') == -1\n",
    "            ]\n",
    "\n",
    "\n",
    "    images_val = []\n",
    "    for patient in patients_val:\n",
    "        images_val+=[\n",
    "                f'../data/Task05_Prostate/processed_data/{patient}/'+i[:-4]\n",
    "                for i in sorted(os.listdir(f'../data/Task05_Prostate/processed_data/{patient}/'))\n",
    "                if i.find('.npy') != -1 and i.find('seg') == -1\n",
    "            ]\n",
    "\n",
    "    images_test = []\n",
    "    for patient in patients_test:\n",
    "        images_test+=[\n",
    "                f'../data/Task05_Prostate/processed_data/{patient}/'+i[:-4]\n",
    "                for i in sorted(os.listdir(f'../data/Task05_Prostate/processed_data/{patient}/'))\n",
    "                if i.find('.npy') != -1 and i.find('seg') == -1\n",
    "            ]\n",
    "\n",
    "\n",
    "    split = {\n",
    "        'train': images_train,\n",
    "        'val': images_val,\n",
    "        'test': images_test,\n",
    "    }\n",
    "\n",
    "\n",
    "    with open(f'../data/split_table/{fold}_split_table.json', 'w') as outfile:\n",
    "            json.dump(split, outfile)"
   ]
  },
  {
   "cell_type": "code",
   "execution_count": 19,
   "metadata": {},
   "outputs": [
    {
     "data": {
      "text/plain": [
       "17"
      ]
     },
     "execution_count": 19,
     "metadata": {},
     "output_type": "execute_result"
    }
   ],
   "source": [
    "len(patients_train)"
   ]
  },
  {
   "cell_type": "code",
   "execution_count": 20,
   "metadata": {},
   "outputs": [
    {
     "data": {
      "text/plain": [
       "5"
      ]
     },
     "execution_count": 20,
     "metadata": {},
     "output_type": "execute_result"
    }
   ],
   "source": [
    "len(patients_val)"
   ]
  },
  {
   "cell_type": "code",
   "execution_count": 17,
   "metadata": {},
   "outputs": [
    {
     "data": {
      "text/plain": [
       "8"
      ]
     },
     "execution_count": 17,
     "metadata": {},
     "output_type": "execute_result"
    }
   ],
   "source": [
    "len(patients_test)"
   ]
  },
  {
   "cell_type": "code",
   "execution_count": null,
   "metadata": {},
   "outputs": [],
   "source": [
    "f'../data/Task02_Heart/processed_data/{patients_train}/'"
   ]
  },
  {
   "cell_type": "code",
   "execution_count": null,
   "metadata": {},
   "outputs": [],
   "source": []
  }
 ],
 "metadata": {
  "kernelspec": {
   "display_name": "Python 3",
   "language": "python",
   "name": "python3"
  },
  "language_info": {
   "codemirror_mode": {
    "name": "ipython",
    "version": 3
   },
   "file_extension": ".py",
   "mimetype": "text/x-python",
   "name": "python",
   "nbconvert_exporter": "python",
   "pygments_lexer": "ipython3",
   "version": "3.7.9"
  }
 },
 "nbformat": 4,
 "nbformat_minor": 4
}
