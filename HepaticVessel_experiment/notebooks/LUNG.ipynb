{
 "cells": [
  {
   "cell_type": "code",
   "execution_count": 1,
   "metadata": {},
   "outputs": [
    {
     "name": "stdout",
     "output_type": "stream",
     "text": [
      "/home/dmitriishubin/Desktop/Thesis/HepaticVessel_experiment\n"
     ]
    }
   ],
   "source": [
    "cd .."
   ]
  },
  {
   "cell_type": "code",
   "execution_count": 2,
   "metadata": {},
   "outputs": [
    {
     "name": "stderr",
     "output_type": "stream",
     "text": [
      "/home/dmitriishubin/anaconda3/envs/thesis/lib/python3.7/site-packages/dicom/__init__.py:53: UserWarning: \n",
      "This code is using an older version of pydicom, which is no longer \n",
      "maintained as of Jan 2017.  You can access the new pydicom features and API \n",
      "by installing `pydicom` from PyPI.\n",
      "See 'Transitioning to pydicom 1.x' section at pydicom.readthedocs.org \n",
      "for more information.\n",
      "\n",
      "  warnings.warn(msg)\n"
     ]
    }
   ],
   "source": [
    "import pandas as pd\n",
    "import numpy as np\n",
    "import pydicom as dicom\n",
    "import nibabel as nib\n",
    "import os\n",
    "from sklearn.model_selection import KFold\n",
    "import json\n",
    "import matplotlib.pyplot as plt\n",
    "import cv2"
   ]
  },
  {
   "cell_type": "code",
   "execution_count": 3,
   "metadata": {},
   "outputs": [],
   "source": [
    "DATA_PATH = '../data/Task06_Lung/'"
   ]
  },
  {
   "cell_type": "code",
   "execution_count": 5,
   "metadata": {},
   "outputs": [],
   "source": [
    "img = nib.load(f'{DATA_PATH}imagesTr/lung_003.nii.gz')\n",
    "img = np.array(img.dataobj)"
   ]
  },
  {
   "cell_type": "code",
   "execution_count": 9,
   "metadata": {},
   "outputs": [],
   "source": [
    "patients = [i for i in os.listdir(f'{DATA_PATH}imagesTr/') if i.find('._lu')==-1]"
   ]
  },
  {
   "cell_type": "code",
   "execution_count": 10,
   "metadata": {},
   "outputs": [
    {
     "data": {
      "text/plain": [
       "['lung_054.nii.gz',\n",
       " 'lung_047.nii.gz',\n",
       " 'lung_014.nii.gz',\n",
       " 'lung_093.nii.gz',\n",
       " 'lung_042.nii.gz',\n",
       " 'lung_095.nii.gz',\n",
       " 'lung_006.nii.gz',\n",
       " 'lung_037.nii.gz',\n",
       " 'lung_023.nii.gz',\n",
       " 'lung_058.nii.gz',\n",
       " 'lung_055.nii.gz',\n",
       " 'lung_065.nii.gz',\n",
       " 'lung_022.nii.gz',\n",
       " 'lung_066.nii.gz',\n",
       " 'lung_073.nii.gz',\n",
       " 'lung_071.nii.gz',\n",
       " 'lung_031.nii.gz',\n",
       " 'lung_086.nii.gz',\n",
       " 'lung_053.nii.gz',\n",
       " 'lung_025.nii.gz',\n",
       " 'lung_048.nii.gz',\n",
       " 'lung_096.nii.gz',\n",
       " 'lung_003.nii.gz',\n",
       " 'lung_043.nii.gz',\n",
       " 'lung_079.nii.gz',\n",
       " 'lung_045.nii.gz',\n",
       " 'lung_036.nii.gz',\n",
       " 'lung_028.nii.gz',\n",
       " 'lung_016.nii.gz',\n",
       " 'lung_041.nii.gz',\n",
       " 'lung_062.nii.gz',\n",
       " 'lung_070.nii.gz',\n",
       " 'lung_075.nii.gz',\n",
       " 'lung_018.nii.gz',\n",
       " 'lung_059.nii.gz',\n",
       " 'lung_004.nii.gz',\n",
       " 'lung_069.nii.gz',\n",
       " 'lung_057.nii.gz',\n",
       " 'lung_064.nii.gz',\n",
       " 'lung_001.nii.gz',\n",
       " 'lung_015.nii.gz',\n",
       " 'lung_027.nii.gz',\n",
       " 'lung_081.nii.gz',\n",
       " 'lung_005.nii.gz',\n",
       " 'lung_049.nii.gz',\n",
       " 'lung_051.nii.gz',\n",
       " 'lung_061.nii.gz',\n",
       " 'lung_092.nii.gz',\n",
       " 'lung_078.nii.gz',\n",
       " 'lung_083.nii.gz',\n",
       " 'lung_038.nii.gz',\n",
       " 'lung_026.nii.gz',\n",
       " 'lung_020.nii.gz',\n",
       " 'lung_009.nii.gz',\n",
       " 'lung_029.nii.gz',\n",
       " 'lung_010.nii.gz',\n",
       " 'lung_034.nii.gz',\n",
       " 'lung_080.nii.gz',\n",
       " 'lung_033.nii.gz',\n",
       " 'lung_074.nii.gz',\n",
       " 'lung_046.nii.gz',\n",
       " 'lung_044.nii.gz',\n",
       " 'lung_084.nii.gz']"
      ]
     },
     "execution_count": 10,
     "metadata": {},
     "output_type": "execute_result"
    }
   ],
   "source": [
    "patients"
   ]
  },
  {
   "cell_type": "code",
   "execution_count": 12,
   "metadata": {},
   "outputs": [],
   "source": [
    "names = []\n",
    "\n",
    "os.makedirs(f'{DATA_PATH}processed_data',exist_ok=True)\n",
    "\n",
    "count = 0\n",
    "\n",
    "for patient in patients:\n",
    "    img = nib.load(f'{DATA_PATH}imagesTr/{patient}')\n",
    "    img = np.array(img.dataobj)\n",
    "    seg = nib.load(f'{DATA_PATH}labelsTr/{patient}')\n",
    "    seg = np.array(seg.dataobj)\n",
    "    \n",
    "    patient = patient[:-7]\n",
    "    \n",
    "    os.makedirs(f'{DATA_PATH}processed_data/{patient}',exist_ok=True)\n",
    "    \n",
    "    for i in range(img.shape[-1]):\n",
    "        temp_img = img[:,:,i]\n",
    "        temp_seg = seg[:,:,i]\n",
    "        \n",
    "        temp_img = temp_img.reshape(temp_img.shape[0], temp_img.shape[1],1)\n",
    "        temp_seg = temp_seg.reshape(temp_seg.shape[0], temp_seg.shape[1],1)\n",
    "        \n",
    "        \n",
    "        np.save(f'{DATA_PATH}processed_data/{patient}/{i}.npy',temp_img)\n",
    "        np.save(f'{DATA_PATH}processed_data/{patient}/{i}_seg.npy',temp_seg)\n",
    "        count+=1\n",
    "            "
   ]
  },
  {
   "cell_type": "code",
   "execution_count": 13,
   "metadata": {},
   "outputs": [],
   "source": [
    "for index,patient in enumerate(patients):\n",
    "    patients[index]=patient[:-7]"
   ]
  },
  {
   "cell_type": "code",
   "execution_count": 14,
   "metadata": {},
   "outputs": [],
   "source": [
    "patients = np.array(patients)\n",
    "\n",
    "kf = KFold(5,shuffle=True,random_state=42)\n",
    "for fold,(train_index, test_index) in enumerate(kf.split(patients)):\n",
    "    patients_train, patients_test = patients[train_index], patients[test_index]\n",
    "    \n",
    "    split = {\n",
    "        'train': patients_train.tolist(),\n",
    "        'val': patients_test.tolist(),\n",
    "    }\n",
    "    \n",
    "    with open(f'../data/split_table/{fold}_split_table.json', 'w') as outfile:\n",
    "            json.dump(split, outfile)"
   ]
  },
  {
   "cell_type": "code",
   "execution_count": null,
   "metadata": {},
   "outputs": [],
   "source": []
  }
 ],
 "metadata": {
  "kernelspec": {
   "display_name": "Python 3",
   "language": "python",
   "name": "python3"
  },
  "language_info": {
   "codemirror_mode": {
    "name": "ipython",
    "version": 3
   },
   "file_extension": ".py",
   "mimetype": "text/x-python",
   "name": "python",
   "nbconvert_exporter": "python",
   "pygments_lexer": "ipython3",
   "version": "3.7.9"
  }
 },
 "nbformat": 4,
 "nbformat_minor": 4
}
