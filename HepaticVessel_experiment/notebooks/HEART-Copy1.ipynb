{
 "cells": [
  {
   "cell_type": "code",
   "execution_count": 1,
   "metadata": {},
   "outputs": [
    {
     "name": "stdout",
     "output_type": "stream",
     "text": [
      "/home/dmitriishubin/Desktop/Thesis/HepaticVessel_experiment\n"
     ]
    }
   ],
   "source": [
    "cd .."
   ]
  },
  {
   "cell_type": "code",
   "execution_count": 8,
   "metadata": {},
   "outputs": [],
   "source": [
    "import pandas as pd\n",
    "import numpy as np\n",
    "import pydicom as dicom\n",
    "import nibabel as nib\n",
    "import os\n",
    "from sklearn.model_selection import KFold,train_test_split\n",
    "import json"
   ]
  },
  {
   "cell_type": "code",
   "execution_count": 3,
   "metadata": {},
   "outputs": [],
   "source": [
    "img = nib.load('../data/Task09_Spleen/imagesTr/spleen_10.nii.gz')\n",
    "img = np.array(img.dataobj)"
   ]
  },
  {
   "cell_type": "code",
   "execution_count": 4,
   "metadata": {},
   "outputs": [
    {
     "data": {
      "text/plain": [
       "(512, 512, 55)"
      ]
     },
     "execution_count": 4,
     "metadata": {},
     "output_type": "execute_result"
    }
   ],
   "source": [
    "img.shape"
   ]
  },
  {
   "cell_type": "code",
   "execution_count": 5,
   "metadata": {},
   "outputs": [],
   "source": [
    "patients = [i for i in os.listdir('../data/Task09_Spleen/imagesTr/') if i.find('._sp')==-1]"
   ]
  },
  {
   "cell_type": "code",
   "execution_count": 6,
   "metadata": {},
   "outputs": [
    {
     "data": {
      "text/plain": [
       "['spleen_18.nii.gz',\n",
       " 'spleen_63.nii.gz',\n",
       " 'spleen_16.nii.gz',\n",
       " 'spleen_41.nii.gz',\n",
       " 'spleen_62.nii.gz',\n",
       " 'spleen_6.nii.gz',\n",
       " 'spleen_47.nii.gz',\n",
       " 'spleen_61.nii.gz',\n",
       " 'spleen_60.nii.gz',\n",
       " 'spleen_59.nii.gz',\n",
       " 'spleen_22.nii.gz',\n",
       " 'spleen_28.nii.gz',\n",
       " 'spleen_25.nii.gz',\n",
       " 'spleen_14.nii.gz',\n",
       " 'spleen_3.nii.gz',\n",
       " 'spleen_17.nii.gz',\n",
       " 'spleen_52.nii.gz',\n",
       " 'spleen_49.nii.gz',\n",
       " 'spleen_56.nii.gz',\n",
       " 'spleen_24.nii.gz',\n",
       " 'spleen_40.nii.gz',\n",
       " 'spleen_13.nii.gz',\n",
       " 'spleen_45.nii.gz',\n",
       " 'spleen_9.nii.gz',\n",
       " 'spleen_26.nii.gz',\n",
       " 'spleen_46.nii.gz',\n",
       " 'spleen_38.nii.gz',\n",
       " 'spleen_21.nii.gz',\n",
       " 'spleen_32.nii.gz',\n",
       " 'spleen_53.nii.gz',\n",
       " 'spleen_12.nii.gz',\n",
       " 'spleen_19.nii.gz',\n",
       " 'spleen_20.nii.gz',\n",
       " 'spleen_27.nii.gz',\n",
       " 'spleen_29.nii.gz',\n",
       " 'spleen_8.nii.gz',\n",
       " 'spleen_44.nii.gz',\n",
       " 'spleen_33.nii.gz',\n",
       " 'spleen_31.nii.gz',\n",
       " 'spleen_2.nii.gz',\n",
       " 'spleen_10.nii.gz']"
      ]
     },
     "execution_count": 6,
     "metadata": {},
     "output_type": "execute_result"
    }
   ],
   "source": [
    "patients"
   ]
  },
  {
   "cell_type": "code",
   "execution_count": 7,
   "metadata": {},
   "outputs": [
    {
     "data": {
      "text/plain": [
       "'spleen_18'"
      ]
     },
     "execution_count": 7,
     "metadata": {},
     "output_type": "execute_result"
    }
   ],
   "source": [
    "patients[0][:-7]"
   ]
  },
  {
   "cell_type": "code",
   "execution_count": 28,
   "metadata": {},
   "outputs": [],
   "source": [
    "names = []\n",
    "\n",
    "os.makedirs('../data/Task09_Spleen/processed_data',exist_ok=True)\n",
    "\n",
    "count = 0\n",
    "\n",
    "for patient in patients:\n",
    "    img = nib.load(f'../data/Task02_Heart/imagesTr/{patient}')\n",
    "    img = np.array(img.dataobj)\n",
    "    seg = nib.load(f'../data/Task02_Heart/labelsTr/{patient}')\n",
    "    seg = np.array(seg.dataobj)\n",
    "    \n",
    "    patient = patient[:-7]\n",
    "    \n",
    "    os.makedirs(f'../data/Task02_Heart/processed_data/{patient}',exist_ok=True)\n",
    "    \n",
    "    for i in range(img.shape[-1]):\n",
    "        temp_img = img[:,:,i].reshape(320, 320,1)\n",
    "        temp_seg = seg[:,:,i].reshape(320, 320,1)\n",
    "        \n",
    "        \n",
    "        np.save(f'../data/Task02_Heart/processed_data/{patient}/{i}.npy',temp_img)\n",
    "        np.save(f'../data/Task02_Heart/processed_data/{patient}/{i}_seg.npy',temp_seg)\n",
    "        count+=1\n",
    "            "
   ]
  },
  {
   "cell_type": "code",
   "execution_count": 11,
   "metadata": {},
   "outputs": [],
   "source": [
    "for index,patient in enumerate(patients):\n",
    "    patients[index]=patient[:-7]"
   ]
  },
  {
   "cell_type": "code",
   "execution_count": 13,
   "metadata": {},
   "outputs": [],
   "source": [
    "patients = np.array(patients)\n",
    "\n",
    "kf = KFold(5,shuffle=True,random_state=42)\n",
    "for fold,(train_index, test_index) in enumerate(kf.split(patients)):\n",
    "    patients_train, patients_test = patients[train_index], patients[test_index]\n",
    "    \n",
    "    images_train = []\n",
    "    for patient in patients_train:\n",
    "        images_train+=[\n",
    "                f'../data/Task09_Spleen/processed_data/{patient}/'+i[:-4]\n",
    "                for i in sorted(os.listdir(f'../data/Task09_Spleen/processed_data/{patient}/'))\n",
    "                if i.find('.npy') != -1 and i.find('seg') == -1\n",
    "            ]\n",
    "    \n",
    "    \n",
    "    images_val = []\n",
    "    for patient in patients_test:\n",
    "        images_val+=[\n",
    "                f'../data/Task09_Spleen/processed_data/{patient}/'+i[:-4]\n",
    "                for i in sorted(os.listdir(f'../data/Task09_Spleen/processed_data/{patient}/'))\n",
    "                if i.find('.npy') != -1 and i.find('seg') == -1\n",
    "            ]\n",
    "        \n",
    "    \n",
    "    split = {\n",
    "        'train': images_train,\n",
    "        'val': images_val,\n",
    "    }\n",
    "    \n",
    "    \n",
    "    with open(f'../data/split_table/{fold}_split_table.json', 'w') as outfile:\n",
    "            json.dump(split, outfile)"
   ]
  },
  {
   "cell_type": "code",
   "execution_count": 14,
   "metadata": {},
   "outputs": [
    {
     "data": {
      "text/plain": [
       "array(['spleen_18.nii.gz', 'spleen_63.nii.gz', 'spleen_16.nii.gz',\n",
       "       'spleen_41.nii.gz', 'spleen_62.nii.gz', 'spleen_6.nii.gz',\n",
       "       'spleen_47.nii.gz', 'spleen_61.nii.gz', 'spleen_60.nii.gz',\n",
       "       'spleen_59.nii.gz', 'spleen_22.nii.gz', 'spleen_28.nii.gz',\n",
       "       'spleen_25.nii.gz', 'spleen_14.nii.gz', 'spleen_3.nii.gz',\n",
       "       'spleen_17.nii.gz', 'spleen_52.nii.gz', 'spleen_49.nii.gz',\n",
       "       'spleen_56.nii.gz', 'spleen_24.nii.gz', 'spleen_40.nii.gz',\n",
       "       'spleen_13.nii.gz', 'spleen_45.nii.gz', 'spleen_9.nii.gz',\n",
       "       'spleen_26.nii.gz', 'spleen_46.nii.gz', 'spleen_38.nii.gz',\n",
       "       'spleen_21.nii.gz', 'spleen_32.nii.gz', 'spleen_53.nii.gz',\n",
       "       'spleen_12.nii.gz', 'spleen_19.nii.gz', 'spleen_20.nii.gz',\n",
       "       'spleen_27.nii.gz', 'spleen_29.nii.gz', 'spleen_8.nii.gz',\n",
       "       'spleen_44.nii.gz', 'spleen_33.nii.gz', 'spleen_31.nii.gz',\n",
       "       'spleen_2.nii.gz', 'spleen_10.nii.gz'], dtype='<U16')"
      ]
     },
     "execution_count": 14,
     "metadata": {},
     "output_type": "execute_result"
    }
   ],
   "source": [
    "patients"
   ]
  },
  {
   "cell_type": "code",
   "execution_count": 9,
   "metadata": {},
   "outputs": [
    {
     "ename": "NameError",
     "evalue": "name 'a' is not defined",
     "output_type": "error",
     "traceback": [
      "\u001b[0;31m---------------------------------------------------------------------------\u001b[0m",
      "\u001b[0;31mNameError\u001b[0m                                 Traceback (most recent call last)",
      "\u001b[0;32m<ipython-input-9-b99784782ccc>\u001b[0m in \u001b[0;36m<module>\u001b[0;34m\u001b[0m\n\u001b[1;32m      5\u001b[0m \u001b[0mpatients_train\u001b[0m\u001b[0;34m,\u001b[0m \u001b[0mpatients_val\u001b[0m \u001b[0;34m=\u001b[0m \u001b[0mtrain_test_split\u001b[0m\u001b[0;34m(\u001b[0m\u001b[0mpatients_train\u001b[0m\u001b[0;34m,\u001b[0m \u001b[0mtest_size\u001b[0m\u001b[0;34m=\u001b[0m\u001b[0;36m0.25\u001b[0m\u001b[0;34m,\u001b[0m \u001b[0mrandom_state\u001b[0m\u001b[0;34m=\u001b[0m\u001b[0;36m42\u001b[0m\u001b[0;34m)\u001b[0m\u001b[0;34m\u001b[0m\u001b[0;34m\u001b[0m\u001b[0m\n\u001b[1;32m      6\u001b[0m \u001b[0;34m\u001b[0m\u001b[0m\n\u001b[0;32m----> 7\u001b[0;31m \u001b[0ma\u001b[0m\u001b[0;34m\u001b[0m\u001b[0;34m\u001b[0m\u001b[0m\n\u001b[0m\u001b[1;32m      8\u001b[0m \u001b[0mimages_train\u001b[0m \u001b[0;34m=\u001b[0m \u001b[0;34m[\u001b[0m\u001b[0;34m]\u001b[0m\u001b[0;34m\u001b[0m\u001b[0;34m\u001b[0m\u001b[0m\n\u001b[1;32m      9\u001b[0m \u001b[0;32mfor\u001b[0m \u001b[0mpatient\u001b[0m \u001b[0;32min\u001b[0m \u001b[0mpatients_train\u001b[0m\u001b[0;34m:\u001b[0m\u001b[0;34m\u001b[0m\u001b[0;34m\u001b[0m\u001b[0m\n",
      "\u001b[0;31mNameError\u001b[0m: name 'a' is not defined"
     ]
    }
   ],
   "source": [
    "patients = np.array(patients)\n",
    "\n",
    "patients_train, patients_test = train_test_split(patients, test_size=0.2, random_state=42)\n",
    "\n",
    "patients_train, patients_val = train_test_split(patients_train, test_size=0.25, random_state=42)\n",
    "\n",
    "a\n",
    "images_train = []\n",
    "for patient in patients_train:\n",
    "    images_train+=[\n",
    "            f'../data/Task09_Spleen/processed_data/{patient}/'+i[:-4]\n",
    "            for i in sorted(os.listdir(f'../data/Task09_Spleen/processed_data/{patient}/'))\n",
    "            if i.find('.npy') != -1 and i.find('seg') == -1\n",
    "        ]\n",
    "\n",
    "\n",
    "images_val = []\n",
    "for patient in patients_test:\n",
    "    images_val+=[\n",
    "            f'../data/Task09_Spleen/processed_data/{patient}/'+i[:-4]\n",
    "            for i in sorted(os.listdir(f'../data/Task09_Spleen/processed_data/{patient}/'))\n",
    "            if i.find('.npy') != -1 and i.find('seg') == -1\n",
    "        ]\n",
    "\n",
    "\n",
    "split = {\n",
    "    'train': images_train,\n",
    "    'val': images_val,\n",
    "}\n",
    "\n",
    "\n",
    "with open(f'../data/split_table/{fold}_split_table.json', 'w') as outfile:\n",
    "        json.dump(split, outfile)"
   ]
  },
  {
   "cell_type": "code",
   "execution_count": 13,
   "metadata": {},
   "outputs": [
    {
     "data": {
      "text/plain": [
       "41"
      ]
     },
     "execution_count": 13,
     "metadata": {},
     "output_type": "execute_result"
    }
   ],
   "source": [
    "len(patients_train)"
   ]
  },
  {
   "cell_type": "code",
   "execution_count": 12,
   "metadata": {},
   "outputs": [
    {
     "data": {
      "text/plain": [
       "8"
      ]
     },
     "execution_count": 12,
     "metadata": {},
     "output_type": "execute_result"
    }
   ],
   "source": [
    "len(patients_val)"
   ]
  },
  {
   "cell_type": "code",
   "execution_count": 19,
   "metadata": {},
   "outputs": [
    {
     "data": {
      "text/plain": [
       "\"../data/Task02_Heart/processed_data/['la_007' 'la_019' 'la_009' 'la_016' 'la_004' 'la_022' 'la_018' 'la_014'\\n 'la_011' 'la_010' 'la_024' 'la_020' 'la_023' 'la_030' 'la_021' 'la_017']/\""
      ]
     },
     "execution_count": 19,
     "metadata": {},
     "output_type": "execute_result"
    }
   ],
   "source": [
    "f'../data/Task02_Heart/processed_data/{patients_train}/'"
   ]
  },
  {
   "cell_type": "code",
   "execution_count": null,
   "metadata": {},
   "outputs": [],
   "source": []
  }
 ],
 "metadata": {
  "kernelspec": {
   "display_name": "Python 3",
   "language": "python",
   "name": "python3"
  },
  "language_info": {
   "codemirror_mode": {
    "name": "ipython",
    "version": 3
   },
   "file_extension": ".py",
   "mimetype": "text/x-python",
   "name": "python",
   "nbconvert_exporter": "python",
   "pygments_lexer": "ipython3",
   "version": "3.7.9"
  }
 },
 "nbformat": 4,
 "nbformat_minor": 4
}
