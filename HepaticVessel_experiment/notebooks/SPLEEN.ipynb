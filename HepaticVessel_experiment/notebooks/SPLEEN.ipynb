{
 "cells": [
  {
   "cell_type": "code",
   "execution_count": 1,
   "metadata": {},
   "outputs": [
    {
     "name": "stdout",
     "output_type": "stream",
     "text": [
      "/home/dmitriishubin/Desktop/Thesis/HepaticVessel_experiment\n"
     ]
    }
   ],
   "source": [
    "cd .."
   ]
  },
  {
   "cell_type": "code",
   "execution_count": 2,
   "metadata": {},
   "outputs": [
    {
     "name": "stderr",
     "output_type": "stream",
     "text": [
      "/home/dmitriishubin/anaconda3/envs/thesis/lib/python3.7/site-packages/dicom/__init__.py:53: UserWarning: \n",
      "This code is using an older version of pydicom, which is no longer \n",
      "maintained as of Jan 2017.  You can access the new pydicom features and API \n",
      "by installing `pydicom` from PyPI.\n",
      "See 'Transitioning to pydicom 1.x' section at pydicom.readthedocs.org \n",
      "for more information.\n",
      "\n",
      "  warnings.warn(msg)\n"
     ]
    }
   ],
   "source": [
    "import pandas as pd\n",
    "import numpy as np\n",
    "import pydicom as dicom\n",
    "import nibabel as nib\n",
    "import os\n",
    "from sklearn.model_selection import KFold\n",
    "import json"
   ]
  },
  {
   "cell_type": "code",
   "execution_count": 18,
   "metadata": {},
   "outputs": [],
   "source": [
    "DATA_PATH = '../data/Task09_Spleen/'"
   ]
  },
  {
   "cell_type": "code",
   "execution_count": 19,
   "metadata": {},
   "outputs": [],
   "source": [
    "img = nib.load(f'{DATA_PATH}imagesTr/spleen_10.nii.gz')\n",
    "img = np.array(img.dataobj)"
   ]
  },
  {
   "cell_type": "code",
   "execution_count": 20,
   "metadata": {},
   "outputs": [
    {
     "data": {
      "text/plain": [
       "(512, 512, 55)"
      ]
     },
     "execution_count": 20,
     "metadata": {},
     "output_type": "execute_result"
    }
   ],
   "source": [
    "img.shape"
   ]
  },
  {
   "cell_type": "code",
   "execution_count": 26,
   "metadata": {},
   "outputs": [],
   "source": [
    "patients = [i for i in os.listdir(f'{DATA_PATH}imagesTr/') if i.find('._spl')==-1]"
   ]
  },
  {
   "cell_type": "code",
   "execution_count": 27,
   "metadata": {},
   "outputs": [
    {
     "data": {
      "text/plain": [
       "['spleen_18.nii.gz',\n",
       " 'spleen_63.nii.gz',\n",
       " 'spleen_16.nii.gz',\n",
       " 'spleen_41.nii.gz',\n",
       " 'spleen_62.nii.gz',\n",
       " 'spleen_6.nii.gz',\n",
       " 'spleen_47.nii.gz',\n",
       " 'spleen_61.nii.gz',\n",
       " 'spleen_60.nii.gz',\n",
       " 'spleen_59.nii.gz',\n",
       " 'spleen_22.nii.gz',\n",
       " 'spleen_28.nii.gz',\n",
       " 'spleen_25.nii.gz',\n",
       " 'spleen_14.nii.gz',\n",
       " 'spleen_3.nii.gz',\n",
       " 'spleen_17.nii.gz',\n",
       " 'spleen_52.nii.gz',\n",
       " 'spleen_49.nii.gz',\n",
       " 'spleen_56.nii.gz',\n",
       " 'spleen_24.nii.gz',\n",
       " 'spleen_40.nii.gz',\n",
       " 'spleen_13.nii.gz',\n",
       " 'spleen_45.nii.gz',\n",
       " 'spleen_9.nii.gz',\n",
       " 'spleen_26.nii.gz',\n",
       " 'spleen_46.nii.gz',\n",
       " 'spleen_38.nii.gz',\n",
       " 'spleen_21.nii.gz',\n",
       " 'spleen_32.nii.gz',\n",
       " 'spleen_53.nii.gz',\n",
       " 'spleen_12.nii.gz',\n",
       " 'spleen_19.nii.gz',\n",
       " 'spleen_20.nii.gz',\n",
       " 'spleen_27.nii.gz',\n",
       " 'spleen_29.nii.gz',\n",
       " 'spleen_8.nii.gz',\n",
       " 'spleen_44.nii.gz',\n",
       " 'spleen_33.nii.gz',\n",
       " 'spleen_31.nii.gz',\n",
       " 'spleen_2.nii.gz',\n",
       " 'spleen_10.nii.gz']"
      ]
     },
     "execution_count": 27,
     "metadata": {},
     "output_type": "execute_result"
    }
   ],
   "source": [
    "patients"
   ]
  },
  {
   "cell_type": "code",
   "execution_count": 28,
   "metadata": {},
   "outputs": [
    {
     "data": {
      "text/plain": [
       "'spleen_18'"
      ]
     },
     "execution_count": 28,
     "metadata": {},
     "output_type": "execute_result"
    }
   ],
   "source": [
    "patients[0][:-7]"
   ]
  },
  {
   "cell_type": "code",
   "execution_count": 29,
   "metadata": {},
   "outputs": [],
   "source": [
    "names = []\n",
    "\n",
    "os.makedirs(f'{DATA_PATH}processed_data',exist_ok=True)\n",
    "\n",
    "count = 0\n",
    "\n",
    "for patient in patients:\n",
    "    img = nib.load(f'{DATA_PATH}imagesTr/{patient}')\n",
    "    img = np.array(img.dataobj)\n",
    "    seg = nib.load(f'{DATA_PATH}labelsTr/{patient}')\n",
    "    seg = np.array(seg.dataobj)\n",
    "    \n",
    "    patient = patient[:-7]\n",
    "    \n",
    "    os.makedirs(f'{DATA_PATH}processed_data/{patient}',exist_ok=True)\n",
    "    \n",
    "    for i in range(img.shape[-1]):\n",
    "        temp_img = img[:,:,i].reshape(512, 512,1)\n",
    "        temp_seg = seg[:,:,i].reshape(512, 512,1)\n",
    "        \n",
    "        \n",
    "        np.save(f'{DATA_PATH}processed_data/{patient}/{i}.npy',temp_img)\n",
    "        np.save(f'{DATA_PATH}processed_data/{patient}/{i}_seg.npy',temp_seg)\n",
    "        count+=1\n",
    "            "
   ]
  },
  {
   "cell_type": "code",
   "execution_count": 30,
   "metadata": {},
   "outputs": [],
   "source": [
    "for index,patient in enumerate(patients):\n",
    "    patients[index]=patient[:-7]"
   ]
  },
  {
   "cell_type": "code",
   "execution_count": 33,
   "metadata": {},
   "outputs": [],
   "source": [
    "patients = np.array(patients)\n",
    "\n",
    "kf = KFold(5,shuffle=True,random_state=42)\n",
    "for fold,(train_index, test_index) in enumerate(kf.split(patients)):\n",
    "    patients_train, patients_test = patients[train_index], patients[test_index]\n",
    "    \n",
    "    split = {\n",
    "        'train': patients_train.tolist(),\n",
    "        'val': patients_test.tolist(),\n",
    "    }\n",
    "    \n",
    "    with open(f'../data/split_table/{fold}_split_table.json', 'w') as outfile:\n",
    "            json.dump(split, outfile)"
   ]
  },
  {
   "cell_type": "code",
   "execution_count": null,
   "metadata": {},
   "outputs": [],
   "source": []
  }
 ],
 "metadata": {
  "kernelspec": {
   "display_name": "Python 3",
   "language": "python",
   "name": "python3"
  },
  "language_info": {
   "codemirror_mode": {
    "name": "ipython",
    "version": 3
   },
   "file_extension": ".py",
   "mimetype": "text/x-python",
   "name": "python",
   "nbconvert_exporter": "python",
   "pygments_lexer": "ipython3",
   "version": "3.7.9"
  }
 },
 "nbformat": 4,
 "nbformat_minor": 4
}
