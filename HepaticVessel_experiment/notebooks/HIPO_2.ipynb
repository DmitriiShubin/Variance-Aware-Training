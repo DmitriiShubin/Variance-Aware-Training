{
 "cells": [
  {
   "cell_type": "code",
   "execution_count": 1,
   "metadata": {},
   "outputs": [
    {
     "name": "stdout",
     "output_type": "stream",
     "text": [
      "/home/dmitriishubin/Desktop/Thesis/HepaticVessel_experiment\n"
     ]
    }
   ],
   "source": [
    "cd .."
   ]
  },
  {
   "cell_type": "code",
   "execution_count": 6,
   "metadata": {},
   "outputs": [],
   "source": [
    "import pandas as pd\n",
    "import numpy as np\n",
    "import pydicom as dicom\n",
    "import nibabel as nib\n",
    "import os\n",
    "from sklearn.model_selection import KFold,train_test_split\n",
    "import json\n",
    "import matplotlib.pyplot as plt"
   ]
  },
  {
   "cell_type": "code",
   "execution_count": 9,
   "metadata": {},
   "outputs": [],
   "source": [
    "img = nib.load('../data/Task04_Hippocampus/imagesTr/hippocampus_008.nii.gz')\n",
    "img = np.array(img.dataobj)"
   ]
  },
  {
   "cell_type": "code",
   "execution_count": 10,
   "metadata": {},
   "outputs": [
    {
     "data": {
      "text/plain": [
       "(36, 48, 40)"
      ]
     },
     "execution_count": 10,
     "metadata": {},
     "output_type": "execute_result"
    }
   ],
   "source": [
    "img.shape"
   ]
  },
  {
   "cell_type": "code",
   "execution_count": 11,
   "metadata": {},
   "outputs": [
    {
     "data": {
      "text/plain": [
       "<matplotlib.image.AxesImage at 0x7f4301bb79d0>"
      ]
     },
     "execution_count": 11,
     "metadata": {},
     "output_type": "execute_result"
    },
    {
     "data": {
      "image/png": "[encoded data removed]",
      "text/plain": [
       "<Figure size 432x288 with 1 Axes>"
      ]
     },
     "metadata": {
      "needs_background": "light"
     },
     "output_type": "display_data"
    }
   ],
   "source": [
    "plt.imshow(img[:,:,30])"
   ]
  },
  {
   "cell_type": "code",
   "execution_count": 7,
   "metadata": {},
   "outputs": [],
   "source": [
    "patients = [i for i in os.listdir('../data/Task09_Spleen/imagesTr/') if i.find('._sp')==-1]"
   ]
  },
  {
   "cell_type": "code",
   "execution_count": 8,
   "metadata": {},
   "outputs": [
    {
     "data": {
      "text/plain": [
       "['spleen_18.nii.gz',\n",
       " 'spleen_63.nii.gz',\n",
       " 'spleen_16.nii.gz',\n",
       " 'spleen_41.nii.gz',\n",
       " 'spleen_62.nii.gz',\n",
       " 'spleen_6.nii.gz',\n",
       " 'spleen_47.nii.gz',\n",
       " 'spleen_61.nii.gz',\n",
       " 'spleen_60.nii.gz',\n",
       " 'spleen_59.nii.gz',\n",
       " 'spleen_22.nii.gz',\n",
       " 'spleen_28.nii.gz',\n",
       " 'spleen_25.nii.gz',\n",
       " 'spleen_14.nii.gz',\n",
       " 'spleen_3.nii.gz',\n",
       " 'spleen_17.nii.gz',\n",
       " 'spleen_52.nii.gz',\n",
       " 'spleen_49.nii.gz',\n",
       " 'spleen_56.nii.gz',\n",
       " 'spleen_24.nii.gz',\n",
       " 'spleen_40.nii.gz',\n",
       " 'spleen_13.nii.gz',\n",
       " 'spleen_45.nii.gz',\n",
       " 'spleen_9.nii.gz',\n",
       " 'spleen_26.nii.gz',\n",
       " 'spleen_46.nii.gz',\n",
       " 'spleen_38.nii.gz',\n",
       " 'spleen_21.nii.gz',\n",
       " 'spleen_32.nii.gz',\n",
       " 'spleen_53.nii.gz',\n",
       " 'spleen_12.nii.gz',\n",
       " 'spleen_19.nii.gz',\n",
       " 'spleen_20.nii.gz',\n",
       " 'spleen_27.nii.gz',\n",
       " 'spleen_29.nii.gz',\n",
       " 'spleen_8.nii.gz',\n",
       " 'spleen_44.nii.gz',\n",
       " 'spleen_33.nii.gz',\n",
       " 'spleen_31.nii.gz',\n",
       " 'spleen_2.nii.gz',\n",
       " 'spleen_10.nii.gz']"
      ]
     },
     "execution_count": 8,
     "metadata": {},
     "output_type": "execute_result"
    }
   ],
   "source": [
    "patients"
   ]
  },
  {
   "cell_type": "code",
   "execution_count": 9,
   "metadata": {},
   "outputs": [
    {
     "data": {
      "text/plain": [
       "'spleen_18'"
      ]
     },
     "execution_count": 9,
     "metadata": {},
     "output_type": "execute_result"
    }
   ],
   "source": [
    "patients[0][:-7]"
   ]
  },
  {
   "cell_type": "code",
   "execution_count": null,
   "metadata": {},
   "outputs": [],
   "source": [
    "names = []\n",
    "\n",
    "os.makedirs('../data/Task06_Lung/processed_data',exist_ok=True)\n",
    "\n",
    "count = 0\n",
    "\n",
    "for patient in patients:\n",
    "    img = nib.load(f'../data/Task06_Lung/imagesTr/{patient}')\n",
    "    img = np.array(img.dataobj)\n",
    "    seg = nib.load(f'../data/Task06_Lung/labelsTr/{patient}')\n",
    "    seg = np.array(seg.dataobj)\n",
    "    \n",
    "    patient = patient[:-7]\n",
    "    \n",
    "    os.makedirs(f'../data/Task06_Lung/processed_data/{patient}',exist_ok=True)\n",
    "    \n",
    "    for i in range(img.shape[-1]):\n",
    "        temp_img = img[:,:,i].reshape(320, 320,1)\n",
    "        temp_seg = seg[:,:,i].reshape(320, 320,1)\n",
    "        \n",
    "        \n",
    "        np.save(f'../data/Task06_Lung/processed_data/{patient}/{i}.npy',temp_img)\n",
    "        np.save(f'../data/Task06_Lung/processed_data/{patient}/{i}_seg.npy',temp_seg)\n",
    "        count+=1\n",
    "            "
   ]
  },
  {
   "cell_type": "code",
   "execution_count": 10,
   "metadata": {},
   "outputs": [],
   "source": [
    "for index,patient in enumerate(patients):\n",
    "    patients[index]=patient[:-7]"
   ]
  },
  {
   "cell_type": "code",
   "execution_count": null,
   "metadata": {},
   "outputs": [],
   "source": [
    "patients = np.array(patients)\n",
    "\n",
    "kf = KFold(5,shuffle=True,random_state=42)\n",
    "for fold,(train_index, test_index) in enumerate(kf.split(patients)):\n",
    "    patients_train, patients_test = patients[train_index], patients[test_index]\n",
    "    \n",
    "    images_train = []\n",
    "    for patient in patients_train:\n",
    "        images_train+=[\n",
    "                f'../data/Task06_Lung/processed_data/{patient}/'+i[:-4]\n",
    "                for i in sorted(os.listdir(f'../data/Task09_Spleen/processed_data/{patient}/'))\n",
    "                if i.find('.npy') != -1 and i.find('seg') == -1\n",
    "            ]\n",
    "    \n",
    "    \n",
    "    images_val = []\n",
    "    for patient in patients_test:\n",
    "        images_val+=[\n",
    "                f'../data/Task06_Lung/processed_data/{patient}/'+i[:-4]\n",
    "                for i in sorted(os.listdir(f'../data/Task09_Spleen/processed_data/{patient}/'))\n",
    "                if i.find('.npy') != -1 and i.find('seg') == -1\n",
    "            ]\n",
    "        \n",
    "    \n",
    "    split = {\n",
    "        'train': images_train,\n",
    "        'val': images_val,\n",
    "    }\n",
    "    \n",
    "    \n",
    "    with open(f'../data/split_table/{fold}_split_table.json', 'w') as outfile:\n",
    "            json.dump(split, outfile)"
   ]
  },
  {
   "cell_type": "code",
   "execution_count": 11,
   "metadata": {},
   "outputs": [
    {
     "data": {
      "text/plain": [
       "['spleen_18',\n",
       " 'spleen_63',\n",
       " 'spleen_16',\n",
       " 'spleen_41',\n",
       " 'spleen_62',\n",
       " 'spleen_6',\n",
       " 'spleen_47',\n",
       " 'spleen_61',\n",
       " 'spleen_60',\n",
       " 'spleen_59',\n",
       " 'spleen_22',\n",
       " 'spleen_28',\n",
       " 'spleen_25',\n",
       " 'spleen_14',\n",
       " 'spleen_3',\n",
       " 'spleen_17',\n",
       " 'spleen_52',\n",
       " 'spleen_49',\n",
       " 'spleen_56',\n",
       " 'spleen_24',\n",
       " 'spleen_40',\n",
       " 'spleen_13',\n",
       " 'spleen_45',\n",
       " 'spleen_9',\n",
       " 'spleen_26',\n",
       " 'spleen_46',\n",
       " 'spleen_38',\n",
       " 'spleen_21',\n",
       " 'spleen_32',\n",
       " 'spleen_53',\n",
       " 'spleen_12',\n",
       " 'spleen_19',\n",
       " 'spleen_20',\n",
       " 'spleen_27',\n",
       " 'spleen_29',\n",
       " 'spleen_8',\n",
       " 'spleen_44',\n",
       " 'spleen_33',\n",
       " 'spleen_31',\n",
       " 'spleen_2',\n",
       " 'spleen_10']"
      ]
     },
     "execution_count": 11,
     "metadata": {},
     "output_type": "execute_result"
    }
   ],
   "source": [
    "patients"
   ]
  },
  {
   "cell_type": "code",
   "execution_count": 12,
   "metadata": {},
   "outputs": [],
   "source": [
    "patients = np.array(patients)\n",
    "\n",
    "for fold in range(5):\n",
    "\n",
    "    patients_train, patients_test = train_test_split(patients, test_size=0.3, random_state=fold)\n",
    "\n",
    "    patients_train, patients_val = train_test_split(patients_train, test_size=0.3, random_state=fold)\n",
    "\n",
    "    images_train = []\n",
    "    for patient in patients_train:\n",
    "        images_train+=[\n",
    "                f'../data/Task09_Spleen/processed_data/{patient}/'+i[:-4]\n",
    "                for i in sorted(os.listdir(f'../data/Task09_Spleen/processed_data/{patient}/'))\n",
    "                if i.find('.npy') != -1 and i.find('seg') == -1\n",
    "            ]\n",
    "\n",
    "\n",
    "    images_val = []\n",
    "    for patient in patients_val:\n",
    "        images_val+=[\n",
    "                f'../data/Task05_Prostate/processed_data/{patient}/'+i[:-4]\n",
    "                for i in sorted(os.listdir(f'../data/Task09_Spleen/processed_data/{patient}/'))\n",
    "                if i.find('.npy') != -1 and i.find('seg') == -1\n",
    "            ]\n",
    "\n",
    "    images_test = []\n",
    "    for patient in patients_test:\n",
    "        images_test+=[\n",
    "                f'../data/Task05_Prostate/processed_data/{patient}/'+i[:-4]\n",
    "                for i in sorted(os.listdir(f'../data/Task09_Spleen/processed_data/{patient}/'))\n",
    "                if i.find('.npy') != -1 and i.find('seg') == -1\n",
    "            ]\n",
    "\n",
    "\n",
    "    split = {\n",
    "        'train': images_train,\n",
    "        'val': images_val,\n",
    "        'test': images_test,\n",
    "    }\n",
    "\n",
    "\n",
    "    with open(f'../data/split_table/{fold}_split_table.json', 'w') as outfile:\n",
    "            json.dump(split, outfile)"
   ]
  },
  {
   "cell_type": "code",
   "execution_count": 13,
   "metadata": {},
   "outputs": [
    {
     "data": {
      "text/plain": [
       "19"
      ]
     },
     "execution_count": 13,
     "metadata": {},
     "output_type": "execute_result"
    }
   ],
   "source": [
    "len(patients_train)"
   ]
  },
  {
   "cell_type": "code",
   "execution_count": 14,
   "metadata": {},
   "outputs": [
    {
     "data": {
      "text/plain": [
       "9"
      ]
     },
     "execution_count": 14,
     "metadata": {},
     "output_type": "execute_result"
    }
   ],
   "source": [
    "len(patients_val)"
   ]
  },
  {
   "cell_type": "code",
   "execution_count": 15,
   "metadata": {},
   "outputs": [
    {
     "data": {
      "text/plain": [
       "13"
      ]
     },
     "execution_count": 15,
     "metadata": {},
     "output_type": "execute_result"
    }
   ],
   "source": [
    "len(patients_test)"
   ]
  },
  {
   "cell_type": "code",
   "execution_count": null,
   "metadata": {},
   "outputs": [],
   "source": [
    "f'../data/Task02_Heart/processed_data/{patients_train}/'"
   ]
  },
  {
   "cell_type": "code",
   "execution_count": null,
   "metadata": {},
   "outputs": [],
   "source": []
  }
 ],
 "metadata": {
  "kernelspec": {
   "display_name": "Python 3",
   "language": "python",
   "name": "python3"
  },
  "language_info": {
   "codemirror_mode": {
    "name": "ipython",
    "version": 3
   },
   "file_extension": ".py",
   "mimetype": "text/x-python",
   "name": "python",
   "nbconvert_exporter": "python",
   "pygments_lexer": "ipython3",
   "version": "3.7.9"
  }
 },
 "nbformat": 4,
 "nbformat_minor": 4
}
