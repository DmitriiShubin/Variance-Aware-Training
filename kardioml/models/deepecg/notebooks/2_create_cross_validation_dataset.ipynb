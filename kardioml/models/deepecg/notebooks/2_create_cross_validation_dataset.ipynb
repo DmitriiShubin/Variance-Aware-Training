{
 "cells": [
  {
   "cell_type": "markdown",
   "metadata": {},
   "source": [
    "# PhysioNet/Computing in Cardiology Challenge 2020\n",
    "## Classification of 12-lead ECGs\n",
    "### 2. Create Cross-Validation Dataset"
   ]
  },
  {
   "cell_type": "markdown",
   "metadata": {},
   "source": [
    "# Setup Noteboook"
   ]
  },
  {
   "cell_type": "code",
   "execution_count": 14,
   "metadata": {},
   "outputs": [
    {
     "name": "stdout",
     "output_type": "stream",
     "text": [
      "The autoreload extension is already loaded. To reload it, use:\n",
      "  %reload_ext autoreload\n"
     ]
    }
   ],
   "source": [
    "# Import 3rd party libraries\n",
    "import os\n",
    "import sys\n",
    "import json\n",
    "import random\n",
    "import numpy as np\n",
    "import pandas as pd\n",
    "from sklearn.model_selection import StratifiedKFold\n",
    "from iterstrat.ml_stratifiers import MultilabelStratifiedKFold\n",
    "\n",
    "# Import local Libraries\n",
    "sys.path.insert(0, os.path.dirname(os.path.dirname(os.path.dirname(os.path.dirname(os.path.abspath(os.getcwd()))))))\n",
    "from kardioml import DATA_PATH\n",
    "\n",
    "# Configure Notebook\n",
    "import warnings\n",
    "warnings.filterwarnings('ignore')\n",
    "%matplotlib inline\n",
    "%load_ext autoreload\n",
    "%autoreload 2"
   ]
  },
  {
   "cell_type": "markdown",
   "metadata": {},
   "source": [
    "# Split Physionet 2020 Training Data\n",
    "## Create Training Lookup File"
   ]
  },
  {
   "cell_type": "code",
   "execution_count": 15,
   "metadata": {},
   "outputs": [
    {
     "data": {
      "text/html": [
       "<div>\n",
       "<style scoped>\n",
       "    .dataframe tbody tr th:only-of-type {\n",
       "        vertical-align: middle;\n",
       "    }\n",
       "\n",
       "    .dataframe tbody tr th {\n",
       "        vertical-align: top;\n",
       "    }\n",
       "\n",
       "    .dataframe thead th {\n",
       "        text-align: right;\n",
       "    }\n",
       "</style>\n",
       "<table border=\"1\" class=\"dataframe\">\n",
       "  <thead>\n",
       "    <tr style=\"text-align: right;\">\n",
       "      <th></th>\n",
       "      <th>filename</th>\n",
       "      <th>labels</th>\n",
       "      <th>dataset</th>\n",
       "      <th>fs</th>\n",
       "      <th>labels_merged</th>\n",
       "      <th>path</th>\n",
       "    </tr>\n",
       "  </thead>\n",
       "  <tbody>\n",
       "    <tr>\n",
       "      <td>0</td>\n",
       "      <td>A0001</td>\n",
       "      <td>[0, 0, 0, 0, 0, 0, 0, 0, 0, 0, 0, 0, 0, 0, 0, ...</td>\n",
       "      <td>A</td>\n",
       "      <td>350</td>\n",
       "      <td>[0, 0, 0, 0, 1, 0, 0, 0, 0, 0, 0, 0, 0, 0, 0, ...</td>\n",
       "      <td>C:\\Users\\sebastian goodfellow\\Documents\\code\\p...</td>\n",
       "    </tr>\n",
       "    <tr>\n",
       "      <td>1</td>\n",
       "      <td>A0002</td>\n",
       "      <td>[0, 0, 0, 0, 0, 0, 0, 0, 0, 0, 0, 0, 0, 0, 0, ...</td>\n",
       "      <td>A</td>\n",
       "      <td>350</td>\n",
       "      <td>[0, 0, 0, 0, 0, 0, 0, 0, 0, 0, 0, 0, 0, 0, 0, ...</td>\n",
       "      <td>C:\\Users\\sebastian goodfellow\\Documents\\code\\p...</td>\n",
       "    </tr>\n",
       "    <tr>\n",
       "      <td>2</td>\n",
       "      <td>A0003</td>\n",
       "      <td>[0, 1, 0, 0, 0, 0, 0, 0, 0, 0, 0, 0, 0, 0, 0, ...</td>\n",
       "      <td>A</td>\n",
       "      <td>350</td>\n",
       "      <td>[0, 1, 0, 0, 0, 0, 0, 0, 0, 0, 0, 0, 0, 0, 0, ...</td>\n",
       "      <td>C:\\Users\\sebastian goodfellow\\Documents\\code\\p...</td>\n",
       "    </tr>\n",
       "    <tr>\n",
       "      <td>3</td>\n",
       "      <td>A0004</td>\n",
       "      <td>[0, 1, 0, 0, 0, 0, 0, 0, 0, 0, 0, 0, 0, 0, 0, ...</td>\n",
       "      <td>A</td>\n",
       "      <td>350</td>\n",
       "      <td>[0, 1, 0, 0, 0, 0, 0, 0, 0, 0, 0, 0, 0, 0, 0, ...</td>\n",
       "      <td>C:\\Users\\sebastian goodfellow\\Documents\\code\\p...</td>\n",
       "    </tr>\n",
       "    <tr>\n",
       "      <td>4</td>\n",
       "      <td>A0006</td>\n",
       "      <td>[0, 0, 0, 0, 0, 0, 0, 0, 0, 0, 0, 0, 0, 0, 0, ...</td>\n",
       "      <td>A</td>\n",
       "      <td>350</td>\n",
       "      <td>[0, 0, 0, 0, 1, 0, 0, 0, 0, 0, 0, 0, 0, 0, 0, ...</td>\n",
       "      <td>C:\\Users\\sebastian goodfellow\\Documents\\code\\p...</td>\n",
       "    </tr>\n",
       "  </tbody>\n",
       "</table>\n",
       "</div>"
      ],
      "text/plain": [
       "  filename                                             labels dataset   fs  \\\n",
       "0    A0001  [0, 0, 0, 0, 0, 0, 0, 0, 0, 0, 0, 0, 0, 0, 0, ...       A  350   \n",
       "1    A0002  [0, 0, 0, 0, 0, 0, 0, 0, 0, 0, 0, 0, 0, 0, 0, ...       A  350   \n",
       "2    A0003  [0, 1, 0, 0, 0, 0, 0, 0, 0, 0, 0, 0, 0, 0, 0, ...       A  350   \n",
       "3    A0004  [0, 1, 0, 0, 0, 0, 0, 0, 0, 0, 0, 0, 0, 0, 0, ...       A  350   \n",
       "4    A0006  [0, 0, 0, 0, 0, 0, 0, 0, 0, 0, 0, 0, 0, 0, 0, ...       A  350   \n",
       "\n",
       "                                       labels_merged  \\\n",
       "0  [0, 0, 0, 0, 1, 0, 0, 0, 0, 0, 0, 0, 0, 0, 0, ...   \n",
       "1  [0, 0, 0, 0, 0, 0, 0, 0, 0, 0, 0, 0, 0, 0, 0, ...   \n",
       "2  [0, 1, 0, 0, 0, 0, 0, 0, 0, 0, 0, 0, 0, 0, 0, ...   \n",
       "3  [0, 1, 0, 0, 0, 0, 0, 0, 0, 0, 0, 0, 0, 0, 0, ...   \n",
       "4  [0, 0, 0, 0, 1, 0, 0, 0, 0, 0, 0, 0, 0, 0, 0, ...   \n",
       "\n",
       "                                                path  \n",
       "0  C:\\Users\\sebastian goodfellow\\Documents\\code\\p...  \n",
       "1  C:\\Users\\sebastian goodfellow\\Documents\\code\\p...  \n",
       "2  C:\\Users\\sebastian goodfellow\\Documents\\code\\p...  \n",
       "3  C:\\Users\\sebastian goodfellow\\Documents\\code\\p...  \n",
       "4  C:\\Users\\sebastian goodfellow\\Documents\\code\\p...  "
      ]
     },
     "execution_count": 15,
     "metadata": {},
     "output_type": "execute_result"
    }
   ],
   "source": [
    "# Set sample frequencies\n",
    "sample_frequencies = [350]\n",
    "\n",
    "# Set datasets\n",
    "datasets = ['A', 'B', 'D', 'E', 'F']\n",
    "\n",
    "# Create list\n",
    "data = list()\n",
    "\n",
    "# Loop through sample frequencies\n",
    "for fs in sample_frequencies:\n",
    "    \n",
    "    # Loop through datasets\n",
    "    for dataset in datasets:\n",
    "        \n",
    "        # Get filenames\n",
    "        filenames = [filename.split('.')[0] for filename in os.listdir(os.path.join(DATA_PATH, dataset, str(fs))) \n",
    "                     if 'json' in filename]\n",
    "        \n",
    "        # Loop through filenames\n",
    "        for filename in filenames:\n",
    "\n",
    "            # Import meta data\n",
    "            meta_data = json.load(open(os.path.join(DATA_PATH, dataset, str(fs), '{}.json'.format(filename))))\n",
    "            \n",
    "            # Save label\n",
    "            if meta_data['labels_training']:\n",
    "                data.append({'filename': filename, 'labels': meta_data['labels_training'], 'dataset': dataset, 'fs': fs,\n",
    "                             'labels_merged': meta_data['labels_training_merged'], \n",
    "                             'path': os.path.join(DATA_PATH, dataset, str(fs), filename)})\n",
    "                \n",
    "# Create DataFrame\n",
    "data = pd.DataFrame(data)\n",
    "\n",
    "# View DataFrame\n",
    "data.head()    "
   ]
  },
  {
   "cell_type": "markdown",
   "metadata": {},
   "source": [
    "# Cross-Validation 1\n",
    "## iterative-stratification"
   ]
  },
  {
   "cell_type": "code",
   "execution_count": 16,
   "metadata": {},
   "outputs": [],
   "source": [
    "# Loop through sample frequencies\n",
    "for fs in sample_frequencies:\n",
    "    \n",
    "    # Filter by sample frequency\n",
    "    df = data[data['fs'] == fs].reset_index()\n",
    "    \n",
    "    # Split dataset into train/evaluate\n",
    "    rmskf = MultilabelStratifiedKFold(n_splits=6, random_state=0)\n",
    "    for cv_fold, (train_index, val_index) in enumerate(rmskf.split(np.stack(df['labels_merged'].values), \n",
    "                                                                   np.stack(df['labels_merged'].values))):\n",
    "\n",
    "        # Lookup file\n",
    "        training_lookup = {'train': df.loc[train_index, 'path'].tolist(), 'val': df.loc[val_index, 'path'].tolist()}\n",
    "\n",
    "        # Save file\n",
    "        os.makedirs(os.path.join(DATA_PATH, 'training', 'deepecg', 'cross_validation', \n",
    "                                 'iterative_stratification', str(fs), str(cv_fold)), exist_ok=True)\n",
    "        with open(os.path.join(DATA_PATH, 'training', 'deepecg', 'cross_validation',\n",
    "                               'iterative_stratification', str(fs), str(cv_fold), 'training_lookup.json'), 'w') as file:\n",
    "            json.dump(training_lookup, file, sort_keys=False, indent=4)"
   ]
  },
  {
   "cell_type": "markdown",
   "metadata": {},
   "source": [
    "# Cross-Validation 2\n",
    "## Split by dataset"
   ]
  },
  {
   "cell_type": "code",
   "execution_count": 17,
   "metadata": {},
   "outputs": [],
   "source": [
    "# Set cv splits\n",
    "cv_splits = [{'train': ['D', 'E', 'F'], 'val': ['A', 'B']},\n",
    "             {'train': ['A', 'B', 'F'], 'val': ['D', 'E']},\n",
    "             {'train': ['A', 'B', 'D', 'E'], 'val': ['F']}]\n",
    "\n",
    "# Loop through sample frequencies\n",
    "for fs in sample_frequencies:\n",
    "    \n",
    "    # Filter by sample frequency\n",
    "    df = data[data['fs'] == fs].reset_index()\n",
    "    \n",
    "    # Split dataset into train/evaluate\n",
    "    for cv_fold, cv_split in enumerate(cv_splits):\n",
    "        \n",
    "        # Filter tain and val\n",
    "        df_train = df[df['dataset'].isin(cv_split['train'])]\n",
    "        df_val = df[df['dataset'].isin(cv_split['val'])]\n",
    "    \n",
    "        # Lookup file\n",
    "        training_lookup = {'train': df_train['path'].tolist(), 'val': df_val['path'].tolist()}\n",
    "        \n",
    "        # Save file\n",
    "        os.makedirs(os.path.join(DATA_PATH, 'training', 'deepecg', 'cross_validation', \n",
    "                                 'dataset_split', str(fs), str(cv_fold)), exist_ok=True)\n",
    "        with open(os.path.join(DATA_PATH, 'training', 'deepecg', 'cross_validation',\n",
    "                               'dataset_split', str(fs), str(cv_fold), 'training_lookup.json'), 'w') as file:\n",
    "            json.dump(training_lookup, file, sort_keys=False, indent=4)"
   ]
  }
 ],
 "metadata": {
  "kernelspec": {
   "display_name": "Python 3",
   "language": "python",
   "name": "python3"
  },
  "language_info": {
   "codemirror_mode": {
    "name": "ipython",
    "version": 3
   },
   "file_extension": ".py",
   "mimetype": "text/x-python",
   "name": "python",
   "nbconvert_exporter": "python",
   "pygments_lexer": "ipython3",
   "version": "3.6.9"
  }
 },
 "nbformat": 4,
 "nbformat_minor": 2
}
