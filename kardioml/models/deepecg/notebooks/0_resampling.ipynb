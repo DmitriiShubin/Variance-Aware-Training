{
 "cells": [
  {
   "cell_type": "markdown",
   "metadata": {},
   "source": [
    "# PhysioNet/Computing in Cardiology Challenge 2020\n",
    "## Classification of 12-lead ECGs\n",
    "### 0. Resampling"
   ]
  },
  {
   "cell_type": "markdown",
   "metadata": {},
   "source": [
    "# Setup Noteboook"
   ]
  },
  {
   "cell_type": "code",
   "execution_count": null,
   "metadata": {},
   "outputs": [],
   "source": [
    "# Import 3rd party libraries\n",
    "import os\n",
    "import sys\n",
    "import json\n",
    "import shutil\n",
    "import random\n",
    "import numpy as np\n",
    "import pandas as pd\n",
    "from scipy import signal\n",
    "from joblib import Parallel, delayed\n",
    "from scipy.signal.windows import blackmanharris\n",
    "\n",
    "# Import local Libraries\n",
    "sys.path.insert(0, os.path.dirname(os.path.dirname(os.path.dirname(os.path.dirname(os.path.abspath(os.getcwd()))))))\n",
    "from kardioml import DATA_PATH\n",
    "\n",
    "# Configure Notebook\n",
    "import warnings\n",
    "warnings.filterwarnings('ignore')\n",
    "%matplotlib inline\n",
    "%load_ext autoreload\n",
    "%autoreload 2"
   ]
  },
  {
   "cell_type": "code",
   "execution_count": null,
   "metadata": {},
   "outputs": [],
   "source": [
    "def process_signal(path, filename, fs):\n",
    "    \n",
    "    # Import meta data\n",
    "    meta_data = json.load(open(os.path.join(path, 'formatted', '{}.json'.format(filename))))\n",
    "    meta_data['fs_training'] = fs\n",
    "    \n",
    "    # Import waveform\n",
    "    waveform = np.load(os.path.join(path, 'formatted', '{}.npy'.format(filename)))\n",
    "    \n",
    "    # Rescale\n",
    "    waveform = scale_waveforms(waveform=waveform, rpeaks=meta_data['rpeaks'])\n",
    "    \n",
    "    # Resample waveform\n",
    "    samples = int(waveform.shape[0] * fs / meta_data['fs_resampled'])\n",
    "    waveform = signal.resample(x=waveform, num=samples, axis=0)\n",
    "    \n",
    "    # Get peak arrays\n",
    "    rpeak_array = create_peak_array(waveform=waveform, peaks=meta_data['rpeaks'], fs_old=meta_data['fs_resampled'], fs_new=fs)\n",
    "    p_wave_array = create_peak_array(waveform=waveform, peaks=meta_data['p_waves'], fs_old=meta_data['fs_resampled'], fs_new=fs)\n",
    "    t_wave_array = create_peak_array(waveform=waveform, peaks=meta_data['t_waves'], fs_old=meta_data['fs_resampled'], fs_new=fs)\n",
    "\n",
    "    # Add R, P, and T waves\n",
    "    features = np.concatenate([rpeak_array.reshape([-1, 1]),\n",
    "                               p_wave_array.reshape([-1, 1]), \n",
    "                               t_wave_array.reshape([-1, 1])], axis=1)\n",
    "    waveform = np.append(waveform, features, axis=1)\n",
    "    \n",
    "    # Save meta data\n",
    "    with open(os.path.join(path, str(fs), '{}.json'.format(filename)), 'w') as file:\n",
    "        json.dump(meta_data, file, sort_keys=False, indent=4)\n",
    "\n",
    "    # Save waveform data npy file\n",
    "    np.save(os.path.join(path, str(fs), '{}.npy'.format(filename)), waveform)\n",
    "    \n",
    "def scale_waveforms(waveform, rpeaks):\n",
    "    \"\"\"Get rpeaks for each channel and scale waveform amplitude by median rpeak amplitude of lead I.\"\"\"\n",
    "    if rpeaks:\n",
    "        for rpeak_array in rpeaks:\n",
    "            if rpeak_array:\n",
    "                return waveform / np.median(waveform[rpeaks[0], 0])\n",
    "    return (waveform - waveform.mean()) / waveform.std()\n",
    "\n",
    "def create_peak_array(waveform, peaks, fs_old, fs_new):\n",
    "    \"\"\"Return a binary array of contiguous peak sections.\"\"\"\n",
    "    peak_array = np.zeros(waveform.shape[0], dtype=np.float32)\n",
    "    window = blackmanharris(21)\n",
    "    if peaks:\n",
    "        for peak_ids in peaks:\n",
    "            if peak_ids:\n",
    "                for peak_id in peak_ids:\n",
    "                    peak_time = peak_id / fs_old\n",
    "                    peak_id_new = int(peak_time * fs_new)\n",
    "                    if len(peak_array[peak_id_new - 10:peak_id_new + 11]) >= 21:\n",
    "                        peak_array[peak_id_new-10:peak_id_new+11] += window\n",
    "        peak_array[peak_array <= 1] = 0\n",
    "        peak_array /= np.max(peak_array)\n",
    "    return peak_array"
   ]
  },
  {
   "cell_type": "code",
   "execution_count": null,
   "metadata": {},
   "outputs": [],
   "source": [
    "# Set sample frequencies\n",
    "sample_frequencies = [500, 550, 600]\n",
    "\n",
    "# Set datasets\n",
    "datasets = ['A', 'B', 'C', 'D', 'E', 'F']\n",
    "\n",
    "# Loop through sample frequencies\n",
    "for fs in sample_frequencies:\n",
    "    \n",
    "    # Loop through datasets\n",
    "    for dataset in datasets:\n",
    "        \n",
    "        # Get filenames\n",
    "        filenames = [filename.split('.')[0] for filename in os.listdir(os.path.join(DATA_PATH, dataset, \n",
    "                                                                                    'formatted')) if 'json' in filename]\n",
    "        \n",
    "        # Create directory for formatted data\n",
    "        os.makedirs(os.path.join(DATA_PATH, dataset, str(fs)), exist_ok=True)\n",
    "        \n",
    "        # Loop through files\n",
    "        _ = Parallel(n_jobs=-1)(delayed(process_signal)(os.path.join(DATA_PATH, dataset), filename, fs) \n",
    "                                for filename in filenames)"
   ]
  },
  {
   "cell_type": "code",
   "execution_count": null,
   "metadata": {},
   "outputs": [],
   "source": []
  },
  {
   "cell_type": "code",
   "execution_count": null,
   "metadata": {},
   "outputs": [],
   "source": []
  },
  {
   "cell_type": "code",
   "execution_count": null,
   "metadata": {},
   "outputs": [],
   "source": [
    "fs = 350\n",
    "\n",
    "# Import meta data\n",
    "meta_data = json.load(open(r'C:\\Users\\sebastian goodfellow\\Documents\\code\\physionet-challenge-2020\\data\\A\\formatted\\A0001.json'))\n",
    "meta_data['fs_training'] = fs\n",
    "\n",
    "# Import waveform\n",
    "waveform = np.load(r'C:\\Users\\sebastian goodfellow\\Documents\\code\\physionet-challenge-2020\\data\\A\\formatted\\A0001.npy')\n",
    "\n",
    "# Rescale\n",
    "waveform = scale_waveforms(waveform=waveform, rpeaks=meta_data['rpeaks'])\n",
    "\n",
    "# Resample waveform\n",
    "samples = int(waveform.shape[0] * fs / meta_data['fs_resampled'])\n",
    "waveform = signal.resample(x=waveform, num=samples, axis=0)\n",
    "\n",
    "# Get peak arrays\n",
    "rpeak_array = create_peak_array(waveforms=waveform, peaks=meta_data['rpeaks'], \n",
    "                                fs_old=meta_data['fs_resampled'], fs_new=fs)\n",
    "p_wave_array = create_peak_array(waveforms=waveform, peaks=meta_data['p_waves'], \n",
    "                                fs_old=meta_data['fs_resampled'], fs_new=fs)\n",
    "t_wave_array = create_peak_array(waveforms=waveform, peaks=meta_data['t_waves'], \n",
    "                                fs_old=meta_data['fs_resampled'], fs_new=fs)\n",
    "\n",
    "# Add R, P, and T waves\n",
    "features = np.concatenate([rpeak_array.reshape([-1, 1])], axis=1)\n",
    "#                            p_wave_array.reshape([-1, 1]), \n",
    "#                            t_wave_array.reshape([-1, 1])], axis=1)\n",
    "waveform = np.append(waveform, features, axis=1)"
   ]
  },
  {
   "cell_type": "code",
   "execution_count": null,
   "metadata": {},
   "outputs": [],
   "source": [
    "import matplotlib.pylab as plt"
   ]
  },
  {
   "cell_type": "code",
   "execution_count": null,
   "metadata": {},
   "outputs": [],
   "source": [
    "fig = plt.figure(figsize=(15, 5), facecolor='w')\n",
    "plt.plot(waveform[:, 10], '-k')\n",
    "plt.show()"
   ]
  },
  {
   "cell_type": "code",
   "execution_count": null,
   "metadata": {},
   "outputs": [],
   "source": [
    "fig = plt.figure(figsize=(15, 5), facecolor='w')\n",
    "plt.plot(waveform[:, 14], '-k')\n",
    "plt.show()"
   ]
  },
  {
   "cell_type": "code",
   "execution_count": null,
   "metadata": {},
   "outputs": [],
   "source": [
    "# Import meta data\n",
    "meta_data = json.load(open(r'C:\\Users\\sebastian goodfellow\\Documents\\code\\physionet-challenge-2020\\data\\A\\350\\A0001.json'))\n",
    "\n",
    "# Import waveform\n",
    "waveform = np.load(r'C:\\Users\\sebastian goodfellow\\Documents\\code\\physionet-challenge-2020\\data\\A\\350\\A0001.npy')"
   ]
  },
  {
   "cell_type": "code",
   "execution_count": null,
   "metadata": {},
   "outputs": [],
   "source": [
    "fig = plt.figure(figsize=(15, 5), facecolor='w')\n",
    "plt.plot(waveform[:, 0], '-k')\n",
    "plt.show()"
   ]
  },
  {
   "cell_type": "code",
   "execution_count": null,
   "metadata": {},
   "outputs": [],
   "source": [
    "fig = plt.figure(figsize=(15, 5), facecolor='w')\n",
    "plt.plot(waveform[:, 11], '-k')\n",
    "plt.show()"
   ]
  },
  {
   "cell_type": "code",
   "execution_count": null,
   "metadata": {},
   "outputs": [],
   "source": [
    "waveform.shape"
   ]
  },
  {
   "cell_type": "code",
   "execution_count": null,
   "metadata": {},
   "outputs": [],
   "source": [
    "60*350"
   ]
  },
  {
   "cell_type": "code",
   "execution_count": null,
   "metadata": {},
   "outputs": [],
   "source": []
  }
 ],
 "metadata": {
  "kernelspec": {
   "display_name": "Python 3",
   "language": "python",
   "name": "python3"
  },
  "language_info": {
   "codemirror_mode": {
    "name": "ipython",
    "version": 3
   },
   "file_extension": ".py",
   "mimetype": "text/x-python",
   "name": "python",
   "nbconvert_exporter": "python",
   "pygments_lexer": "ipython3",
   "version": "3.6.10"
  }
 },
 "nbformat": 4,
 "nbformat_minor": 2
}
