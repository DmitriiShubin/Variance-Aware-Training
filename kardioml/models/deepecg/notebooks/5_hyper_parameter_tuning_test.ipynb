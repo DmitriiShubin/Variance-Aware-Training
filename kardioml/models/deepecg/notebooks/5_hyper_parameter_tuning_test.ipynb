{
 "cells": [
  {
   "cell_type": "markdown",
   "metadata": {},
   "source": [
    "# PhysioNet/Computing in Cardiology Challenge 2020\n",
    "## Classification of 12-lead ECGs\n",
    "### 5. Tune Model"
   ]
  },
  {
   "cell_type": "markdown",
   "metadata": {},
   "source": [
    "# Setup Noteboook"
   ]
  },
  {
   "cell_type": "code",
   "execution_count": null,
   "metadata": {},
   "outputs": [],
   "source": [
    "# 3rd party libraries\n",
    "import os\n",
    "import sys\n",
    "import numpy as np\n",
    "import tensorflow as tf\n",
    "\n",
    "# Local Libraries\n",
    "sys.path.insert(0, os.path.dirname(os.path.dirname(os.path.dirname(os.path.dirname(os.path.abspath(os.getcwd()))))))\n",
    "from kardioml.models.deepecg.utils.devices.device_check import print_device_counts\n",
    "from kardioml.models.deepecg.train.train import train\n",
    "from kardioml.models.deepecg.model.model import Model\n",
    "from kardioml import DATA_PATH, OUTPUT_PATH, LABELS_COUNT, ECG_LEADS, FS\n",
    "\n",
    "# Configure Notebook\n",
    "import warnings\n",
    "warnings.filterwarnings('ignore')\n",
    "%matplotlib inline\n",
    "%load_ext autoreload\n",
    "%autoreload 2"
   ]
  },
  {
   "cell_type": "markdown",
   "metadata": {},
   "source": [
    "# 1. Hyper-Parameter Search"
   ]
  },
  {
   "cell_type": "code",
   "execution_count": null,
   "metadata": {
    "scrolled": false
   },
   "outputs": [],
   "source": [
    "# Set data path\n",
    "data_path = os.path.join(DATA_PATH, 'formatted')\n",
    "\n",
    "# Set model name\n",
    "training_run = 'hpt_15'\n",
    "\n",
    "# Set sample length (seconds)\n",
    "duration = 60\n",
    "\n",
    "# Loop through CV folds\n",
    "for num_res_layers in [6, 7, 8, 9, 10, 11, 12]:\n",
    "    for num_filts in [128, 256, 512, 1024]:\n",
    "        for drop_rate in [0.3]:\n",
    "            for kernel_size in [3]:\n",
    "                for fs in [300]:\n",
    "\n",
    "                    experiment_name = 'num_res_layers-{}_num_filts-{}_drop_rate-{}_kernel_size-{}_fs-{}'.format(num_res_layers, \n",
    "                                                                                                                num_filts,\n",
    "                                                                                                                drop_rate, \n",
    "                                                                                                                kernel_size,\n",
    "                                                                                                                fs)\n",
    "                    print('Hyper-Parameter: {}'.format(experiment_name))\n",
    "\n",
    "                    # Set data path\n",
    "                    lookup_path = os.path.join(DATA_PATH, 'deepecg')\n",
    "\n",
    "                    # Print devices\n",
    "                    print_device_counts()\n",
    "\n",
    "                    # Set save path for graphs, summaries, and checkpoints\n",
    "                    output_path = os.path.join(OUTPUT_PATH, training_run)\n",
    "                    os.makedirs(output_path, exist_ok=True)\n",
    "\n",
    "                    # Set model name\n",
    "                    model_name = 'sess_{}'.format(experiment_name)\n",
    "\n",
    "                    # Maximum number of checkpoints to keep\n",
    "                    max_to_keep = 1\n",
    "\n",
    "                    # Set randome states\n",
    "                    seed = 0 \n",
    "\n",
    "                    # Get training dataset dimensions\n",
    "                    length, channels = (int(duration * fs), 13)     \n",
    "\n",
    "                    # Number of classes\n",
    "                    classes = LABELS_COUNT\n",
    "\n",
    "                    # Choose network\n",
    "                    network_name = 'DeepECGV1'\n",
    "\n",
    "                    # Set hyper-parameter\n",
    "                    hyper_params = {'num_res_layers': num_res_layers, 'drop_rate': drop_rate, 'kernel_size': kernel_size, \n",
    "                                    'conv_filts': num_filts, 'res_filts': num_filts, 'skip_filts': num_filts, \n",
    "                                    'dilation': True, 'fs': fs}\n",
    "\n",
    "                    # Set network inputs\n",
    "                    network_parameters = {'length': length, 'channels': channels, 'classes': classes, 'seed': seed,\n",
    "                                          'hyper_params': hyper_params}\n",
    "\n",
    "                    try:\n",
    "                        # Create model\n",
    "                        print('Initializing Model')\n",
    "                        model = Model(model_name=model_name, \n",
    "                                      network_name=network_name, \n",
    "                                      network_parameters=network_parameters, \n",
    "                                      save_path=output_path,\n",
    "                                      data_path=data_path,\n",
    "                                      lookup_path=lookup_path,\n",
    "                                      max_to_keep=max_to_keep)\n",
    "\n",
    "                        # Set hyper-parameters\n",
    "                        epochs = 50\n",
    "                        batch_size = 16            \n",
    "\n",
    "                        # Train model\n",
    "                        print('Training Start')\n",
    "                        train(model=model, epochs=epochs, batch_size=batch_size)\n",
    "                        print('Training End\\n')\n",
    "                        \n",
    "                    except:\n",
    "                        print('Training Failure: {}'.format(experiment_name))"
   ]
  }
 ],
 "metadata": {
  "kernelspec": {
   "display_name": "Python 3",
   "language": "python",
   "name": "python3"
  },
  "language_info": {
   "codemirror_mode": {
    "name": "ipython",
    "version": 3
   },
   "file_extension": ".py",
   "mimetype": "text/x-python",
   "name": "python",
   "nbconvert_exporter": "python",
   "pygments_lexer": "ipython3",
   "version": "3.7.7"
  }
 },
 "nbformat": 4,
 "nbformat_minor": 2
}
