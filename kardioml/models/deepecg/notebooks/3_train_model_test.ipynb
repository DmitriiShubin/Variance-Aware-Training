{
 "cells": [
  {
   "cell_type": "markdown",
   "metadata": {},
   "source": [
    "# PhysioNet/Computing in Cardiology Challenge 2020\n",
    "## Classification of 12-lead ECGs\n",
    "### 3. Train Model"
   ]
  },
  {
   "cell_type": "markdown",
   "metadata": {},
   "source": [
    "# Setup Noteboook"
   ]
  },
  {
   "cell_type": "code",
   "execution_count": 1,
   "metadata": {},
   "outputs": [
    {
     "name": "stderr",
     "output_type": "stream",
     "text": [
      "C:\\Users\\sebig\\Anaconda3\\envs\\physionet-challenge-2020\\lib\\site-packages\\tensorflow\\python\\framework\\dtypes.py:526: FutureWarning: Passing (type, 1) or '1type' as a synonym of type is deprecated; in a future version of numpy, it will be understood as (type, (1,)) / '(1,)type'.\n",
      "  _np_qint8 = np.dtype([(\"qint8\", np.int8, 1)])\n",
      "C:\\Users\\sebig\\Anaconda3\\envs\\physionet-challenge-2020\\lib\\site-packages\\tensorflow\\python\\framework\\dtypes.py:527: FutureWarning: Passing (type, 1) or '1type' as a synonym of type is deprecated; in a future version of numpy, it will be understood as (type, (1,)) / '(1,)type'.\n",
      "  _np_quint8 = np.dtype([(\"quint8\", np.uint8, 1)])\n",
      "C:\\Users\\sebig\\Anaconda3\\envs\\physionet-challenge-2020\\lib\\site-packages\\tensorflow\\python\\framework\\dtypes.py:528: FutureWarning: Passing (type, 1) or '1type' as a synonym of type is deprecated; in a future version of numpy, it will be understood as (type, (1,)) / '(1,)type'.\n",
      "  _np_qint16 = np.dtype([(\"qint16\", np.int16, 1)])\n",
      "C:\\Users\\sebig\\Anaconda3\\envs\\physionet-challenge-2020\\lib\\site-packages\\tensorflow\\python\\framework\\dtypes.py:529: FutureWarning: Passing (type, 1) or '1type' as a synonym of type is deprecated; in a future version of numpy, it will be understood as (type, (1,)) / '(1,)type'.\n",
      "  _np_quint16 = np.dtype([(\"quint16\", np.uint16, 1)])\n",
      "C:\\Users\\sebig\\Anaconda3\\envs\\physionet-challenge-2020\\lib\\site-packages\\tensorflow\\python\\framework\\dtypes.py:530: FutureWarning: Passing (type, 1) or '1type' as a synonym of type is deprecated; in a future version of numpy, it will be understood as (type, (1,)) / '(1,)type'.\n",
      "  _np_qint32 = np.dtype([(\"qint32\", np.int32, 1)])\n",
      "C:\\Users\\sebig\\Anaconda3\\envs\\physionet-challenge-2020\\lib\\site-packages\\tensorflow\\python\\framework\\dtypes.py:535: FutureWarning: Passing (type, 1) or '1type' as a synonym of type is deprecated; in a future version of numpy, it will be understood as (type, (1,)) / '(1,)type'.\n",
      "  np_resource = np.dtype([(\"resource\", np.ubyte, 1)])\n"
     ]
    },
    {
     "name": "stdout",
     "output_type": "stream",
     "text": [
      "\n",
      "WARNING: The TensorFlow contrib module will not be included in TensorFlow 2.0.\n",
      "For more information, please see:\n",
      "  * https://github.com/tensorflow/community/blob/master/rfcs/20180907-contrib-sunset.md\n",
      "  * https://github.com/tensorflow/addons\n",
      "If you depend on functionality not listed there, please file an issue.\n",
      "\n"
     ]
    }
   ],
   "source": [
    "# 3rd party libraries\n",
    "import os\n",
    "import sys\n",
    "import numpy as np\n",
    "import tensorflow as tf\n",
    "\n",
    "# Local Libraries\n",
    "sys.path.insert(0, os.path.dirname(os.path.dirname(os.path.dirname(os.path.dirname(os.path.abspath(os.getcwd()))))))\n",
    "from kardioml.models.deepecg.utils.devices.device_check import print_device_counts\n",
    "from kardioml.models.deepecg.train.train import train\n",
    "from kardioml.models.deepecg.model.model import Model\n",
    "from kardioml import DATA_PATH, OUTPUT_PATH, LABELS_COUNT, NUM_LEADS\n",
    "\n",
    "# Configure Notebook\n",
    "import warnings\n",
    "warnings.filterwarnings('ignore')\n",
    "%matplotlib inline\n",
    "%load_ext autoreload\n",
    "%autoreload 2"
   ]
  },
  {
   "cell_type": "markdown",
   "metadata": {},
   "source": [
    "# 1. Initialize Model"
   ]
  },
  {
   "cell_type": "code",
   "execution_count": 2,
   "metadata": {
    "scrolled": false
   },
   "outputs": [
    {
     "name": "stdout",
     "output_type": "stream",
     "text": [
      "Workstation has 1 CPUs.\n",
      "Workstation has 2 GPUs.\n",
      "input | shape = (?, 21000, 13)\n",
      "stem_layer_1 | shape = (?, 10500, 32)\n",
      "stem_layer_2 | shape = (?, 5250, 64)\n",
      "res_layer_1_skip | shape = (?, 5250, 64)\n",
      "res_layer_2_skip | shape = (?, 5250, 64)\n",
      "res_layer_3_skip | shape = (?, 5250, 64)\n",
      "res_layer_4_skip | shape = (?, 5250, 64)\n",
      "res_layer_5_skip | shape = (?, 5250, 64)\n",
      "res_layer_6_skip | shape = (?, 5250, 64)\n",
      "res_layer_7_skip | shape = (?, 5250, 64)\n",
      "res_layer_8_skip | shape = (?, 5250, 64)\n",
      "output_skip_addition | shape = (?, 5250, 64)\n",
      "output_conv1 | shape = (?, 5250, 128)\n",
      "output_conv2 | shape = (?, 5250, 256)\n",
      "gap | shape = (?, 256)\n",
      "logits | shape = (?, 27)\n",
      "input | shape = (?, 21000, 13)\n",
      "stem_layer_1 | shape = (?, 10500, 32)\n",
      "stem_layer_2 | shape = (?, 5250, 64)\n",
      "res_layer_1_skip | shape = (?, 5250, 64)\n",
      "res_layer_2_skip | shape = (?, 5250, 64)\n",
      "res_layer_3_skip | shape = (?, 5250, 64)\n",
      "res_layer_4_skip | shape = (?, 5250, 64)\n",
      "res_layer_5_skip | shape = (?, 5250, 64)\n",
      "res_layer_6_skip | shape = (?, 5250, 64)\n",
      "res_layer_7_skip | shape = (?, 5250, 64)\n",
      "res_layer_8_skip | shape = (?, 5250, 64)\n",
      "output_skip_addition | shape = (?, 5250, 64)\n",
      "output_conv1 | shape = (?, 5250, 128)\n",
      "output_conv2 | shape = (?, 5250, 256)\n",
      "gap | shape = (?, 256)\n",
      "logits | shape = (?, 27)\n"
     ]
    }
   ],
   "source": [
    "# Print devices\n",
    "print_device_counts()\n",
    "\n",
    "# Set save path for graphs, summaries, and checkpoints\n",
    "os.makedirs(OUTPUT_PATH, exist_ok=True)\n",
    "\n",
    "# Set sample length (seconds)\n",
    "duration = 60\n",
    "\n",
    "# Set model name\n",
    "model_name = '17'\n",
    "\n",
    "# Maximum number of checkpoints to keep\n",
    "max_to_keep = 1\n",
    "\n",
    "# Set randome states\n",
    "seed = 0                  \n",
    "\n",
    "# Set sample frequency\n",
    "fs = 350\n",
    "\n",
    "# Set data path\n",
    "lookup_path = os.path.join(DATA_PATH, 'training', 'deepecg', 'single_split', str(fs))\n",
    "\n",
    "# Get training dataset dimensions\n",
    "length, channels = (int(duration * fs), NUM_LEADS+1)          \n",
    "\n",
    "# Number of classes\n",
    "classes = LABELS_COUNT\n",
    "\n",
    "# Choose network\n",
    "network_name = 'DeepECGV1'\n",
    "\n",
    "# Set hyper-parameter\n",
    "hyper_params = {'num_res_layers': 8, 'drop_rate': 0.3, 'kernel_size': 3, \n",
    "                'conv_filts': 64, 'res_filts': 64, 'skip_filts': 64, \n",
    "                'dilation': True, 'fs': fs}\n",
    "\n",
    "# Set network inputs\n",
    "network_parameters = {'length': length, 'channels': channels, 'classes': classes, 'seed': seed,\n",
    "                      'hyper_params': hyper_params}\n",
    "\n",
    "# Create model\n",
    "model = Model(model_name=model_name, \n",
    "              network_name=network_name, \n",
    "              network_parameters=network_parameters, \n",
    "              save_path=OUTPUT_PATH,\n",
    "              lookup_path=lookup_path,\n",
    "              max_to_keep=max_to_keep)"
   ]
  },
  {
   "cell_type": "markdown",
   "metadata": {},
   "source": [
    "# 4. Train Model"
   ]
  },
  {
   "cell_type": "code",
   "execution_count": 3,
   "metadata": {
    "scrolled": false
   },
   "outputs": [],
   "source": [
    "# Set hyper-parameters\n",
    "epochs = 100\n",
    "batch_size = 16\n",
    "learning_rate_start = 0.001            \n",
    "\n",
    "# Train model\n",
    "train(model=model, epochs=epochs, batch_size=batch_size)"
   ]
  }
 ],
 "metadata": {
  "kernelspec": {
   "display_name": "Python 3",
   "language": "python",
   "name": "python3"
  },
  "language_info": {
   "codemirror_mode": {
    "name": "ipython",
    "version": 3
   },
   "file_extension": ".py",
   "mimetype": "text/x-python",
   "name": "python",
   "nbconvert_exporter": "python",
   "pygments_lexer": "ipython3",
   "version": "3.7.7"
  }
 },
 "nbformat": 4,
 "nbformat_minor": 2
}
