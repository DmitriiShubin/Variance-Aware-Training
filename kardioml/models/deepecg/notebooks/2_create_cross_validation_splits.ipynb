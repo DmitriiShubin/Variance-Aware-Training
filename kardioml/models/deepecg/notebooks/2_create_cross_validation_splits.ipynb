{
 "cells": [
  {
   "cell_type": "markdown",
   "metadata": {},
   "source": [
    "# PhysioNet/Computing in Cardiology Challenge 2020\n",
    "## Classification of 12-lead ECGs\n",
    "### 2. Create Cross-Validation Dataset"
   ]
  },
  {
   "cell_type": "markdown",
   "metadata": {},
   "source": [
    "# Setup Noteboook"
   ]
  },
  {
   "cell_type": "code",
   "execution_count": 1,
   "metadata": {},
   "outputs": [],
   "source": [
    "# Import 3rd party libraries\n",
    "import os\n",
    "import sys\n",
    "import json\n",
    "import random\n",
    "import numpy as np\n",
    "import pandas as pd\n",
    "from sklearn.model_selection import StratifiedKFold\n",
    "from iterstrat.ml_stratifiers import MultilabelStratifiedKFold\n",
    "\n",
    "# Import local Libraries\n",
    "sys.path.insert(0, os.path.dirname(os.path.dirname(os.path.dirname(os.path.dirname(os.path.abspath(os.getcwd()))))))\n",
    "from kardioml import DATA_PATH\n",
    "\n",
    "# Configure Notebook\n",
    "import warnings\n",
    "warnings.filterwarnings('ignore')\n",
    "%matplotlib inline\n",
    "%load_ext autoreload\n",
    "%autoreload 2"
   ]
  },
  {
   "cell_type": "markdown",
   "metadata": {},
   "source": [
    "# Split Physionet 2020 Training Data\n",
    "## Create Training Lookup File"
   ]
  },
  {
   "cell_type": "code",
   "execution_count": 2,
   "metadata": {},
   "outputs": [
    {
     "data": {
      "text/html": [
       "<div>\n",
       "<style scoped>\n",
       "    .dataframe tbody tr th:only-of-type {\n",
       "        vertical-align: middle;\n",
       "    }\n",
       "\n",
       "    .dataframe tbody tr th {\n",
       "        vertical-align: top;\n",
       "    }\n",
       "\n",
       "    .dataframe thead th {\n",
       "        text-align: right;\n",
       "    }\n",
       "</style>\n",
       "<table border=\"1\" class=\"dataframe\">\n",
       "  <thead>\n",
       "    <tr style=\"text-align: right;\">\n",
       "      <th></th>\n",
       "      <th>filename</th>\n",
       "      <th>labels</th>\n",
       "      <th>dataset</th>\n",
       "      <th>labels_merged</th>\n",
       "    </tr>\n",
       "  </thead>\n",
       "  <tbody>\n",
       "    <tr>\n",
       "      <th>0</th>\n",
       "      <td>A0001</td>\n",
       "      <td>[0, 0, 0, 0, 0, 0, 0, 0, 0, 0, 0, 0, 0, 0, 0, ...</td>\n",
       "      <td>A</td>\n",
       "      <td>[0, 0, 0, 0, 1, 0, 0, 0, 0, 0, 0, 0, 0, 0, 0, ...</td>\n",
       "    </tr>\n",
       "    <tr>\n",
       "      <th>1</th>\n",
       "      <td>A0002</td>\n",
       "      <td>[0, 0, 0, 0, 0, 0, 0, 0, 0, 0, 0, 0, 0, 0, 0, ...</td>\n",
       "      <td>A</td>\n",
       "      <td>[0, 0, 0, 0, 0, 0, 0, 0, 0, 0, 0, 0, 0, 0, 0, ...</td>\n",
       "    </tr>\n",
       "    <tr>\n",
       "      <th>2</th>\n",
       "      <td>A0003</td>\n",
       "      <td>[0, 1, 0, 0, 0, 0, 0, 0, 0, 0, 0, 0, 0, 0, 0, ...</td>\n",
       "      <td>A</td>\n",
       "      <td>[0, 1, 0, 0, 0, 0, 0, 0, 0, 0, 0, 0, 0, 0, 0, ...</td>\n",
       "    </tr>\n",
       "    <tr>\n",
       "      <th>3</th>\n",
       "      <td>A0004</td>\n",
       "      <td>[0, 1, 0, 0, 0, 0, 0, 0, 0, 0, 0, 0, 0, 0, 0, ...</td>\n",
       "      <td>A</td>\n",
       "      <td>[0, 1, 0, 0, 0, 0, 0, 0, 0, 0, 0, 0, 0, 0, 0, ...</td>\n",
       "    </tr>\n",
       "    <tr>\n",
       "      <th>4</th>\n",
       "      <td>A0005</td>\n",
       "      <td>[0, 0, 0, 0, 0, 0, 0, 0, 0, 0, 0, 0, 0, 0, 0, ...</td>\n",
       "      <td>A</td>\n",
       "      <td>[0, 0, 0, 0, 0, 0, 0, 0, 0, 0, 0, 0, 0, 0, 0, ...</td>\n",
       "    </tr>\n",
       "  </tbody>\n",
       "</table>\n",
       "</div>"
      ],
      "text/plain": [
       "  filename                                             labels dataset  \\\n",
       "0    A0001  [0, 0, 0, 0, 0, 0, 0, 0, 0, 0, 0, 0, 0, 0, 0, ...       A   \n",
       "1    A0002  [0, 0, 0, 0, 0, 0, 0, 0, 0, 0, 0, 0, 0, 0, 0, ...       A   \n",
       "2    A0003  [0, 1, 0, 0, 0, 0, 0, 0, 0, 0, 0, 0, 0, 0, 0, ...       A   \n",
       "3    A0004  [0, 1, 0, 0, 0, 0, 0, 0, 0, 0, 0, 0, 0, 0, 0, ...       A   \n",
       "4    A0005  [0, 0, 0, 0, 0, 0, 0, 0, 0, 0, 0, 0, 0, 0, 0, ...       A   \n",
       "\n",
       "                                       labels_merged  \n",
       "0  [0, 0, 0, 0, 1, 0, 0, 0, 0, 0, 0, 0, 0, 0, 0, ...  \n",
       "1  [0, 0, 0, 0, 0, 0, 0, 0, 0, 0, 0, 0, 0, 0, 0, ...  \n",
       "2  [0, 1, 0, 0, 0, 0, 0, 0, 0, 0, 0, 0, 0, 0, 0, ...  \n",
       "3  [0, 1, 0, 0, 0, 0, 0, 0, 0, 0, 0, 0, 0, 0, 0, ...  \n",
       "4  [0, 0, 0, 0, 0, 0, 0, 0, 0, 0, 0, 0, 0, 0, 0, ...  "
      ]
     },
     "execution_count": 2,
     "metadata": {},
     "output_type": "execute_result"
    }
   ],
   "source": [
    "# Set datasets\n",
    "datasets = ['A', 'B', 'C', 'D', 'E', 'F']\n",
    "\n",
    "# Create list\n",
    "data = list()\n",
    "\n",
    "# Loop through datasets\n",
    "for dataset in datasets:\n",
    "\n",
    "    # Get filenames\n",
    "    filenames = [filename.split('.')[0] for filename in os.listdir(os.path.join(DATA_PATH, dataset, 'formatted')) \n",
    "                 if 'json' in filename]\n",
    "\n",
    "    # Loop through filenames\n",
    "    for filename in filenames:\n",
    "\n",
    "        # Import meta data\n",
    "        meta_data = json.load(open(os.path.join(DATA_PATH, dataset, 'formatted', '{}.json'.format(filename))))\n",
    "\n",
    "        # Save label\n",
    "        if meta_data['labels_training']:\n",
    "            data.append({'filename': filename, 'labels': meta_data['labels_training'], 'dataset': dataset,\n",
    "                         'labels_merged': meta_data['labels_training_merged']})\n",
    "        else:\n",
    "            data.append({'filename': filename, 'labels': [0 for _ in range(27)], 'dataset': dataset, \n",
    "                         'labels_merged': [0 for _ in range(27)]})\n",
    "                \n",
    "# Create DataFrame\n",
    "data = pd.DataFrame(data)\n",
    "\n",
    "# View DataFrame\n",
    "data.head()    "
   ]
  },
  {
   "cell_type": "markdown",
   "metadata": {},
   "source": [
    "# Cross-Validation 1\n",
    "## iterative-stratification"
   ]
  },
  {
   "cell_type": "code",
   "execution_count": 11,
   "metadata": {},
   "outputs": [
    {
     "name": "stdout",
     "output_type": "stream",
     "text": [
      "C:\\Users\\sebig\\Documents\\Code\\physionet-challenge-2020\\data\\training\\deepecg\\cross_validation\\iterative_stratification\n",
      "C:\\Users\\sebig\\Documents\\Code\\physionet-challenge-2020\\data\\training\\deepecg\\cross_validation\\iterative_stratification\n",
      "C:\\Users\\sebig\\Documents\\Code\\physionet-challenge-2020\\data\\training\\deepecg\\cross_validation\\iterative_stratification\n",
      "C:\\Users\\sebig\\Documents\\Code\\physionet-challenge-2020\\data\\training\\deepecg\\cross_validation\\iterative_stratification\n",
      "C:\\Users\\sebig\\Documents\\Code\\physionet-challenge-2020\\data\\training\\deepecg\\cross_validation\\iterative_stratification\n",
      "C:\\Users\\sebig\\Documents\\Code\\physionet-challenge-2020\\data\\training\\deepecg\\cross_validation\\iterative_stratification\n"
     ]
    }
   ],
   "source": [
    "# Split dataset into train/evaluate\n",
    "rmskf = MultilabelStratifiedKFold(n_splits=6, random_state=0)\n",
    "for cv_fold, (train_index, val_index) in enumerate(rmskf.split(np.stack(data['labels_merged'].values), \n",
    "                                                               np.stack(data['labels_merged'].values))):\n",
    "\n",
    "    # Lookup file\n",
    "    training_lookup = {'train': data.loc[train_index, 'filename'].tolist(), 'val': data.loc[val_index, 'filename'].tolist()}\n",
    "\n",
    "    # Save file\n",
    "    os.makedirs(os.path.join(DATA_PATH, 'training', 'deepecg', 'cross_validation', 'iterative_stratification'), exist_ok=True)\n",
    "    with open(os.path.join(DATA_PATH, 'training', 'deepecg', 'cross_validation', 'iterative_stratification', \n",
    "                           'cv_{}.json'.format(cv_fold)), 'w') as file:\n",
    "        json.dump(training_lookup, file, sort_keys=False, indent=4)"
   ]
  },
  {
   "cell_type": "markdown",
   "metadata": {},
   "source": [
    "# Cross-Validation 2\n",
    "## Split by dataset"
   ]
  },
  {
   "cell_type": "code",
   "execution_count": null,
   "metadata": {},
   "outputs": [],
   "source": [
    "# Set cv splits\n",
    "cv_splits = [{'train': ['D', 'E', 'F'], 'val': ['A', 'B']},\n",
    "             {'train': ['A', 'B', 'F'], 'val': ['D', 'E']},\n",
    "             {'train': ['A', 'B', 'D', 'E'], 'val': ['F']}]\n",
    "\n",
    "# Loop through sample frequencies\n",
    "for fs in sample_frequencies:\n",
    "    \n",
    "    # Filter by sample frequency\n",
    "    df = data[data['fs'] == fs].reset_index()\n",
    "    \n",
    "    # Split dataset into train/evaluate\n",
    "    for cv_fold, cv_split in enumerate(cv_splits):\n",
    "        \n",
    "        # Filter tain and val\n",
    "        df_train = df[df['dataset'].isin(cv_split['train'])]\n",
    "        df_val = df[df['dataset'].isin(cv_split['val'])]\n",
    "    \n",
    "        # Lookup file\n",
    "        training_lookup = {'train': df_train['path'].tolist(), 'val': df_val['path'].tolist()}\n",
    "        \n",
    "        # Save file\n",
    "        os.makedirs(os.path.join(DATA_PATH, 'training', 'deepecg', 'cross_validation', \n",
    "                                 'dataset_split', str(fs), str(cv_fold)), exist_ok=True)\n",
    "        with open(os.path.join(DATA_PATH, 'training', 'deepecg', 'cross_validation',\n",
    "                               'dataset_split', str(fs), str(cv_fold), 'training_lookup.json'), 'w') as file:\n",
    "            json.dump(training_lookup, file, sort_keys=False, indent=4)"
   ]
  }
 ],
 "metadata": {
  "kernelspec": {
   "display_name": "Python 3",
   "language": "python",
   "name": "python3"
  },
  "language_info": {
   "codemirror_mode": {
    "name": "ipython",
    "version": 3
   },
   "file_extension": ".py",
   "mimetype": "text/x-python",
   "name": "python",
   "nbconvert_exporter": "python",
   "pygments_lexer": "ipython3",
   "version": "3.7.7"
  }
 },
 "nbformat": 4,
 "nbformat_minor": 2
}
