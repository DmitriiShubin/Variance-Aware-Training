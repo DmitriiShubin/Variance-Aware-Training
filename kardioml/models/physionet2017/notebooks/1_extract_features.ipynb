{
 "cells": [
  {
   "cell_type": "markdown",
   "metadata": {},
   "source": [
    "# PhysioNet/Computing in Cardiology Challenge 2020\n",
    "## Classification of 12-lead ECGs\n",
    "### 1. Extract Features"
   ]
  },
  {
   "cell_type": "markdown",
   "metadata": {},
   "source": [
    "# Setup Notebook"
   ]
  },
  {
   "cell_type": "code",
   "execution_count": 23,
   "metadata": {},
   "outputs": [
    {
     "name": "stdout",
     "output_type": "stream",
     "text": [
      "The autoreload extension is already loaded. To reload it, use:\n",
      "  %reload_ext autoreload\n"
     ]
    }
   ],
   "source": [
    "# Import 3rd party libraries\n",
    "import os\n",
    "import sys\n",
    "import time\n",
    "import numpy as np\n",
    "from joblib import Parallel, delayed\n",
    "\n",
    "# Import local Libraries\n",
    "sys.path.insert(0, os.path.dirname(os.path.dirname(os.path.dirname(os.path.dirname(os.path.abspath(os.getcwd()))))))\n",
    "from kardioml.models.physionet2017.features.feature_extractor import Features\n",
    "from kardioml import DATA_PATH, ECG_LEADS, FILTER_BAND_LIMITS\n",
    "\n",
    "# Configure Notebook\n",
    "import warnings\n",
    "warnings.filterwarnings('ignore')\n",
    "%matplotlib inline\n",
    "%load_ext autoreload\n",
    "%autoreload 2"
   ]
  },
  {
   "cell_type": "markdown",
   "metadata": {},
   "source": [
    "# Extract Features"
   ]
  },
  {
   "cell_type": "code",
   "execution_count": 24,
   "metadata": {},
   "outputs": [],
   "source": [
    "def process_lead(idx, filenames, lead, load_path, save_path):\n",
    "    \n",
    "    # Extract features\n",
    "    features = Features(filename=filenames[idx], load_path=load_path, save_path=save_path, lead=lead)\n",
    "    features.extract_features(feature_groups=['full_waveform_features', 'rri_features', 'template_features'], \n",
    "                              filter_bandwidth=FILTER_BAND_LIMITS)\n",
    "\n",
    "    # Save features\n",
    "    features.save_features()"
   ]
  },
  {
   "cell_type": "code",
   "execution_count": 25,
   "metadata": {
    "scrolled": false
   },
   "outputs": [
    {
     "name": "stdout",
     "output_type": "stream",
     "text": [
      "Processing dataset A\n",
      "Processing 6877 lead I signals.\n",
      "Completed in 16.05 minutes.\n",
      "Completed dataset A\n",
      "\n",
      "Processing dataset B\n",
      "Processing 3453 lead I signals.\n",
      "Completed in 9.0 minutes.\n",
      "Completed dataset B\n",
      "\n",
      "Processing dataset C\n",
      "Processing 74 lead I signals.\n",
      "Completed in 9.92 minutes.\n",
      "Completed dataset C\n",
      "\n",
      "Processing dataset D\n",
      "Processing 516 lead I signals.\n",
      "Completed in 13.03 minutes.\n",
      "Completed dataset D\n",
      "\n",
      "Processing dataset E\n",
      "Processing 21837 lead I signals.\n",
      "Completed in 59.17 minutes.\n",
      "Completed dataset E\n",
      "\n",
      "Processing dataset F\n",
      "Processing 10344 lead I signals.\n",
      "Completed in 14.2 minutes.\n",
      "Completed dataset F\n",
      "\n"
     ]
    }
   ],
   "source": [
    "# Loop through datasets\n",
    "for dataset in ['A', 'B', 'C', 'D', 'E', 'F']:\n",
    "    \n",
    "    print('Processing dataset {}'.format(dataset))\n",
    "    \n",
    "    # Set save path\n",
    "    save_path = os.path.join(DATA_PATH, dataset, 'features_physionet_2017')\n",
    "    os.makedirs(save_path, exist_ok=True)\n",
    "    \n",
    "    # Set load path\n",
    "    load_path = os.path.join(DATA_PATH, dataset, 'formatted')\n",
    "    \n",
    "    # Get list of files\n",
    "    filenames = [file.split('.')[0] for file in os.listdir(load_path)\n",
    "                 if 'json' in file]\n",
    "  \n",
    "    # Loop through leads\n",
    "    for lead in ECG_LEADS[0:1]:\n",
    "        print('Processing {} lead {} signals.'.format(len(filenames), lead))\n",
    "        start_time = time.time()\n",
    "        # Loop through filenames\n",
    "        _ = Parallel(n_jobs=-1)(delayed(process_lead)(idx, filenames, lead, load_path, save_path) \n",
    "                                for idx in range(len(filenames)))  \n",
    "        print('Completed in {} minutes.'.format(np.round((time.time() - start_time) / 60, 2)))\n",
    "\n",
    "    print('Completed dataset {}\\n'.format(dataset))"
   ]
  },
  {
   "cell_type": "markdown",
   "metadata": {},
   "source": [
    "# Extract Features DEBUG"
   ]
  },
  {
   "cell_type": "code",
   "execution_count": 11,
   "metadata": {
    "scrolled": false
   },
   "outputs": [],
   "source": [
    "# Loop through datasets\n",
    "for dataset in ['B']:\n",
    "    \n",
    "    # Set save path\n",
    "    save_path = os.path.join(DATA_PATH, dataset, 'features_physionet_2017')\n",
    "    os.makedirs(save_path, exist_ok=True)\n",
    "    \n",
    "    # Set load path\n",
    "    load_path = os.path.join(DATA_PATH, dataset, 'formatted')\n",
    "    \n",
    "    # Get list of files\n",
    "    filenames = [file.split('.')[0] for file in os.listdir(load_path)\n",
    "                 if 'json' in file]\n",
    "\n",
    "    # Loop through leads\n",
    "    for lead in ECG_LEADS[0:1]:\n",
    "\n",
    "        # Loop through filenames\n",
    "        for filename in filenames[0:200]:\n",
    "\n",
    "            # Extract features\n",
    "            features = Features(filename=filename, load_path=load_path, save_path=save_path, lead=lead)\n",
    "            features.extract_features(feature_groups=['full_waveform_features', 'rri_features', 'template_features'], \n",
    "                                      filter_bandwidth=[3, 45])\n",
    "\n",
    "            # Save features\n",
    "            features.save_features()"
   ]
  }
 ],
 "metadata": {
  "kernelspec": {
   "display_name": "Python 3",
   "language": "python",
   "name": "python3"
  },
  "language_info": {
   "codemirror_mode": {
    "name": "ipython",
    "version": 3
   },
   "file_extension": ".py",
   "mimetype": "text/x-python",
   "name": "python",
   "nbconvert_exporter": "python",
   "pygments_lexer": "ipython3",
   "version": "3.7.7"
  }
 },
 "nbformat": 4,
 "nbformat_minor": 4
}
