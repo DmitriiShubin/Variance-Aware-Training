{
 "cells": [
  {
   "cell_type": "markdown",
   "metadata": {},
   "source": [
    "# PhysioNet/Computing in Cardiology Challenge 2020\n",
    "## Classification of 12-lead ECGs\n",
    "### 3. Train Model"
   ]
  },
  {
   "cell_type": "markdown",
   "metadata": {},
   "source": [
    "# Setup Notebook"
   ]
  },
  {
   "cell_type": "code",
   "execution_count": null,
   "metadata": {},
   "outputs": [],
   "source": [
    "# Import 3rd party libraries\n",
    "import os\n",
    "import sys\n",
    "import ast\n",
    "import time\n",
    "import json\n",
    "import numpy as np\n",
    "import pandas as pd\n",
    "\n",
    "# Import local Libraries\n",
    "sys.path.insert(0, os.path.dirname(os.path.dirname(os.path.dirname(os.path.dirname(os.path.abspath(os.getcwd()))))))\n",
    "from kardioml import DATA_PATH\n",
    "from kardioml.models.physionet2017.training.xgboost_model import Model\n",
    "from kardioml.data.data_loader import load_challenge_data\n",
    "\n",
    "# Configure Notebook\n",
    "import warnings\n",
    "warnings.filterwarnings('ignore')\n",
    "%matplotlib inline\n",
    "%load_ext autoreload\n",
    "%autoreload 2"
   ]
  },
  {
   "cell_type": "markdown",
   "metadata": {},
   "source": [
    "# Import Data\n",
    "### Meta Data"
   ]
  },
  {
   "cell_type": "code",
   "execution_count": null,
   "metadata": {},
   "outputs": [],
   "source": [
    "# Import to DataFrame\n",
    "meta_data = pd.read_csv(os.path.join(DATA_PATH, 'training', 'physionet_2017', 'meta_data.csv'))\n",
    "\n",
    "# View DataFrame\n",
    "meta_data.head()"
   ]
  },
  {
   "cell_type": "markdown",
   "metadata": {},
   "source": [
    "### Features"
   ]
  },
  {
   "cell_type": "code",
   "execution_count": null,
   "metadata": {},
   "outputs": [],
   "source": [
    "# Import to DataFrame\n",
    "features = pd.read_csv(os.path.join(DATA_PATH, 'training', 'physionet_2017', 'features.csv'))\n",
    "\n",
    "# View DataFrame\n",
    "features.head()"
   ]
  },
  {
   "cell_type": "markdown",
   "metadata": {},
   "source": [
    "### Labels"
   ]
  },
  {
   "cell_type": "code",
   "execution_count": null,
   "metadata": {},
   "outputs": [],
   "source": [
    "# Import to DataFrame\n",
    "labels = pd.read_csv(os.path.join(DATA_PATH, 'training', 'physionet_2017', 'labels.csv'))\n",
    "\n",
    "# View DataFrame\n",
    "labels.head()"
   ]
  },
  {
   "cell_type": "markdown",
   "metadata": {},
   "source": [
    "# Hyper-Parameter Tuning"
   ]
  },
  {
   "cell_type": "code",
   "execution_count": null,
   "metadata": {
    "scrolled": false
   },
   "outputs": [],
   "source": [
    "# Set parameter bounds\n",
    "param_bounds = {'learning_rate': (0.01, 1.0),\n",
    "                'n_estimators': (500, 1500),\n",
    "                'max_depth': (2, 8),\n",
    "                'subsample': (0.5, 1.0),  \n",
    "                'colsample_bytree': (0.5, 1.0),\n",
    "                'gamma': (0.001, 2.0),\n",
    "                'min_child_weight': (0, 10),\n",
    "                'max_delta_step': (0, 10)}\n",
    "\n",
    "# Set number of iterations\n",
    "n_iter = 40\n",
    "\n",
    "# Set number CV folds\n",
    "cv_folds = 4\n",
    "\n",
    "# Get 1-D labels for stratifying\n",
    "stratifier = meta_data['labels'].map(lambda val: ast.literal_eval(val)[0])\n",
    "\n",
    "# Initialize model\n",
    "model = Model(features=features.drop(['dataset', 'filename', 'lead'], axis=1), labels=labels, \n",
    "              cv_folds=cv_folds, stratifier=stratifier)\n",
    "\n",
    "# Run hyper-paramter search\n",
    "model.tune_hyper_parameters(param_bounds=param_bounds, n_iter=n_iter)\n",
    "\n",
    "# Save model\n",
    "model.save()"
   ]
  },
  {
   "cell_type": "markdown",
   "metadata": {},
   "source": [
    "# Test Inference"
   ]
  },
  {
   "cell_type": "code",
   "execution_count": null,
   "metadata": {},
   "outputs": [],
   "source": [
    "# Load test data\n",
    "data, header_data = load_challenge_data(filename=os.path.join(DATA_PATH, 'raw', 'Training_WFDB', 'A0100.mat'))\n",
    "\n",
    "# Run inference\n",
    "model.challenge_prediction(data=data, header_data=header_data)"
   ]
  }
 ],
 "metadata": {
  "kernelspec": {
   "display_name": "Python 3",
   "language": "python",
   "name": "python3"
  },
  "language_info": {
   "codemirror_mode": {
    "name": "ipython",
    "version": 3
   },
   "file_extension": ".py",
   "mimetype": "text/x-python",
   "name": "python",
   "nbconvert_exporter": "python",
   "pygments_lexer": "ipython3",
   "version": "3.7.7"
  }
 },
 "nbformat": 4,
 "nbformat_minor": 4
}
