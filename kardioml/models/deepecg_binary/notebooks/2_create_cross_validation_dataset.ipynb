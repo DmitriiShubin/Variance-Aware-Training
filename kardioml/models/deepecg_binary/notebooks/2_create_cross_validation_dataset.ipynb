{
 "cells": [
  {
   "cell_type": "markdown",
   "metadata": {},
   "source": [
    "# PhysioNet/Computing in Cardiology Challenge 2020\n",
    "## Classification of 12-lead ECGs\n",
    "### 2. Create Cross-Validation Dataset"
   ]
  },
  {
   "cell_type": "markdown",
   "metadata": {},
   "source": [
    "# Setup Noteboook"
   ]
  },
  {
   "cell_type": "code",
   "execution_count": 1,
   "metadata": {},
   "outputs": [],
   "source": [
    "# Import 3rd party libraries\n",
    "import os\n",
    "import sys\n",
    "import json\n",
    "import random\n",
    "import pandas as pd\n",
    "from sklearn.model_selection import StratifiedKFold\n",
    "\n",
    "# Import local Libraries\n",
    "sys.path.insert(0, os.path.dirname(os.path.dirname(os.path.dirname(os.path.dirname(os.path.abspath(os.getcwd()))))))\n",
    "from kardioml import DATA_PATH\n",
    "\n",
    "# Configure Notebook\n",
    "import warnings\n",
    "warnings.filterwarnings('ignore')\n",
    "%matplotlib inline\n",
    "%load_ext autoreload\n",
    "%autoreload 2"
   ]
  },
  {
   "cell_type": "markdown",
   "metadata": {},
   "source": [
    "# Add Augmentation Datasets\n",
    "## Zheng 2020"
   ]
  },
  {
   "cell_type": "code",
   "execution_count": 2,
   "metadata": {},
   "outputs": [],
   "source": [
    "# Get file paths\n",
    "paths = [os.path.join(DATA_PATH, 'zheng_2020', 'formatted', file.split('.')[0]) \n",
    "         for file in os.listdir(os.path.join(DATA_PATH, 'zheng_2020', 'formatted')) if 'json' in file]"
   ]
  },
  {
   "cell_type": "markdown",
   "metadata": {},
   "source": [
    "# Split Physionet 2020 Training Data\n",
    "## Create Training Lookup File\n",
    "#### Tranche 1"
   ]
  },
  {
   "cell_type": "code",
   "execution_count": 3,
   "metadata": {},
   "outputs": [
    {
     "data": {
      "text/html": [
       "<div>\n",
       "<style scoped>\n",
       "    .dataframe tbody tr th:only-of-type {\n",
       "        vertical-align: middle;\n",
       "    }\n",
       "\n",
       "    .dataframe tbody tr th {\n",
       "        vertical-align: top;\n",
       "    }\n",
       "\n",
       "    .dataframe thead th {\n",
       "        text-align: right;\n",
       "    }\n",
       "</style>\n",
       "<table border=\"1\" class=\"dataframe\">\n",
       "  <thead>\n",
       "    <tr style=\"text-align: right;\">\n",
       "      <th></th>\n",
       "      <th>filename</th>\n",
       "      <th>labels</th>\n",
       "      <th>path</th>\n",
       "    </tr>\n",
       "  </thead>\n",
       "  <tbody>\n",
       "    <tr>\n",
       "      <td>0</td>\n",
       "      <td>A0001</td>\n",
       "      <td>Other</td>\n",
       "      <td>C:\\Users\\sebastian goodfellow\\Documents\\code\\p...</td>\n",
       "    </tr>\n",
       "    <tr>\n",
       "      <td>1</td>\n",
       "      <td>A0002</td>\n",
       "      <td>Normal</td>\n",
       "      <td>C:\\Users\\sebastian goodfellow\\Documents\\code\\p...</td>\n",
       "    </tr>\n",
       "    <tr>\n",
       "      <td>2</td>\n",
       "      <td>A0003</td>\n",
       "      <td>Other</td>\n",
       "      <td>C:\\Users\\sebastian goodfellow\\Documents\\code\\p...</td>\n",
       "    </tr>\n",
       "    <tr>\n",
       "      <td>3</td>\n",
       "      <td>A0004</td>\n",
       "      <td>Other</td>\n",
       "      <td>C:\\Users\\sebastian goodfellow\\Documents\\code\\p...</td>\n",
       "    </tr>\n",
       "    <tr>\n",
       "      <td>4</td>\n",
       "      <td>A0005</td>\n",
       "      <td>Other</td>\n",
       "      <td>C:\\Users\\sebastian goodfellow\\Documents\\code\\p...</td>\n",
       "    </tr>\n",
       "  </tbody>\n",
       "</table>\n",
       "</div>"
      ],
      "text/plain": [
       "  filename  labels                                               path\n",
       "0    A0001   Other  C:\\Users\\sebastian goodfellow\\Documents\\code\\p...\n",
       "1    A0002  Normal  C:\\Users\\sebastian goodfellow\\Documents\\code\\p...\n",
       "2    A0003   Other  C:\\Users\\sebastian goodfellow\\Documents\\code\\p...\n",
       "3    A0004   Other  C:\\Users\\sebastian goodfellow\\Documents\\code\\p...\n",
       "4    A0005   Other  C:\\Users\\sebastian goodfellow\\Documents\\code\\p..."
      ]
     },
     "execution_count": 3,
     "metadata": {},
     "output_type": "execute_result"
    }
   ],
   "source": [
    "# Get meta data files\n",
    "filenames = [file.split('.')[0] for file in os.listdir(os.path.join(DATA_PATH, 'physionet_2020_1', 'formatted')) \n",
    "             if 'json' in file]\n",
    "\n",
    "# Get label for each file\n",
    "data_1 = {'filename': [], 'labels': []}\n",
    "for filename in filenames:\n",
    "    meta_data = json.load(open(os.path.join(DATA_PATH, 'physionet_2020_1', 'formatted', '{}.json'.format(filename))))\n",
    "    data_1['filename'].append(filename)\n",
    "    data_1['labels'].append('Normal' if meta_data['labels'] and 'Normal' in meta_data['labels'] else 'Other')\n",
    "\n",
    "# Combine\n",
    "data_1 = pd.DataFrame(data_1)\n",
    "\n",
    "# Add path\n",
    "data_1['path'] = data_1['filename'].map(lambda filename: os.path.join(DATA_PATH, 'physionet_2020_1', 'formatted', filename))\n",
    "\n",
    "# View DataFrame\n",
    "data_1.head()"
   ]
  },
  {
   "cell_type": "markdown",
   "metadata": {},
   "source": [
    "#### Trache 2"
   ]
  },
  {
   "cell_type": "code",
   "execution_count": 4,
   "metadata": {},
   "outputs": [
    {
     "data": {
      "text/html": [
       "<div>\n",
       "<style scoped>\n",
       "    .dataframe tbody tr th:only-of-type {\n",
       "        vertical-align: middle;\n",
       "    }\n",
       "\n",
       "    .dataframe tbody tr th {\n",
       "        vertical-align: top;\n",
       "    }\n",
       "\n",
       "    .dataframe thead th {\n",
       "        text-align: right;\n",
       "    }\n",
       "</style>\n",
       "<table border=\"1\" class=\"dataframe\">\n",
       "  <thead>\n",
       "    <tr style=\"text-align: right;\">\n",
       "      <th></th>\n",
       "      <th>filename</th>\n",
       "      <th>labels</th>\n",
       "      <th>path</th>\n",
       "    </tr>\n",
       "  </thead>\n",
       "  <tbody>\n",
       "    <tr>\n",
       "      <td>0</td>\n",
       "      <td>Q0001</td>\n",
       "      <td>Other</td>\n",
       "      <td>C:\\Users\\sebastian goodfellow\\Documents\\code\\p...</td>\n",
       "    </tr>\n",
       "    <tr>\n",
       "      <td>1</td>\n",
       "      <td>Q0002</td>\n",
       "      <td>Other</td>\n",
       "      <td>C:\\Users\\sebastian goodfellow\\Documents\\code\\p...</td>\n",
       "    </tr>\n",
       "    <tr>\n",
       "      <td>2</td>\n",
       "      <td>Q0003</td>\n",
       "      <td>Other</td>\n",
       "      <td>C:\\Users\\sebastian goodfellow\\Documents\\code\\p...</td>\n",
       "    </tr>\n",
       "    <tr>\n",
       "      <td>3</td>\n",
       "      <td>Q0004</td>\n",
       "      <td>Other</td>\n",
       "      <td>C:\\Users\\sebastian goodfellow\\Documents\\code\\p...</td>\n",
       "    </tr>\n",
       "    <tr>\n",
       "      <td>4</td>\n",
       "      <td>Q0005</td>\n",
       "      <td>Other</td>\n",
       "      <td>C:\\Users\\sebastian goodfellow\\Documents\\code\\p...</td>\n",
       "    </tr>\n",
       "  </tbody>\n",
       "</table>\n",
       "</div>"
      ],
      "text/plain": [
       "  filename labels                                               path\n",
       "0    Q0001  Other  C:\\Users\\sebastian goodfellow\\Documents\\code\\p...\n",
       "1    Q0002  Other  C:\\Users\\sebastian goodfellow\\Documents\\code\\p...\n",
       "2    Q0003  Other  C:\\Users\\sebastian goodfellow\\Documents\\code\\p...\n",
       "3    Q0004  Other  C:\\Users\\sebastian goodfellow\\Documents\\code\\p...\n",
       "4    Q0005  Other  C:\\Users\\sebastian goodfellow\\Documents\\code\\p..."
      ]
     },
     "execution_count": 4,
     "metadata": {},
     "output_type": "execute_result"
    }
   ],
   "source": [
    "# Get meta data files\n",
    "filenames = [file.split('.')[0] for file in os.listdir(os.path.join(DATA_PATH, 'physionet_2020_2', 'formatted')) \n",
    "             if 'json' in file]\n",
    "\n",
    "# Get label for each file\n",
    "data_2 = {'filename': [], 'labels': []}\n",
    "for filename in filenames:\n",
    "    meta_data = json.load(open(os.path.join(DATA_PATH, 'physionet_2020_2', 'formatted', '{}.json'.format(filename))))\n",
    "    data_2['filename'].append(filename)\n",
    "    data_2['labels'].append('Normal' if meta_data['labels'] and 'Normal' in meta_data['labels'] else 'Other')\n",
    "\n",
    "# Combine\n",
    "data_2 = pd.DataFrame(data_2)\n",
    "\n",
    "# Add path\n",
    "data_2['path'] = data_2['filename'].map(lambda filename: os.path.join(DATA_PATH, 'physionet_2020_2', 'formatted', filename))\n",
    "\n",
    "# View DataFrame\n",
    "data_2.head()"
   ]
  },
  {
   "cell_type": "markdown",
   "metadata": {},
   "source": [
    "#### Combine Tranche 1 and 2"
   ]
  },
  {
   "cell_type": "code",
   "execution_count": 5,
   "metadata": {},
   "outputs": [
    {
     "data": {
      "text/html": [
       "<div>\n",
       "<style scoped>\n",
       "    .dataframe tbody tr th:only-of-type {\n",
       "        vertical-align: middle;\n",
       "    }\n",
       "\n",
       "    .dataframe tbody tr th {\n",
       "        vertical-align: top;\n",
       "    }\n",
       "\n",
       "    .dataframe thead th {\n",
       "        text-align: right;\n",
       "    }\n",
       "</style>\n",
       "<table border=\"1\" class=\"dataframe\">\n",
       "  <thead>\n",
       "    <tr style=\"text-align: right;\">\n",
       "      <th></th>\n",
       "      <th>filename</th>\n",
       "      <th>labels</th>\n",
       "      <th>path</th>\n",
       "    </tr>\n",
       "  </thead>\n",
       "  <tbody>\n",
       "    <tr>\n",
       "      <td>0</td>\n",
       "      <td>A0001</td>\n",
       "      <td>Other</td>\n",
       "      <td>C:\\Users\\sebastian goodfellow\\Documents\\code\\p...</td>\n",
       "    </tr>\n",
       "    <tr>\n",
       "      <td>1</td>\n",
       "      <td>A0002</td>\n",
       "      <td>Normal</td>\n",
       "      <td>C:\\Users\\sebastian goodfellow\\Documents\\code\\p...</td>\n",
       "    </tr>\n",
       "    <tr>\n",
       "      <td>2</td>\n",
       "      <td>A0003</td>\n",
       "      <td>Other</td>\n",
       "      <td>C:\\Users\\sebastian goodfellow\\Documents\\code\\p...</td>\n",
       "    </tr>\n",
       "    <tr>\n",
       "      <td>3</td>\n",
       "      <td>A0004</td>\n",
       "      <td>Other</td>\n",
       "      <td>C:\\Users\\sebastian goodfellow\\Documents\\code\\p...</td>\n",
       "    </tr>\n",
       "    <tr>\n",
       "      <td>4</td>\n",
       "      <td>A0005</td>\n",
       "      <td>Other</td>\n",
       "      <td>C:\\Users\\sebastian goodfellow\\Documents\\code\\p...</td>\n",
       "    </tr>\n",
       "  </tbody>\n",
       "</table>\n",
       "</div>"
      ],
      "text/plain": [
       "  filename  labels                                               path\n",
       "0    A0001   Other  C:\\Users\\sebastian goodfellow\\Documents\\code\\p...\n",
       "1    A0002  Normal  C:\\Users\\sebastian goodfellow\\Documents\\code\\p...\n",
       "2    A0003   Other  C:\\Users\\sebastian goodfellow\\Documents\\code\\p...\n",
       "3    A0004   Other  C:\\Users\\sebastian goodfellow\\Documents\\code\\p...\n",
       "4    A0005   Other  C:\\Users\\sebastian goodfellow\\Documents\\code\\p..."
      ]
     },
     "execution_count": 5,
     "metadata": {},
     "output_type": "execute_result"
    }
   ],
   "source": [
    "# Merge\n",
    "data = pd.concat([data_1, data_2], ignore_index=True, axis=0).reset_index(drop=True)\n",
    "\n",
    "# View DataFrame\n",
    "data.head()"
   ]
  },
  {
   "cell_type": "markdown",
   "metadata": {},
   "source": [
    "## Split and Save"
   ]
  },
  {
   "cell_type": "code",
   "execution_count": 6,
   "metadata": {},
   "outputs": [],
   "source": [
    "# Initialize K-Folds\n",
    "skf = StratifiedKFold(n_splits=5, random_state=0, shuffle=True)\n",
    "\n",
    "# Loop through folds\n",
    "for cv_fold, (train_index, val_index) in enumerate(skf.split(data, data['labels'])):\n",
    "\n",
    "    # Lookup file\n",
    "    training_lookup = {'train': data.loc[train_index, 'path'].tolist(), \n",
    "                       'val': data.loc[val_index, 'path'].tolist()}\n",
    "    \n",
    "    # Add augmentationd data\n",
    "#     training_lookup['val'].extend(paths)\n",
    "#     random.shuffle(training_lookup['val'])\n",
    "#     random.shuffle(training_lookup['val'])\n",
    "#     random.shuffle(training_lookup['val'])\n",
    "#     random.shuffle(training_lookup['val'])\n",
    "#     random.shuffle(training_lookup['val'])\n",
    "    \n",
    "    # Save file\n",
    "    os.makedirs(os.path.join(DATA_PATH, 'deepecg_binary', 'cross_validation', str(cv_fold + 1)), exist_ok=True)\n",
    "    with open(os.path.join(DATA_PATH, 'deepecg_binary', 'cross_validation', \n",
    "                           str(cv_fold + 1), 'training_lookup.json'), 'w') as file:\n",
    "        json.dump(training_lookup, file, sort_keys=True)"
   ]
  }
 ],
 "metadata": {
  "kernelspec": {
   "display_name": "Python 3",
   "language": "python",
   "name": "python3"
  },
  "language_info": {
   "codemirror_mode": {
    "name": "ipython",
    "version": 3
   },
   "file_extension": ".py",
   "mimetype": "text/x-python",
   "name": "python",
   "nbconvert_exporter": "python",
   "pygments_lexer": "ipython3",
   "version": "3.6.9"
  }
 },
 "nbformat": 4,
 "nbformat_minor": 2
}
