{
 "cells": [
  {
   "cell_type": "markdown",
   "metadata": {},
   "source": [
    "# PhysioNet/Computing in Cardiology Challenge 2020\n",
    "## Classification of 12-lead ECGs\n",
    "### 4. Cross-Validate Model"
   ]
  },
  {
   "cell_type": "markdown",
   "metadata": {},
   "source": [
    "# Setup Noteboook"
   ]
  },
  {
   "cell_type": "code",
   "execution_count": null,
   "metadata": {},
   "outputs": [],
   "source": [
    "# 3rd party libraries\n",
    "import os\n",
    "import sys\n",
    "import numpy as np\n",
    "import tensorflow as tf\n",
    "\n",
    "# Local Libraries\n",
    "sys.path.insert(0, os.path.dirname(os.path.dirname(os.path.dirname(os.path.dirname(os.path.abspath(os.getcwd()))))))\n",
    "from kardioml.models.deepecg_binary.utils.devices.device_check import print_device_counts\n",
    "from kardioml.models.deepecg_binary.train.train import train\n",
    "from kardioml.models.deepecg_binary.model.model import Model\n",
    "from kardioml import DATA_PATH, OUTPUT_PATH, ECG_LEADS\n",
    "\n",
    "# Configure Notebook\n",
    "import warnings\n",
    "warnings.filterwarnings('ignore')\n",
    "%matplotlib inline\n",
    "%load_ext autoreload\n",
    "%autoreload 2"
   ]
  },
  {
   "cell_type": "markdown",
   "metadata": {},
   "source": [
    "# 1. Run Cross-Validation"
   ]
  },
  {
   "cell_type": "code",
   "execution_count": null,
   "metadata": {
    "scrolled": false
   },
   "outputs": [],
   "source": [
    "# Set data path\n",
    "data_path = os.path.join(DATA_PATH, 'formatted')\n",
    "\n",
    "# Set model name\n",
    "training_run = '26'\n",
    "\n",
    "# Set sample length (seconds)\n",
    "duration = 60\n",
    "\n",
    "# Loop through CV folds\n",
    "for cv_fold in np.arange(1, 6):\n",
    "    \n",
    "    print('Cross-Validation Fold {}'.format(cv_fold))\n",
    "    \n",
    "    # Set data path\n",
    "    lookup_path = os.path.join(DATA_PATH, 'deepecg', 'cross_validation', str(cv_fold))\n",
    "\n",
    "    # Print devices\n",
    "    print_device_counts()\n",
    "\n",
    "    # Set save path for graphs, summaries, and checkpoints\n",
    "    output_path = os.path.join(OUTPUT_PATH, training_run)\n",
    "    os.makedirs(output_path, exist_ok=True)\n",
    "\n",
    "    # Set model name\n",
    "    model_name = 'cv_{}'.format(cv_fold)\n",
    "\n",
    "    # Maximum number of checkpoints to keep\n",
    "    max_to_keep = 1\n",
    "\n",
    "    # Set randome states\n",
    "    seed = 0                                                         \n",
    "\n",
    "    # Set sample frequency\n",
    "    fs = 350\n",
    "\n",
    "    # Get training dataset dimensions\n",
    "    length, channels = (int(duration * fs), len(ECG_LEADS))          \n",
    "\n",
    "    # Number of classes\n",
    "    classes = 2\n",
    "\n",
    "    # Choose network\n",
    "    network_name = 'DeepECGV1'\n",
    "\n",
    "    # Set hyper-parameter\n",
    "    hyper_params = {'num_res_layers': 9, 'drop_rate': 0.3, 'kernel_size': 3, \n",
    "                    'conv_filts': 128, 'res_filts': 128, 'skip_filts': 128, \n",
    "                    'dilation': True, 'fs': fs}\n",
    "\n",
    "    # Set network inputs\n",
    "    network_parameters = {'length': length, 'channels': channels, 'classes': classes, 'seed': seed,\n",
    "                          'hyper_params': hyper_params}\n",
    "\n",
    "    # Create model\n",
    "    print('Initializing Model')\n",
    "    model = Model(model_name=model_name, \n",
    "                  network_name=network_name, \n",
    "                  network_parameters=network_parameters, \n",
    "                  save_path=output_path,\n",
    "                  data_path=data_path,\n",
    "                  lookup_path=lookup_path,\n",
    "                  max_to_keep=max_to_keep)\n",
    "\n",
    "    # Set hyper-parameters\n",
    "    epochs = 60\n",
    "    batch_size = 16            \n",
    "\n",
    "    # Train model\n",
    "    print('Training Start')\n",
    "    train(model=model, epochs=epochs, batch_size=batch_size)\n",
    "    print('Training End\\n')"
   ]
  }
 ],
 "metadata": {
  "kernelspec": {
   "display_name": "Python 3",
   "language": "python",
   "name": "python3"
  },
  "language_info": {
   "codemirror_mode": {
    "name": "ipython",
    "version": 3
   },
   "file_extension": ".py",
   "mimetype": "text/x-python",
   "name": "python",
   "nbconvert_exporter": "python",
   "pygments_lexer": "ipython3",
   "version": "3.6.9"
  }
 },
 "nbformat": 4,
 "nbformat_minor": 2
}
