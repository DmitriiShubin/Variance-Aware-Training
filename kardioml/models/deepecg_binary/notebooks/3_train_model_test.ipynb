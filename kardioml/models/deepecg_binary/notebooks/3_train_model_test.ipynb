{
 "cells": [
  {
   "cell_type": "markdown",
   "metadata": {},
   "source": [
    "# PhysioNet/Computing in Cardiology Challenge 2020\n",
    "## Classification of 12-lead ECGs\n",
    "### 3. Train Model"
   ]
  },
  {
   "cell_type": "markdown",
   "metadata": {},
   "source": [
    "# Setup Noteboook"
   ]
  },
  {
   "cell_type": "code",
   "execution_count": 1,
   "metadata": {},
   "outputs": [],
   "source": [
    "# 3rd party libraries\n",
    "import os\n",
    "import sys\n",
    "import numpy as np\n",
    "import tensorflow as tf\n",
    "\n",
    "# Local Libraries\n",
    "sys.path.insert(0, os.path.dirname(os.path.dirname(os.path.dirname(os.path.dirname(os.path.abspath(os.getcwd()))))))\n",
    "from kardioml.models.deepecg.utils.devices.device_check import print_device_counts\n",
    "from kardioml.models.deepecg.train.train import train\n",
    "from kardioml.models.deepecg.model.model import Model\n",
    "from kardioml import DATA_PATH, OUTPUT_PATH, LABELS_COUNT, ECG_LEADS, FS\n",
    "\n",
    "# Configure Notebook\n",
    "import warnings\n",
    "warnings.filterwarnings('ignore')\n",
    "%matplotlib inline\n",
    "%load_ext autoreload\n",
    "%autoreload 2"
   ]
  },
  {
   "cell_type": "markdown",
   "metadata": {},
   "source": [
    "# 1. Initialize Model"
   ]
  },
  {
   "cell_type": "code",
   "execution_count": 2,
   "metadata": {
    "scrolled": false
   },
   "outputs": [
    {
     "name": "stdout",
     "output_type": "stream",
     "text": [
      "Workstation has 1 CPUs.\n",
      "Workstation has 2 GPUs.\n",
      "input | shape = (?, 30000, 12)\n",
      "stem_layer_1 | shape = (?, 15000, 128)\n",
      "stem_layer_2 | shape = (?, 7500, 128)\n",
      "res_layer_1_res | shape = (?, 7500, 128)\n",
      "res_layer_1_skip | shape = (?, 7500, 128)\n",
      "res_layer_1_res | shape = (?, 7500, 128)\n",
      "res_layer_1_skip | shape = (?, 7500, 128)\n",
      "output_skip_addition | shape = (?, 7500, 128)\n",
      "output_conv1 | shape = (?, 7500, 256)\n",
      "output_conv2 | shape = (?, 7500, 512)\n",
      "gap | shape = (?, 512)\n",
      "logits | shape = (?, 9)\n",
      "input | shape = (?, 30000, 12)\n",
      "stem_layer_1 | shape = (?, 15000, 128)\n",
      "stem_layer_2 | shape = (?, 7500, 128)\n",
      "res_layer_1_res | shape = (?, 7500, 128)\n",
      "res_layer_1_skip | shape = (?, 7500, 128)\n",
      "res_layer_1_res | shape = (?, 7500, 128)\n",
      "res_layer_1_skip | shape = (?, 7500, 128)\n",
      "output_skip_addition | shape = (?, 7500, 128)\n",
      "output_conv1 | shape = (?, 7500, 256)\n",
      "output_conv2 | shape = (?, 7500, 512)\n",
      "gap | shape = (?, 512)\n",
      "logits | shape = (?, 9)\n"
     ]
    }
   ],
   "source": [
    "# Set data path\n",
    "data_path = os.path.join(DATA_PATH, 'formatted')\n",
    "\n",
    "# Set data path\n",
    "lookup_path = os.path.join(DATA_PATH, 'deepecg')\n",
    "\n",
    "# Print devices\n",
    "print_device_counts()\n",
    "\n",
    "# Set save path for graphs, summaries, and checkpoints\n",
    "os.makedirs(OUTPUT_PATH, exist_ok=True)\n",
    "\n",
    "# Set model name\n",
    "model_name = '14'\n",
    "\n",
    "# Maximum number of checkpoints to keep\n",
    "max_to_keep = 1\n",
    "\n",
    "# Set randome states\n",
    "seed = 0                                                         \n",
    "\n",
    "# Get training dataset dimensions\n",
    "length, channels = (30000, len(ECG_LEADS))     \n",
    "\n",
    "# Number of classes\n",
    "classes = LABELS_COUNT\n",
    "\n",
    "# Choose network\n",
    "network_name = 'DeepECGV1'\n",
    "\n",
    "# Set hyper-parameter\n",
    "hyper_params = {'num_res_layers': 2, 'drop_rate': 0.3, 'kernel_size': 3, \n",
    "                'conv_filts': 128, 'res_filts': 128, 'skip_filts': 128, \n",
    "                'dilation': True, 'fs': FS}\n",
    "\n",
    "# Set network inputs\n",
    "network_parameters = {'length': length, 'channels': channels, 'classes': classes, 'seed': seed,\n",
    "                      'hyper_params': hyper_params}\n",
    "\n",
    "# Create model\n",
    "model = Model(model_name=model_name, \n",
    "              network_name=network_name, \n",
    "              network_parameters=network_parameters, \n",
    "              save_path=OUTPUT_PATH,\n",
    "              data_path=data_path,\n",
    "              lookup_path=lookup_path,\n",
    "              max_to_keep=max_to_keep)"
   ]
  },
  {
   "cell_type": "markdown",
   "metadata": {},
   "source": [
    "# 4. Train Model"
   ]
  },
  {
   "cell_type": "code",
   "execution_count": 3,
   "metadata": {
    "scrolled": false
   },
   "outputs": [],
   "source": [
    "# Set hyper-parameters\n",
    "epochs = 100\n",
    "batch_size = 16\n",
    "learning_rate_start = 0.001            \n",
    "\n",
    "# Train model\n",
    "train(model=model, epochs=epochs, batch_size=batch_size)"
   ]
  }
 ],
 "metadata": {
  "kernelspec": {
   "display_name": "Python 3",
   "language": "python",
   "name": "python3"
  },
  "language_info": {
   "codemirror_mode": {
    "name": "ipython",
    "version": 3
   },
   "file_extension": ".py",
   "mimetype": "text/x-python",
   "name": "python",
   "nbconvert_exporter": "python",
   "pygments_lexer": "ipython3",
   "version": "3.6.9"
  }
 },
 "nbformat": 4,
 "nbformat_minor": 2
}
