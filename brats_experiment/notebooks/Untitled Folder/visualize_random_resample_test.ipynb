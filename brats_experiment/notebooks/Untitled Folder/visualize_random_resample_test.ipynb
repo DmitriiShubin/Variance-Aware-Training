{
 "cells": [
  {
   "cell_type": "markdown",
   "metadata": {},
   "source": [
    "# PhysioNet/Computing in Cardiology Challenge 2020\n",
    "## Classification of 12-lead ECGs"
   ]
  },
  {
   "cell_type": "markdown",
   "metadata": {},
   "source": [
    "# Setup Notebook"
   ]
  },
  {
   "cell_type": "code",
   "execution_count": 2,
   "metadata": {},
   "outputs": [],
   "source": [
    "# Import 3rd party libraries\n",
    "import os\n",
    "import sys\n",
    "import json\n",
    "import random\n",
    "import numpy as np\n",
    "from scipy import signal\n",
    "import matplotlib.pylab as plt\n",
    "from ipywidgets import interact, fixed, IntSlider\n",
    "\n",
    "# Local imports\n",
    "sys.path.insert(0, os.path.dirname(os.path.abspath(os.getcwd())))\n",
    "from kardioml import DATA_PATH, ECG_LEADS\n",
    "from kardioml.visualization.plot_formatted_data import waveform_plot_interact\n",
    "\n",
    "# Configure Notebook\n",
    "import warnings\n",
    "warnings.filterwarnings('ignore')\n",
    "%matplotlib inline\n",
    "%load_ext autoreload\n",
    "%autoreload 2"
   ]
  },
  {
   "cell_type": "markdown",
   "metadata": {},
   "source": [
    "# Plot Waveforms"
   ]
  },
  {
   "cell_type": "code",
   "execution_count": 47,
   "metadata": {
    "scrolled": false
   },
   "outputs": [],
   "source": [
    "def waveform_plot(filename_id, filenames, path):\n",
    "    \"\"\"Plot measure vs time.\"\"\"\n",
    "    # Get filename\n",
    "    filename = filenames[filename_id]\n",
    "\n",
    "    # Import waveforms\n",
    "    waveforms = np.load(os.path.join(path, '{}.npy'.format(filename)))\n",
    "\n",
    "    # Import meta data\n",
    "    meta_data = json.load(open(os.path.join(path, '{}.json'.format(filename))))\n",
    "\n",
    "    # Scale waveforms\n",
    "    waveforms = waveforms / np.median(waveforms[meta_data['rpeaks'][0], 0])\n",
    "\n",
    "    # Get label\n",
    "    label = ''\n",
    "    if meta_data['labels_short']:\n",
    "        for idx, lab in enumerate(meta_data['labels_full']):\n",
    "            if idx == 0:\n",
    "                label += lab\n",
    "            else:\n",
    "                label += ' and ' + lab\n",
    "    else:\n",
    "        label = 'Other'\n",
    "\n",
    "    # Time array\n",
    "    time = np.arange(waveforms.shape[0]) * 1 / meta_data['fs_resampled']\n",
    "    \n",
    "    # Random resample\n",
    "    waveforms_resample = random_resample(waveform=waveforms, meta_data=meta_data, \n",
    "                                         fs_training=meta_data['fs_resampled'], probability=1., max_samples=19000)\n",
    "\n",
    "    # Setup figure\n",
    "    fig = plt.figure(figsize=(15, 15), facecolor='w')\n",
    "    fig.subplots_adjust(wspace=0, hspace=0.05)\n",
    "    ax1 = plt.subplot2grid((1, 1), (0, 0))\n",
    "\n",
    "    # ECG\n",
    "    ax1.set_title(\n",
    "        'File Name: {}\\nAge: {}\\nSex: {}\\nLabel: {}\\nHR: {} BPM'.format(\n",
    "            filename, meta_data['age'], meta_data['sex'], label, int(meta_data['hr'])\n",
    "        ),\n",
    "        fontsize=20,\n",
    "        loc='left',\n",
    "        x=0,\n",
    "    )\n",
    "    shift = 0\n",
    "    for channel_id in range(waveforms.shape[1]):\n",
    "        ax1.plot(waveforms[:, channel_id] + shift, '-k', lw=2)\n",
    "        ax1.plot(waveforms_resample[:, channel_id] + shift, '-r', lw=2)\n",
    "        ax1.text(0.1, 0.25 + shift, ECG_LEADS[channel_id], color='red', fontsize=16, ha='left')\n",
    "        shift += 3\n",
    "\n",
    "    # Axes labels\n",
    "    ax1.set_xlabel('Time, seconds', fontsize=24)\n",
    "    ax1.set_ylabel('ECG Amplitude, mV', fontsize=24)\n",
    "    # ax1.set_xlim([time.min(), time.max()])\n",
    "    plt.xticks(fontsize=14)\n",
    "    plt.yticks(fontsize=14)\n",
    "\n",
    "    plt.show()\n",
    "\n",
    "    \n",
    "def random_resample(waveform, meta_data, fs_training, probability, max_samples):\n",
    "    \"\"\"Randomly resample waveform.\n",
    "    bradycardia=3, sinus bradycardia=20, sinus tachycardia=22\n",
    "    \"\"\"\n",
    "    if (\n",
    "            meta_data['hr'] != 'nan' and\n",
    "            all(meta_data['labels_training_merged'][label] == 0 for label in [3, 20, 22])\n",
    "    ):\n",
    "        # Get waveform duration\n",
    "        duration = waveform.shape[0] / fs_training\n",
    "\n",
    "        # Physiological limits\n",
    "        hr_new = int(meta_data['hr'] * np.random.uniform(0.9, 1.1))\n",
    "        if hr_new > 300:\n",
    "            hr_new = 300\n",
    "        elif hr_new < 40:\n",
    "            hr_new = 40\n",
    "        else:\n",
    "            pass\n",
    "\n",
    "        # Get new duration\n",
    "        duration_new = duration * meta_data['hr'] / hr_new\n",
    "\n",
    "        # Get number of samples\n",
    "        \n",
    "        samples = int(duration_new * fs_training)\n",
    "        if samples > max_samples:\n",
    "            samples = max_samples\n",
    "\n",
    "        # Resample waveform\n",
    "        waveform = signal.resample_poly(waveform, samples, waveform.shape[0], axis=0).astype(np.float32)\n",
    "\n",
    "        return waveform\n",
    "    else:\n",
    "        return waveform\n",
    "\n",
    "    \n",
    "def _coin_flip(probability):\n",
    "    if random.random() < probability:\n",
    "        return True\n",
    "    return False\n",
    "\n",
    "\n",
    "def waveform_plot_interact(dataset):\n",
    "    \"\"\"Launch interactive plotting widget.\"\"\"\n",
    "    # Set data path\n",
    "    path = os.path.join(DATA_PATH, dataset, 'formatted')\n",
    "\n",
    "    # Get filenames\n",
    "    filenames = [filename.split('.')[0] for filename in os.listdir(path) if 'npy' in filename]\n",
    "\n",
    "    interact(\n",
    "        waveform_plot,\n",
    "        filename_id=IntSlider(value=0, min=0, max=len(filenames) - 1, step=1,),\n",
    "        filenames=fixed(filenames),\n",
    "        path=fixed(path),\n",
    "    )"
   ]
  },
  {
   "cell_type": "code",
   "execution_count": 49,
   "metadata": {},
   "outputs": [
    {
     "data": {
      "application/vnd.jupyter.widget-view+json": {
       "model_id": "fd4f3ba66f55434a9c36370520079b05",
       "version_major": 2,
       "version_minor": 0
      },
      "text/plain": [
       "interactive(children=(IntSlider(value=0, description='filename_id', max=21836), Output()), _dom_classes=('widg…"
      ]
     },
     "metadata": {},
     "output_type": "display_data"
    }
   ],
   "source": [
    "# Plot visualization\n",
    "waveform_plot_interact(dataset='E') # 2680"
   ]
  },
  {
   "cell_type": "code",
   "execution_count": null,
   "metadata": {},
   "outputs": [],
   "source": []
  },
  {
   "cell_type": "code",
   "execution_count": null,
   "metadata": {},
   "outputs": [],
   "source": []
  }
 ],
 "metadata": {
  "kernelspec": {
   "display_name": "Python 3",
   "language": "python",
   "name": "python3"
  },
  "language_info": {
   "codemirror_mode": {
    "name": "ipython",
    "version": 3
   },
   "file_extension": ".py",
   "mimetype": "text/x-python",
   "name": "python",
   "nbconvert_exporter": "python",
   "pygments_lexer": "ipython3",
   "version": "3.7.7"
  }
 },
 "nbformat": 4,
 "nbformat_minor": 4
}
