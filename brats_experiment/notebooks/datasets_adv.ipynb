{
 "cells": [
  {
   "cell_type": "code",
   "execution_count": 2,
   "metadata": {},
   "outputs": [
    {
     "name": "stdout",
     "output_type": "stream",
     "text": [
      "/home/dmitriishubin/Desktop/Thesis/brats_experiment\n"
     ]
    }
   ],
   "source": [
    "cd .."
   ]
  },
  {
   "cell_type": "code",
   "execution_count": 24,
   "metadata": {},
   "outputs": [],
   "source": [
    "import pandas as pd\n",
    "import numpy as np\n",
    "import json"
   ]
  },
  {
   "cell_type": "code",
   "execution_count": 20,
   "metadata": {},
   "outputs": [],
   "source": [
    "df = pd.read_csv('../data/brats/MICCAI_BraTS2020_TrainingData/name_mapping.csv')"
   ]
  },
  {
   "cell_type": "code",
   "execution_count": 21,
   "metadata": {},
   "outputs": [],
   "source": [
    "list1 = df[df['TCGA_TCIA_subject_ID'].notnull()]['BraTS_2020_subject_ID'].tolist()\n",
    "\n",
    "df = df[~df['BraTS_2020_subject_ID'].isin(list1)]\n",
    "\n",
    "\n",
    "list2 = df[df['BraTS_2017_subject_ID'].notnull()]['BraTS_2020_subject_ID'].tolist()\n",
    "\n",
    "df = df[~df['BraTS_2020_subject_ID'].isin(list2)]\n",
    "\n",
    "\n",
    "list3 = df[df['BraTS_2019_subject_ID'].notnull()]['BraTS_2020_subject_ID'].tolist()\n",
    "\n",
    "df = df[~df['BraTS_2020_subject_ID'].isin(list3)]\n",
    "\n",
    "\n",
    "list4 = df[df['BraTS_2020_subject_ID'].notnull()]['BraTS_2020_subject_ID'].tolist()\n",
    "\n",
    "df = df[~df['BraTS_2020_subject_ID'].isin(list4)]"
   ]
  },
  {
   "cell_type": "code",
   "execution_count": 26,
   "metadata": {},
   "outputs": [
    {
     "data": {
      "text/plain": [
       "8912"
      ]
     },
     "execution_count": 26,
     "metadata": {},
     "output_type": "execute_result"
    }
   ],
   "source": [
    "df = {}\n",
    "df['dataset1'] = list1\n",
    "df['dataset2'] = list2\n",
    "df['dataset3'] = list3\n",
    "df['dataset4'] = list4\n",
    "\n",
    "s = json.dumps(df)\n",
    "open(\"./split_table/adversarial_datasets.json\",\"w\").write(s)"
   ]
  },
  {
   "cell_type": "code",
   "execution_count": 23,
   "metadata": {},
   "outputs": [
    {
     "data": {
      "text/plain": [
       "['BraTS20_Training_336',\n",
       " 'BraTS20_Training_337',\n",
       " 'BraTS20_Training_338',\n",
       " 'BraTS20_Training_339',\n",
       " 'BraTS20_Training_340',\n",
       " 'BraTS20_Training_341',\n",
       " 'BraTS20_Training_342',\n",
       " 'BraTS20_Training_343',\n",
       " 'BraTS20_Training_344',\n",
       " 'BraTS20_Training_345',\n",
       " 'BraTS20_Training_346',\n",
       " 'BraTS20_Training_347',\n",
       " 'BraTS20_Training_348',\n",
       " 'BraTS20_Training_349',\n",
       " 'BraTS20_Training_350',\n",
       " 'BraTS20_Training_351',\n",
       " 'BraTS20_Training_352',\n",
       " 'BraTS20_Training_353',\n",
       " 'BraTS20_Training_354',\n",
       " 'BraTS20_Training_355',\n",
       " 'BraTS20_Training_356',\n",
       " 'BraTS20_Training_357',\n",
       " 'BraTS20_Training_358',\n",
       " 'BraTS20_Training_359',\n",
       " 'BraTS20_Training_360',\n",
       " 'BraTS20_Training_361',\n",
       " 'BraTS20_Training_362',\n",
       " 'BraTS20_Training_363',\n",
       " 'BraTS20_Training_364',\n",
       " 'BraTS20_Training_365',\n",
       " 'BraTS20_Training_366',\n",
       " 'BraTS20_Training_367',\n",
       " 'BraTS20_Training_368',\n",
       " 'BraTS20_Training_369']"
      ]
     },
     "execution_count": 23,
     "metadata": {},
     "output_type": "execute_result"
    }
   ],
   "source": [
    "list4"
   ]
  },
  {
   "cell_type": "code",
   "execution_count": 22,
   "metadata": {},
   "outputs": [
    {
     "data": {
      "text/html": [
       "<div>\n",
       "<style scoped>\n",
       "    .dataframe tbody tr th:only-of-type {\n",
       "        vertical-align: middle;\n",
       "    }\n",
       "\n",
       "    .dataframe tbody tr th {\n",
       "        vertical-align: top;\n",
       "    }\n",
       "\n",
       "    .dataframe thead th {\n",
       "        text-align: right;\n",
       "    }\n",
       "</style>\n",
       "<table border=\"1\" class=\"dataframe\">\n",
       "  <thead>\n",
       "    <tr style=\"text-align: right;\">\n",
       "      <th></th>\n",
       "      <th>Grade</th>\n",
       "      <th>BraTS_2017_subject_ID</th>\n",
       "      <th>BraTS_2018_subject_ID</th>\n",
       "      <th>TCGA_TCIA_subject_ID</th>\n",
       "      <th>BraTS_2019_subject_ID</th>\n",
       "      <th>BraTS_2020_subject_ID</th>\n",
       "    </tr>\n",
       "  </thead>\n",
       "  <tbody>\n",
       "  </tbody>\n",
       "</table>\n",
       "</div>"
      ],
      "text/plain": [
       "Empty DataFrame\n",
       "Columns: [Grade, BraTS_2017_subject_ID, BraTS_2018_subject_ID, TCGA_TCIA_subject_ID, BraTS_2019_subject_ID, BraTS_2020_subject_ID]\n",
       "Index: []"
      ]
     },
     "execution_count": 22,
     "metadata": {},
     "output_type": "execute_result"
    }
   ],
   "source": [
    "df"
   ]
  },
  {
   "cell_type": "code",
   "execution_count": 11,
   "metadata": {},
   "outputs": [
    {
     "data": {
      "text/plain": [
       "['BraTS20_Training_158',\n",
       " 'BraTS20_Training_159',\n",
       " 'BraTS20_Training_160',\n",
       " 'BraTS20_Training_161',\n",
       " 'BraTS20_Training_162',\n",
       " 'BraTS20_Training_163',\n",
       " 'BraTS20_Training_164',\n",
       " 'BraTS20_Training_165',\n",
       " 'BraTS20_Training_166',\n",
       " 'BraTS20_Training_167',\n",
       " 'BraTS20_Training_168',\n",
       " 'BraTS20_Training_169',\n",
       " 'BraTS20_Training_170',\n",
       " 'BraTS20_Training_171',\n",
       " 'BraTS20_Training_172',\n",
       " 'BraTS20_Training_173',\n",
       " 'BraTS20_Training_174',\n",
       " 'BraTS20_Training_175',\n",
       " 'BraTS20_Training_176',\n",
       " 'BraTS20_Training_177',\n",
       " 'BraTS20_Training_178',\n",
       " 'BraTS20_Training_179',\n",
       " 'BraTS20_Training_180',\n",
       " 'BraTS20_Training_181',\n",
       " 'BraTS20_Training_182',\n",
       " 'BraTS20_Training_183',\n",
       " 'BraTS20_Training_184',\n",
       " 'BraTS20_Training_185',\n",
       " 'BraTS20_Training_186',\n",
       " 'BraTS20_Training_187',\n",
       " 'BraTS20_Training_188',\n",
       " 'BraTS20_Training_189',\n",
       " 'BraTS20_Training_190',\n",
       " 'BraTS20_Training_191',\n",
       " 'BraTS20_Training_192',\n",
       " 'BraTS20_Training_193',\n",
       " 'BraTS20_Training_194',\n",
       " 'BraTS20_Training_195',\n",
       " 'BraTS20_Training_196',\n",
       " 'BraTS20_Training_197',\n",
       " 'BraTS20_Training_198',\n",
       " 'BraTS20_Training_199',\n",
       " 'BraTS20_Training_200',\n",
       " 'BraTS20_Training_201',\n",
       " 'BraTS20_Training_202',\n",
       " 'BraTS20_Training_203',\n",
       " 'BraTS20_Training_204',\n",
       " 'BraTS20_Training_205',\n",
       " 'BraTS20_Training_206',\n",
       " 'BraTS20_Training_207',\n",
       " 'BraTS20_Training_208',\n",
       " 'BraTS20_Training_209',\n",
       " 'BraTS20_Training_210',\n",
       " 'BraTS20_Training_211',\n",
       " 'BraTS20_Training_212',\n",
       " 'BraTS20_Training_213',\n",
       " 'BraTS20_Training_214',\n",
       " 'BraTS20_Training_215',\n",
       " 'BraTS20_Training_216',\n",
       " 'BraTS20_Training_217',\n",
       " 'BraTS20_Training_218',\n",
       " 'BraTS20_Training_219',\n",
       " 'BraTS20_Training_220',\n",
       " 'BraTS20_Training_221',\n",
       " 'BraTS20_Training_222',\n",
       " 'BraTS20_Training_223',\n",
       " 'BraTS20_Training_224',\n",
       " 'BraTS20_Training_225',\n",
       " 'BraTS20_Training_226',\n",
       " 'BraTS20_Training_227',\n",
       " 'BraTS20_Training_228',\n",
       " 'BraTS20_Training_229',\n",
       " 'BraTS20_Training_230',\n",
       " 'BraTS20_Training_231',\n",
       " 'BraTS20_Training_232',\n",
       " 'BraTS20_Training_233',\n",
       " 'BraTS20_Training_234',\n",
       " 'BraTS20_Training_235',\n",
       " 'BraTS20_Training_236',\n",
       " 'BraTS20_Training_237',\n",
       " 'BraTS20_Training_238',\n",
       " 'BraTS20_Training_239',\n",
       " 'BraTS20_Training_240',\n",
       " 'BraTS20_Training_241',\n",
       " 'BraTS20_Training_242',\n",
       " 'BraTS20_Training_243',\n",
       " 'BraTS20_Training_244',\n",
       " 'BraTS20_Training_245',\n",
       " 'BraTS20_Training_246',\n",
       " 'BraTS20_Training_247',\n",
       " 'BraTS20_Training_248',\n",
       " 'BraTS20_Training_249',\n",
       " 'BraTS20_Training_250',\n",
       " 'BraTS20_Training_251',\n",
       " 'BraTS20_Training_252',\n",
       " 'BraTS20_Training_253',\n",
       " 'BraTS20_Training_254',\n",
       " 'BraTS20_Training_255',\n",
       " 'BraTS20_Training_256',\n",
       " 'BraTS20_Training_257',\n",
       " 'BraTS20_Training_258',\n",
       " 'BraTS20_Training_259',\n",
       " 'BraTS20_Training_271',\n",
       " 'BraTS20_Training_272',\n",
       " 'BraTS20_Training_273',\n",
       " 'BraTS20_Training_274',\n",
       " 'BraTS20_Training_275',\n",
       " 'BraTS20_Training_276',\n",
       " 'BraTS20_Training_277',\n",
       " 'BraTS20_Training_278',\n",
       " 'BraTS20_Training_279',\n",
       " 'BraTS20_Training_280',\n",
       " 'BraTS20_Training_281',\n",
       " 'BraTS20_Training_282',\n",
       " 'BraTS20_Training_283',\n",
       " 'BraTS20_Training_284',\n",
       " 'BraTS20_Training_285',\n",
       " 'BraTS20_Training_286',\n",
       " 'BraTS20_Training_287',\n",
       " 'BraTS20_Training_288',\n",
       " 'BraTS20_Training_289',\n",
       " 'BraTS20_Training_290',\n",
       " 'BraTS20_Training_291',\n",
       " 'BraTS20_Training_292',\n",
       " 'BraTS20_Training_293',\n",
       " 'BraTS20_Training_294',\n",
       " 'BraTS20_Training_295',\n",
       " 'BraTS20_Training_296',\n",
       " 'BraTS20_Training_297',\n",
       " 'BraTS20_Training_298',\n",
       " 'BraTS20_Training_299',\n",
       " 'BraTS20_Training_300',\n",
       " 'BraTS20_Training_301',\n",
       " 'BraTS20_Training_302',\n",
       " 'BraTS20_Training_303',\n",
       " 'BraTS20_Training_304',\n",
       " 'BraTS20_Training_305',\n",
       " 'BraTS20_Training_306',\n",
       " 'BraTS20_Training_307',\n",
       " 'BraTS20_Training_308',\n",
       " 'BraTS20_Training_309',\n",
       " 'BraTS20_Training_310',\n",
       " 'BraTS20_Training_311',\n",
       " 'BraTS20_Training_312',\n",
       " 'BraTS20_Training_313',\n",
       " 'BraTS20_Training_314',\n",
       " 'BraTS20_Training_315',\n",
       " 'BraTS20_Training_316',\n",
       " 'BraTS20_Training_317',\n",
       " 'BraTS20_Training_318',\n",
       " 'BraTS20_Training_319',\n",
       " 'BraTS20_Training_320',\n",
       " 'BraTS20_Training_321',\n",
       " 'BraTS20_Training_322',\n",
       " 'BraTS20_Training_323',\n",
       " 'BraTS20_Training_324',\n",
       " 'BraTS20_Training_325',\n",
       " 'BraTS20_Training_326',\n",
       " 'BraTS20_Training_327',\n",
       " 'BraTS20_Training_328',\n",
       " 'BraTS20_Training_329',\n",
       " 'BraTS20_Training_330',\n",
       " 'BraTS20_Training_331',\n",
       " 'BraTS20_Training_332',\n",
       " 'BraTS20_Training_333',\n",
       " 'BraTS20_Training_334',\n",
       " 'BraTS20_Training_335']"
      ]
     },
     "execution_count": 11,
     "metadata": {},
     "output_type": "execute_result"
    }
   ],
   "source": [
    "list1"
   ]
  },
  {
   "cell_type": "code",
   "execution_count": null,
   "metadata": {},
   "outputs": [],
   "source": []
  }
 ],
 "metadata": {
  "kernelspec": {
   "display_name": "Python 3",
   "language": "python",
   "name": "python3"
  },
  "language_info": {
   "codemirror_mode": {
    "name": "ipython",
    "version": 3
   },
   "file_extension": ".py",
   "mimetype": "text/x-python",
   "name": "python",
   "nbconvert_exporter": "python",
   "pygments_lexer": "ipython3",
   "version": "3.7.9"
  }
 },
 "nbformat": 4,
 "nbformat_minor": 4
}
