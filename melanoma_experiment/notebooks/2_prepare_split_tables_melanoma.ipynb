{
 "cells": [
  {
   "cell_type": "code",
   "execution_count": 1,
   "metadata": {},
   "outputs": [
    {
     "name": "stdout",
     "output_type": "stream",
     "text": [
      "/home/dmitriishubin/Desktop/Thesis/melanoma_experiment\n"
     ]
    }
   ],
   "source": [
    "cd .."
   ]
  },
  {
   "cell_type": "code",
   "execution_count": 16,
   "metadata": {},
   "outputs": [],
   "source": [
    "import wfdb as wb\n",
    "import pandas as pd\n",
    "import numpy as np\n",
    "import os\n",
    "import matplotlib.pyplot as plt\n",
    "from tqdm import tqdm\n",
    "import json\n",
    "from sklearn.model_selection import KFold\n",
    "import cv2"
   ]
  },
  {
   "cell_type": "markdown",
   "metadata": {},
   "source": [
    "# Get list of records"
   ]
  },
  {
   "cell_type": "code",
   "execution_count": 9,
   "metadata": {},
   "outputs": [
    {
     "data": {
      "text/plain": [
       "2056"
      ]
     },
     "execution_count": 9,
     "metadata": {},
     "output_type": "execute_result"
    }
   ],
   "source": [
    "df =  pd.read_csv('../data/melanoma/train.csv')\n",
    "image_name = df['image_name'].unique().tolist()\n",
    "patients = df['patient_id'].unique().tolist()\n",
    "\n",
    "len(patients)"
   ]
  },
  {
   "cell_type": "code",
   "execution_count": 10,
   "metadata": {},
   "outputs": [
    {
     "data": {
      "text/html": [
       "<div>\n",
       "<style scoped>\n",
       "    .dataframe tbody tr th:only-of-type {\n",
       "        vertical-align: middle;\n",
       "    }\n",
       "\n",
       "    .dataframe tbody tr th {\n",
       "        vertical-align: top;\n",
       "    }\n",
       "\n",
       "    .dataframe thead th {\n",
       "        text-align: right;\n",
       "    }\n",
       "</style>\n",
       "<table border=\"1\" class=\"dataframe\">\n",
       "  <thead>\n",
       "    <tr style=\"text-align: right;\">\n",
       "      <th></th>\n",
       "      <th>image_name</th>\n",
       "      <th>patient_id</th>\n",
       "      <th>sex</th>\n",
       "      <th>age_approx</th>\n",
       "      <th>anatom_site_general_challenge</th>\n",
       "      <th>diagnosis</th>\n",
       "      <th>benign_malignant</th>\n",
       "      <th>target</th>\n",
       "    </tr>\n",
       "  </thead>\n",
       "  <tbody>\n",
       "    <tr>\n",
       "      <th>0</th>\n",
       "      <td>ISIC_2637011</td>\n",
       "      <td>IP_7279968</td>\n",
       "      <td>male</td>\n",
       "      <td>45.0</td>\n",
       "      <td>head/neck</td>\n",
       "      <td>unknown</td>\n",
       "      <td>benign</td>\n",
       "      <td>0</td>\n",
       "    </tr>\n",
       "    <tr>\n",
       "      <th>1</th>\n",
       "      <td>ISIC_0015719</td>\n",
       "      <td>IP_3075186</td>\n",
       "      <td>female</td>\n",
       "      <td>45.0</td>\n",
       "      <td>upper extremity</td>\n",
       "      <td>unknown</td>\n",
       "      <td>benign</td>\n",
       "      <td>0</td>\n",
       "    </tr>\n",
       "    <tr>\n",
       "      <th>2</th>\n",
       "      <td>ISIC_0052212</td>\n",
       "      <td>IP_2842074</td>\n",
       "      <td>female</td>\n",
       "      <td>50.0</td>\n",
       "      <td>lower extremity</td>\n",
       "      <td>nevus</td>\n",
       "      <td>benign</td>\n",
       "      <td>0</td>\n",
       "    </tr>\n",
       "    <tr>\n",
       "      <th>3</th>\n",
       "      <td>ISIC_0068279</td>\n",
       "      <td>IP_6890425</td>\n",
       "      <td>female</td>\n",
       "      <td>45.0</td>\n",
       "      <td>head/neck</td>\n",
       "      <td>unknown</td>\n",
       "      <td>benign</td>\n",
       "      <td>0</td>\n",
       "    </tr>\n",
       "    <tr>\n",
       "      <th>4</th>\n",
       "      <td>ISIC_0074268</td>\n",
       "      <td>IP_8723313</td>\n",
       "      <td>female</td>\n",
       "      <td>55.0</td>\n",
       "      <td>upper extremity</td>\n",
       "      <td>unknown</td>\n",
       "      <td>benign</td>\n",
       "      <td>0</td>\n",
       "    </tr>\n",
       "    <tr>\n",
       "      <th>...</th>\n",
       "      <td>...</td>\n",
       "      <td>...</td>\n",
       "      <td>...</td>\n",
       "      <td>...</td>\n",
       "      <td>...</td>\n",
       "      <td>...</td>\n",
       "      <td>...</td>\n",
       "      <td>...</td>\n",
       "    </tr>\n",
       "    <tr>\n",
       "      <th>33121</th>\n",
       "      <td>ISIC_9999134</td>\n",
       "      <td>IP_6526534</td>\n",
       "      <td>male</td>\n",
       "      <td>50.0</td>\n",
       "      <td>torso</td>\n",
       "      <td>unknown</td>\n",
       "      <td>benign</td>\n",
       "      <td>0</td>\n",
       "    </tr>\n",
       "    <tr>\n",
       "      <th>33122</th>\n",
       "      <td>ISIC_9999320</td>\n",
       "      <td>IP_3650745</td>\n",
       "      <td>male</td>\n",
       "      <td>65.0</td>\n",
       "      <td>torso</td>\n",
       "      <td>unknown</td>\n",
       "      <td>benign</td>\n",
       "      <td>0</td>\n",
       "    </tr>\n",
       "    <tr>\n",
       "      <th>33123</th>\n",
       "      <td>ISIC_9999515</td>\n",
       "      <td>IP_2026598</td>\n",
       "      <td>male</td>\n",
       "      <td>20.0</td>\n",
       "      <td>lower extremity</td>\n",
       "      <td>unknown</td>\n",
       "      <td>benign</td>\n",
       "      <td>0</td>\n",
       "    </tr>\n",
       "    <tr>\n",
       "      <th>33124</th>\n",
       "      <td>ISIC_9999666</td>\n",
       "      <td>IP_7702038</td>\n",
       "      <td>male</td>\n",
       "      <td>50.0</td>\n",
       "      <td>lower extremity</td>\n",
       "      <td>unknown</td>\n",
       "      <td>benign</td>\n",
       "      <td>0</td>\n",
       "    </tr>\n",
       "    <tr>\n",
       "      <th>33125</th>\n",
       "      <td>ISIC_9999806</td>\n",
       "      <td>IP_0046310</td>\n",
       "      <td>male</td>\n",
       "      <td>45.0</td>\n",
       "      <td>torso</td>\n",
       "      <td>nevus</td>\n",
       "      <td>benign</td>\n",
       "      <td>0</td>\n",
       "    </tr>\n",
       "  </tbody>\n",
       "</table>\n",
       "<p>33126 rows × 8 columns</p>\n",
       "</div>"
      ],
      "text/plain": [
       "         image_name  patient_id     sex  age_approx  \\\n",
       "0      ISIC_2637011  IP_7279968    male        45.0   \n",
       "1      ISIC_0015719  IP_3075186  female        45.0   \n",
       "2      ISIC_0052212  IP_2842074  female        50.0   \n",
       "3      ISIC_0068279  IP_6890425  female        45.0   \n",
       "4      ISIC_0074268  IP_8723313  female        55.0   \n",
       "...             ...         ...     ...         ...   \n",
       "33121  ISIC_9999134  IP_6526534    male        50.0   \n",
       "33122  ISIC_9999320  IP_3650745    male        65.0   \n",
       "33123  ISIC_9999515  IP_2026598    male        20.0   \n",
       "33124  ISIC_9999666  IP_7702038    male        50.0   \n",
       "33125  ISIC_9999806  IP_0046310    male        45.0   \n",
       "\n",
       "      anatom_site_general_challenge diagnosis benign_malignant  target  \n",
       "0                         head/neck   unknown           benign       0  \n",
       "1                   upper extremity   unknown           benign       0  \n",
       "2                   lower extremity     nevus           benign       0  \n",
       "3                         head/neck   unknown           benign       0  \n",
       "4                   upper extremity   unknown           benign       0  \n",
       "...                             ...       ...              ...     ...  \n",
       "33121                         torso   unknown           benign       0  \n",
       "33122                         torso   unknown           benign       0  \n",
       "33123               lower extremity   unknown           benign       0  \n",
       "33124               lower extremity   unknown           benign       0  \n",
       "33125                         torso     nevus           benign       0  \n",
       "\n",
       "[33126 rows x 8 columns]"
      ]
     },
     "execution_count": 10,
     "metadata": {},
     "output_type": "execute_result"
    }
   ],
   "source": [
    "df"
   ]
  },
  {
   "cell_type": "code",
   "execution_count": 5,
   "metadata": {},
   "outputs": [
    {
     "data": {
      "text/plain": [
       "33126"
      ]
     },
     "execution_count": 5,
     "metadata": {},
     "output_type": "execute_result"
    }
   ],
   "source": [
    "len(image_name)"
   ]
  },
  {
   "cell_type": "code",
   "execution_count": 34,
   "metadata": {},
   "outputs": [],
   "source": [
    "for patient in patients:\n",
    "    df_sub = df[df['patient_id'] == patient]['image_name'].tolist()\n",
    "    \n",
    "    os.makedirs(f'../data/melanoma/processed_data/{patient}',exist_ok=True)\n",
    "    \n",
    "    for image in df_sub:\n",
    "        im= cv2.imread(f'../data/melanoma/jpeg/train/{image}.jpg')\n",
    "        \n",
    "        im = cv2.resize(im,(1024,1024))\n",
    "        cv2.imwrite(f'../data/melanoma/processed_data/{patient}/{image}.jpg',im)"
   ]
  },
  {
   "cell_type": "code",
   "execution_count": 27,
   "metadata": {},
   "outputs": [
    {
     "data": {
      "text/plain": [
       "(4000, 6000, 3)"
      ]
     },
     "execution_count": 27,
     "metadata": {},
     "output_type": "execute_result"
    }
   ],
   "source": [
    "im.shape"
   ]
  },
  {
   "cell_type": "code",
   "execution_count": 14,
   "metadata": {
    "scrolled": true
   },
   "outputs": [
    {
     "data": {
      "text/plain": [
       "['ISIC_2637011',\n",
       " 'ISIC_0078703',\n",
       " 'ISIC_0092726',\n",
       " 'ISIC_0179056',\n",
       " 'ISIC_0229459',\n",
       " 'ISIC_0234146',\n",
       " 'ISIC_0262401',\n",
       " 'ISIC_0281291',\n",
       " 'ISIC_0304703',\n",
       " 'ISIC_0324600',\n",
       " 'ISIC_0448016',\n",
       " 'ISIC_0673183',\n",
       " 'ISIC_0881573',\n",
       " 'ISIC_0924902',\n",
       " 'ISIC_1216822',\n",
       " 'ISIC_1408033',\n",
       " 'ISIC_1426331',\n",
       " 'ISIC_1448835',\n",
       " 'ISIC_1481586',\n",
       " 'ISIC_1495081',\n",
       " 'ISIC_1575034',\n",
       " 'ISIC_1577472',\n",
       " 'ISIC_1614712',\n",
       " 'ISIC_1786464',\n",
       " 'ISIC_1805921',\n",
       " 'ISIC_1858948',\n",
       " 'ISIC_1902401',\n",
       " 'ISIC_2061919',\n",
       " 'ISIC_2284546',\n",
       " 'ISIC_2287151',\n",
       " 'ISIC_2332575',\n",
       " 'ISIC_2399890',\n",
       " 'ISIC_2524432',\n",
       " 'ISIC_2598575',\n",
       " 'ISIC_2753812',\n",
       " 'ISIC_2760737',\n",
       " 'ISIC_2801440',\n",
       " 'ISIC_2828236',\n",
       " 'ISIC_3046033',\n",
       " 'ISIC_3392451',\n",
       " 'ISIC_3393767',\n",
       " 'ISIC_3490992',\n",
       " 'ISIC_3537203',\n",
       " 'ISIC_3584384',\n",
       " 'ISIC_3789239',\n",
       " 'ISIC_3870647',\n",
       " 'ISIC_3932172',\n",
       " 'ISIC_4327406',\n",
       " 'ISIC_4455932',\n",
       " 'ISIC_4547675',\n",
       " 'ISIC_4564163',\n",
       " 'ISIC_4730433',\n",
       " 'ISIC_4787183',\n",
       " 'ISIC_4861375',\n",
       " 'ISIC_4862028',\n",
       " 'ISIC_4901293',\n",
       " 'ISIC_5063645',\n",
       " 'ISIC_5212189',\n",
       " 'ISIC_5252266',\n",
       " 'ISIC_5263581',\n",
       " 'ISIC_5390261',\n",
       " 'ISIC_5404729',\n",
       " 'ISIC_5414643',\n",
       " 'ISIC_5416004',\n",
       " 'ISIC_5552652',\n",
       " 'ISIC_5607667',\n",
       " 'ISIC_5647101',\n",
       " 'ISIC_5732980',\n",
       " 'ISIC_5738369',\n",
       " 'ISIC_5979694',\n",
       " 'ISIC_5994007',\n",
       " 'ISIC_6148723',\n",
       " 'ISIC_6198131',\n",
       " 'ISIC_6401657',\n",
       " 'ISIC_6449065',\n",
       " 'ISIC_6463417',\n",
       " 'ISIC_6599891',\n",
       " 'ISIC_6602905',\n",
       " 'ISIC_6626544',\n",
       " 'ISIC_6705094',\n",
       " 'ISIC_6798517',\n",
       " 'ISIC_6963322',\n",
       " 'ISIC_7000309',\n",
       " 'ISIC_7069003',\n",
       " 'ISIC_7113667',\n",
       " 'ISIC_7154730',\n",
       " 'ISIC_7297759',\n",
       " 'ISIC_7313442',\n",
       " 'ISIC_7402087',\n",
       " 'ISIC_7563949',\n",
       " 'ISIC_7584991',\n",
       " 'ISIC_7605678',\n",
       " 'ISIC_7630073',\n",
       " 'ISIC_7658268',\n",
       " 'ISIC_7852008',\n",
       " 'ISIC_7852890',\n",
       " 'ISIC_7916182',\n",
       " 'ISIC_7959669',\n",
       " 'ISIC_8132777',\n",
       " 'ISIC_8139073',\n",
       " 'ISIC_8323997',\n",
       " 'ISIC_8567442',\n",
       " 'ISIC_8689144',\n",
       " 'ISIC_8843592',\n",
       " 'ISIC_8879126',\n",
       " 'ISIC_9067800',\n",
       " 'ISIC_9123642',\n",
       " 'ISIC_9166979',\n",
       " 'ISIC_9242094',\n",
       " 'ISIC_9317378',\n",
       " 'ISIC_9534415',\n",
       " 'ISIC_9615629',\n",
       " 'ISIC_9672879',\n",
       " 'ISIC_9676432',\n",
       " 'ISIC_9825516']"
      ]
     },
     "execution_count": 14,
     "metadata": {},
     "output_type": "execute_result"
    }
   ],
   "source": [
    "df_sub"
   ]
  },
  {
   "cell_type": "code",
   "execution_count": 6,
   "metadata": {},
   "outputs": [],
   "source": [
    "patients = np.array(patients)\n",
    "\n",
    "kf = KFold(5,shuffle=True,random_state=42)\n",
    "for fold,(train_index, test_index) in enumerate(kf.split(patients)):\n",
    "    \n",
    "    patients_train, patients_test = patients[train_index], patients[test_index]\n",
    "    \n",
    "    split = {\n",
    "        'train': patients_train.tolist(),\n",
    "        'val': patients_test.tolist(),\n",
    "    }\n",
    "    \n",
    "    with open(f'./split_table/{fold}_split_table.json', 'w') as outfile:\n",
    "            json.dump(split, outfile)"
   ]
  },
  {
   "cell_type": "code",
   "execution_count": null,
   "metadata": {},
   "outputs": [],
   "source": []
  }
 ],
 "metadata": {
  "kernelspec": {
   "display_name": "Python 3",
   "language": "python",
   "name": "python3"
  },
  "language_info": {
   "codemirror_mode": {
    "name": "ipython",
    "version": 3
   },
   "file_extension": ".py",
   "mimetype": "text/x-python",
   "name": "python",
   "nbconvert_exporter": "python",
   "pygments_lexer": "ipython3",
   "version": "3.7.9"
  }
 },
 "nbformat": 4,
 "nbformat_minor": 4
}
